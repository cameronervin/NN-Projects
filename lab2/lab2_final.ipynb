{
 "cells": [
  {
   "cell_type": "markdown",
   "metadata": {
    "id": "6VsXhMz6ztaJ"
   },
   "source": [
    "# Transfer Learning and Transformers"
   ]
  },
  {
   "cell_type": "markdown",
   "metadata": {
    "id": "lhA1_0ld0PU8"
   },
   "source": [
    "## Overview"
   ]
  },
  {
   "cell_type": "markdown",
   "metadata": {
    "id": "TBTsei6G0SsZ"
   },
   "source": [
    "### Dataset"
   ]
  },
  {
   "cell_type": "markdown",
   "metadata": {
    "id": "H1xD31z9RxGh"
   },
   "source": [
    "##### **Classification Task:**\n",
    "\n",
    "The classification task in this dataset is to correctly classify a playing card image into one of 53 classes, where each class corresponds to a specific card type and suit combination. This includes 13 card types (from 1 to 10, Jack, Queen, King, and Ace) and 4 suits (diamonds, hearts, spades, and clubs), resulting in a total of 53 possible classes.\n",
    "\n",
    "**Is this Classification Task Single-Task or Multi-Task?**\n",
    "\n",
    "This classification task is considered a single-task classification problem. In multi-task learning, the model is trained to perform multiple related tasks simultaneously. In this dataset, there is only one task: classifying the playing card images into their respective classes. Although there are two aspects to consider (card type and suit), they are not treated as separate tasks but rather as different categories within the same classification task.\n",
    "\n",
    "**Overview of the dataset:**\n",
    "\n",
    "- **Number of Classes**: 53 (13 card types × 4 suits + 1 for \"no card\" class)\n",
    "- **Image Size**: 224 x 224 x 3 (RGB format)\n",
    "- **Training Images**: 7,624\n",
    "- **Test Images**: 265\n",
    "- **Validation Images**: 265\n",
    "- **Directory Structure**: The dataset is partitioned into three directories (train, test, and validation), each containing 53 subdirectories corresponding to the 53 classes. Each subdirectory contains images of a specific card type and suit combination.\n",
    "- **CSV File**: The dataset includes a CSV file that can be used to load and manage the datasets, providing additional metadata if needed.\n",
    "\n",
    "This dataset provides a comprehensive collection of high-quality playing card images suitable for training and evaluating image classification models."
   ]
  },
  {
   "cell_type": "markdown",
   "metadata": {
    "id": "4uyFqfx0TFYb"
   },
   "source": [
    "##### **Feature Data:**\n",
    "\n",
    "In the Card Dataset, the feature data refers to the characteristics or attributes of the playing card images that are used for classification. In this dataset, the feature data consists of the pixel values of the images. Each image is represented as a grid of pixels, where each pixel contains information about the color and intensity at that particular location.\n",
    "\n",
    "Specifically, the feature data in the Card Dataset includes:\n",
    "1. **Image Pixel Values**: Each image in the dataset is represented by a matrix of pixel values, typically organized in height, width, and color channels (e.g., red, green, blue). For example, a 224x224x3 image would have dimensions of 224 pixels in height, 224 pixels in width, and 3 color channels (RGB).\n",
    "\n",
    "These pixel values serve as the input features for the classification model. The model learns patterns and relationships within the pixel values to classify each image into one of the 53 classes corresponding to different types and suits of playing cards.\n",
    "\n",
    "**Data Collection:**\n",
    "\n",
    "Regarding the collection of the data, the source and the entity responsible for collecting the dataset are not explicitly mentioned in the provided information. Without specific details, it's challenging to determine who collected the data, why, and when. However, datasets like these are often collected for various purposes such as research, development of machine learning models for image recognition or classification, educational purposes, or even for recreational purposes like creating playing card games or applications.\n",
    "\n",
    "Typically, such datasets are created by individuals or organizations with an interest in computer vision, artificial intelligence, or gaming-related applications. The collection process may involve sourcing images from various sources, such as public domain image repositories, online databases, or through manual image capture and annotation. As for the timeline of data collection, it can vary widely depending on the context and the objectives of the dataset creators.\n",
    "\n",
    "\n",
    "**Is this data single-modal or multi-modal?**\n",
    "\n",
    "The provided dataset of playing card images is not considered multi-modal. Multi-modal datasets typically contain data from multiple distinct modalities, such as images, text, audio, or sensor data. In this dataset, the modality is consistent throughout, consisting solely of image data in JPG format"
   ]
  },
  {
   "cell_type": "markdown",
   "metadata": {
    "id": "UIdtS_goUkE4"
   },
   "source": [
    "##### **Evaluation Critieria:**\n"
   ]
  },
  {
   "cell_type": "markdown",
   "metadata": {
    "id": "mBHBg0cSVXQd"
   },
   "source": [
    "**Evaluation Metric:**\n",
    "\n",
    "For evaluating the Card dataset classification model, we chose **accuracy** for the reasons listed below.\n",
    "\n",
    "**Balanced Dataset:**\n",
    "\n",
    "Since the dataset is roughly balanced with respect to the number of images in each class, the risk of a biased accuracy metric towards more prevalent classes is minimized. In scenarios where datasets are imbalanced, accuracy can give a skewed perception of model performance, favoring the majority class. However, in our case, the even distribution of classes ensures that the accuracy metric provides a fair evaluation of the model's ability to classify cards correctly.\n",
    "\n",
    "**Cost of Misclassification:**\n",
    "\n",
    "The problem statement does not differentiate between the costs associated with false positives and false negatives. This implies that all types of classification errors are treated equally. Under these circumstances, accuracy, which calculates the proportion of correct predictions (true positives and true negatives) to the total predictions, serves as a suitable metric. It straightforwardly reflects the model's overall performance without needing to account for the varying impacts of different types of errors."
   ]
  },
  {
   "cell_type": "markdown",
   "metadata": {
    "id": "MxfMqn8q0YkV"
   },
   "source": [
    "### Vision Transformer (ViT)"
   ]
  },
  {
   "cell_type": "markdown",
   "metadata": {
    "id": "3up-dA60WP1G"
   },
   "source": [
    "**Overview:**\n",
    "\n",
    "The Vision Transformer (ViT)  is a groundbreaking approach in the field of computer vision, introduced by a team of Google researchers including Alexey Dosovitskiy in the paper \"An Image is Worth 16x16 Words: Transformers for Image Recognition at Scale.\" ViT applies the transformer architecture, which was originally developed for natural language processing tasks, to image classification. The model treats an image as a sequence of patches and processes these patches similarly to how words (tokens) are processed in NLP tasks. Like the original transformer described in the paper writen by Ashish Vaswani, et. al., the ViT uses the concept of attention on these patches. Attention works by computing relevance scores between different parts of the input data. The attention mechanism computes scores to determine how much focus should be placed on components of the image being processed. This is achieved through three main components: queries, keys, and values, which are derived from the input data through learned transformations."
   ]
  },
  {
   "cell_type": "markdown",
   "metadata": {
    "id": "0TONC4OoUiO8"
   },
   "source": [
    "![title](https://huggingface.co/datasets/huggingface/documentation-images/resolve/main/transformers/model_doc/vit_architecture.jpg)"
   ]
  },
  {
   "cell_type": "markdown",
   "metadata": {
    "id": "qW0xySXaWP1H"
   },
   "source": [
    "**ViT Training:**\n",
    "\n",
    "The foundational ViT model was trained on large-scale image datasets such as ImageNet. These datasets cover a wide range of image classification tasks, featuring millions of images across thousands of categories. The training involves learning to correctly classify images into their respective categories based on the visual patterns and features present in the images. In our case, we will use ViT trained on ImageNet-21k.\n",
    "\n",
    "**ViT Training Tasks:**\n",
    "* Image Classification - The primary task ViT was trained on is image classification, where the goal is to assign a single label (or multiple labels) to an image from a predefined set of categories.\n",
    "* General Feature Learning - Although the explicit task is image classification, during training, ViT inherently learns to extract and understand various visual features and patterns, which are useful for a broad range of vision tasks beyond just classification.\n",
    "\n",
    "**Domain Consideration:**\n",
    "\n",
    "The task of classifying images of playing cards falls within the broader domain of image classification, which is the primary domain ViT was trained on. Therefore, the new task is within the same domain as the foundational model's training tasks. However, it's a more specific and potentially narrower task compared to the broad and diverse set of categories found in datasets like ImageNet."
   ]
  },
  {
   "cell_type": "markdown",
   "metadata": {
    "id": "C_REcYwS0n9P"
   },
   "source": [
    "## Code"
   ]
  },
  {
   "cell_type": "markdown",
   "metadata": {
    "id": "n6l67ZPf0qst"
   },
   "source": [
    "### Data Preparation"
   ]
  },
  {
   "cell_type": "code",
   "execution_count": 1,
   "metadata": {
    "id": "Vx1YXpfamnUU"
   },
   "outputs": [],
   "source": [
    "import os\n",
    "import numpy as np\n",
    "import pandas as pd\n",
    "import transformers\n",
    "import tensorflow as tf\n",
    "import math\n",
    "from tensorflow.keras import utils, layers, Sequential, models\n",
    "from tensorflow.keras.preprocessing.image import ImageDataGenerator\n",
    "from tensorflow.keras.layers import Dense, Input, Dropout, GlobalAveragePooling2D, Flatten, Conv2D, BatchNormalization, Activation, MaxPooling2D, LeakyReLU\n",
    "from sklearn.metrics import confusion_matrix, ConfusionMatrixDisplay\n",
    "import seaborn as sns\n",
    "\n",
    "import tqdm.notebook as tqdm\n",
    "import sklearn.model_selection\n",
    "import matplotlib.pyplot as plt\n",
    "import random\n",
    "import pickle\n",
    "import warnings\n",
    "import time\n",
    "warnings.filterwarnings('ignore')"
   ]
  },
  {
   "cell_type": "code",
   "execution_count": 2,
   "metadata": {
    "colab": {
     "base_uri": "https://localhost:8080/"
    },
    "id": "kyUreCyM3LjR",
    "outputId": "ff2ea8c3-a467-489d-fb2d-f06aad819291"
   },
   "outputs": [
    {
     "name": "stdout",
     "output_type": "stream",
     "text": [
      "Mounted at /content/drive\n",
      "Found 7624 files belonging to 53 classes.\n",
      "Found 265 files belonging to 53 classes.\n"
     ]
    }
   ],
   "source": [
    "colab = True\n",
    "\n",
    "if colab:\n",
    "    from google.colab import drive\n",
    "    drive.mount('/content/drive')\n",
    "\n",
    "    import zipfile\n",
    "    with zipfile.ZipFile('/content/drive/MyDrive/archive.zip', 'r') as zip_ref:\n",
    "        zip_ref.extractall('/content/data')\n",
    "        zip_ref.close()\n",
    "\n",
    "    train = utils.image_dataset_from_directory('/content/data/archive/train', image_size=(224,224), batch_size=32)\n",
    "    test = utils.image_dataset_from_directory('/content/data/archive/test', image_size=(224,224), batch_size=32)\n",
    "    folder_path = \"/content/data/archive/\"\n",
    "else:\n",
    "    train = utils.image_dataset_from_directory('/Users/cameronervin/Documents/Spring 2024/CS 8321/Lab 2/data/archive/train', image_size=(224,224), batch_size=32)\n",
    "    test = utils.image_dataset_from_directory('/Users/cameronervin/Documents/Spring 2024/CS 8321/Lab 2/data/archive/test', image_size=(224,224), batch_size=32)\n",
    "    folder_path = \"/Users/cameronervin/Documents/Spring 2024/CS 8321/Lab 2/data/archive/\""
   ]
  },
  {
   "cell_type": "code",
   "execution_count": 3,
   "metadata": {
    "id": "PkbVZK5rmnUY"
   },
   "outputs": [],
   "source": [
    "class_names = train.class_names"
   ]
  },
  {
   "cell_type": "code",
   "execution_count": 4,
   "metadata": {
    "colab": {
     "base_uri": "https://localhost:8080/",
     "height": 347
    },
    "id": "iLZAFXfnmnUY",
    "outputId": "49725231-73c3-4bb0-d48b-552e326b9238"
   },
   "outputs": [
    {
     "data": {
      "image/png": "[encoded data removed]",
      "text/plain": [
       "<Figure size 1500x500 with 3 Axes>"
      ]
     },
     "metadata": {},
     "output_type": "display_data"
    }
   ],
   "source": [
    "def show_images(images, labels, class_names):\n",
    "    plt.figure(figsize=(15, 5))\n",
    "\n",
    "    for i in range(3):\n",
    "        plt.subplot(1, 3, i + 1)\n",
    "        plt.imshow(images[i].numpy().astype(\"uint8\"))\n",
    "        plt.title(class_names[labels[i]])\n",
    "        plt.axis(\"off\")\n",
    "\n",
    "    plt.show()\n",
    "\n",
    "for images, labels in train.take(1):\n",
    "    show_images(images, labels, class_names)"
   ]
  },
  {
   "cell_type": "markdown",
   "metadata": {
    "id": "NBx2ynlG01BM"
   },
   "source": [
    "### Models"
   ]
  },
  {
   "cell_type": "markdown",
   "metadata": {
    "id": "wS6hi2Vm08wO"
   },
   "source": [
    "#### Building a Model From Scratch"
   ]
  },
  {
   "cell_type": "markdown",
   "metadata": {
    "id": "pcvJso3cWP1J"
   },
   "source": [
    "For our model built from scratch, we will create a Convolutional Neural Network. First, let's load our data in seperately from our previous data load because we will also augment our data before running it through our CNN."
   ]
  },
  {
   "cell_type": "code",
   "execution_count": 5,
   "metadata": {
    "colab": {
     "base_uri": "https://localhost:8080/"
    },
    "id": "_dHXPC29osen",
    "outputId": "8905273d-7ab2-401f-eda7-f1430f19af81"
   },
   "outputs": [
    {
     "name": "stdout",
     "output_type": "stream",
     "text": [
      "Found 7624 images belonging to 53 classes.\n",
      "Found 265 images belonging to 53 classes.\n",
      "Found 265 images belonging to 53 classes.\n"
     ]
    }
   ],
   "source": [
    "batch_size  = 32\n",
    "img_size = 48\n",
    "\n",
    "datagen_train = ImageDataGenerator(horizontal_flip = True,\n",
    "                                    brightness_range=(0.,2.),\n",
    "                                    rescale=1./255,\n",
    "                                    shear_range=0.3)\n",
    "\n",
    "train_set = datagen_train.flow_from_directory(folder_path + \"train\",\n",
    "                                              target_size = (img_size, img_size),\n",
    "                                              color_mode = 'grayscale' ,\n",
    "                                              batch_size = batch_size,\n",
    "                                              class_mode = 'categorical',\n",
    "                                              classes = class_names,\n",
    "                                              shuffle = True)\n",
    "\n",
    "\n",
    "datagen_validation = ImageDataGenerator(horizontal_flip = True,\n",
    "                                        brightness_range=(0.,2.),\n",
    "                                        rescale=1./255,\n",
    "                                        shear_range=0.3)\n",
    "\n",
    "validation_set = datagen_validation.flow_from_directory(folder_path + \"valid\",\n",
    "                                                              target_size = (img_size,img_size),\n",
    "                                                              color_mode = 'grayscale',\n",
    "                                                              batch_size = batch_size,\n",
    "                                                              class_mode = 'categorical',\n",
    "                                                              classes = class_names,\n",
    "                                                              shuffle = False)\n",
    "\n",
    "\n",
    "datagen_test = ImageDataGenerator(horizontal_flip = True,\n",
    "                                  brightness_range=(0.,2.),\n",
    "                                  rescale=1./255,\n",
    "                                  shear_range=0.3)\n",
    "\n",
    "test_set = datagen_test.flow_from_directory(folder_path + \"test\",\n",
    "                                                  target_size = (img_size,img_size),\n",
    "                                                  color_mode = 'grayscale',\n",
    "                                                  batch_size = batch_size,\n",
    "                                                  classes = class_names,\n",
    "                                                  class_mode = 'categorical',\n",
    "                                                  shuffle = False)"
   ]
  },
  {
   "cell_type": "markdown",
   "metadata": {
    "id": "IrnZbtAXWP1K"
   },
   "source": [
    "Next, we will define our CNN model."
   ]
  },
  {
   "cell_type": "code",
   "execution_count": 6,
   "metadata": {
    "colab": {
     "base_uri": "https://localhost:8080/"
    },
    "id": "GtnL64Nx1PKc",
    "outputId": "6e4a0db3-2653-4a7e-80e5-a251936266a9"
   },
   "outputs": [
    {
     "name": "stdout",
     "output_type": "stream",
     "text": [
      "Model: \"sequential\"\n",
      "_________________________________________________________________\n",
      " Layer (type)                Output Shape              Param #   \n",
      "=================================================================\n",
      " conv2d (Conv2D)             (None, 48, 48, 32)        160       \n",
      "                                                                 \n",
      " dropout (Dropout)           (None, 48, 48, 32)        0         \n",
      "                                                                 \n",
      " batch_normalization (Batch  (None, 48, 48, 32)        128       \n",
      " Normalization)                                                  \n",
      "                                                                 \n",
      " leaky_re_lu (LeakyReLU)     (None, 48, 48, 32)        0         \n",
      "                                                                 \n",
      " max_pooling2d (MaxPooling2  (None, 24, 24, 32)        0         \n",
      " D)                                                              \n",
      "                                                                 \n",
      " conv2d_1 (Conv2D)           (None, 24, 24, 64)        8256      \n",
      "                                                                 \n",
      " dropout_1 (Dropout)         (None, 24, 24, 64)        0         \n",
      "                                                                 \n",
      " batch_normalization_1 (Bat  (None, 24, 24, 64)        256       \n",
      " chNormalization)                                                \n",
      "                                                                 \n",
      " leaky_re_lu_1 (LeakyReLU)   (None, 24, 24, 64)        0         \n",
      "                                                                 \n",
      " max_pooling2d_1 (MaxPoolin  (None, 12, 12, 64)        0         \n",
      " g2D)                                                            \n",
      "                                                                 \n",
      " conv2d_2 (Conv2D)           (None, 12, 12, 128)       32896     \n",
      "                                                                 \n",
      " dropout_2 (Dropout)         (None, 12, 12, 128)       0         \n",
      "                                                                 \n",
      " batch_normalization_2 (Bat  (None, 12, 12, 128)       512       \n",
      " chNormalization)                                                \n",
      "                                                                 \n",
      " leaky_re_lu_2 (LeakyReLU)   (None, 12, 12, 128)       0         \n",
      "                                                                 \n",
      " max_pooling2d_2 (MaxPoolin  (None, 6, 6, 128)         0         \n",
      " g2D)                                                            \n",
      "                                                                 \n",
      " conv2d_3 (Conv2D)           (None, 6, 6, 256)         131328    \n",
      "                                                                 \n",
      " dropout_3 (Dropout)         (None, 6, 6, 256)         0         \n",
      "                                                                 \n",
      " batch_normalization_3 (Bat  (None, 6, 6, 256)         1024      \n",
      " chNormalization)                                                \n",
      "                                                                 \n",
      " leaky_re_lu_3 (LeakyReLU)   (None, 6, 6, 256)         0         \n",
      "                                                                 \n",
      " max_pooling2d_3 (MaxPoolin  (None, 3, 3, 256)         0         \n",
      " g2D)                                                            \n",
      "                                                                 \n",
      " flatten (Flatten)           (None, 2304)              0         \n",
      "                                                                 \n",
      " dense (Dense)               (None, 512)               1180160   \n",
      "                                                                 \n",
      " dense_1 (Dense)             (None, 128)               65664     \n",
      "                                                                 \n",
      " dense_2 (Dense)             (None, 53)                6837      \n",
      "                                                                 \n",
      "=================================================================\n",
      "Total params: 1427221 (5.44 MB)\n",
      "Trainable params: 1426261 (5.44 MB)\n",
      "Non-trainable params: 960 (3.75 KB)\n",
      "_________________________________________________________________\n"
     ]
    }
   ],
   "source": [
    "# Creating sequential model\n",
    "cnn = Sequential()\n",
    "\n",
    "# Adding the first Convolutional block\n",
    "cnn.add(Conv2D(filters = 32, kernel_size = 2, padding = \"same\", activation = \"relu\", input_shape = (48, 48, 1)))\n",
    "cnn.add(Dropout(0.2))\n",
    "cnn.add(BatchNormalization())\n",
    "cnn.add(LeakyReLU(0.1))\n",
    "cnn.add(MaxPooling2D(pool_size = 2))\n",
    "\n",
    "# Adding the second Convolutional block\n",
    "cnn.add(Conv2D(filters = 64, kernel_size = 2, padding = \"same\", activation = \"relu\"))\n",
    "cnn.add(Dropout(0.2))\n",
    "cnn.add(BatchNormalization())\n",
    "cnn.add(LeakyReLU(0.1))\n",
    "cnn.add(MaxPooling2D(pool_size = 2))\n",
    "\n",
    "# Adding the third Convolutional block\n",
    "cnn.add(Conv2D(filters = 128, kernel_size = 2, padding = \"same\", activation = \"relu\"))\n",
    "cnn.add(Dropout(0.2))\n",
    "cnn.add(BatchNormalization())\n",
    "cnn.add(LeakyReLU(0.1))\n",
    "cnn.add(MaxPooling2D(pool_size = 2))\n",
    "\n",
    "# Adding the fourth Convolutional block\n",
    "cnn.add(Conv2D(filters = 256, kernel_size = 2, padding = \"same\", activation = \"relu\"))\n",
    "cnn.add(Dropout(0.2))\n",
    "cnn.add(BatchNormalization())\n",
    "cnn.add(LeakyReLU(0.1))\n",
    "cnn.add(MaxPooling2D(pool_size = 2))\n",
    "\n",
    "# Adding the Flatten layer\n",
    "cnn.add(Flatten())\n",
    "\n",
    "# Adding Dense layers\n",
    "cnn.add(Dense(512, activation = \"relu\"))\n",
    "cnn.add(Dense(128, activation = \"relu\"))\n",
    "cnn.add(Dense(53, activation = \"softmax\"))\n",
    "\n",
    "cnn.summary()"
   ]
  },
  {
   "cell_type": "code",
   "execution_count": 7,
   "metadata": {
    "id": "qzKtrGtU2fGW"
   },
   "outputs": [],
   "source": [
    "if colab:\n",
    "  from tensorflow.keras.optimizers import Adam\n",
    "\n",
    "  optimizer = tf.optimizers.Adam\n",
    "else:\n",
    "  optimizer = tf.keras.optimizers.legacy.Adam\n",
    "\n",
    "cnn.compile(optimizer=optimizer(learning_rate=1e-3),\n",
    "              loss='categorical_crossentropy',\n",
    "              metrics=[\"accuracy\"])"
   ]
  },
  {
   "cell_type": "markdown",
   "metadata": {
    "id": "ErAUZd4eZBML"
   },
   "source": [
    "We will also add a callback function to save our history to csv. We will use our CSV files to perform statistical analysis."
   ]
  },
  {
   "cell_type": "code",
   "execution_count": 8,
   "metadata": {
    "id": "DSI-BaXsms6v"
   },
   "outputs": [],
   "source": [
    "csv_logger = tf.keras.callbacks.CSVLogger('cnn_metrics.csv')"
   ]
  },
  {
   "cell_type": "code",
   "execution_count": 9,
   "metadata": {
    "id": "fVeUZ7U9osep"
   },
   "outputs": [],
   "source": [
    "callbacks = tf.keras.callbacks.EarlyStopping(monitor='val_accuracy', patience=10, restore_best_weights=True)"
   ]
  },
  {
   "cell_type": "markdown",
   "metadata": {
    "id": "QmX0bzg5WP1L"
   },
   "source": [
    "We will run our model to convergence with an early stopping callback if the model does not improve in 10 epochs."
   ]
  },
  {
   "cell_type": "code",
   "execution_count": 10,
   "metadata": {
    "colab": {
     "base_uri": "https://localhost:8080/"
    },
    "id": "eoDwCcUT2lrn",
    "outputId": "b0c51bff-db1f-4680-d816-81cfe71e4b23"
   },
   "outputs": [
    {
     "name": "stdout",
     "output_type": "stream",
     "text": [
      "Epoch 1/200\n",
      "238/238 [==============================] - 21s 54ms/step - loss: 3.7768 - accuracy: 0.0720 - val_loss: 4.0563 - val_accuracy: 0.0195\n",
      "Epoch 2/200\n",
      "238/238 [==============================] - 12s 51ms/step - loss: 3.1061 - accuracy: 0.1774 - val_loss: 3.5218 - val_accuracy: 0.0820\n",
      "Epoch 3/200\n",
      "238/238 [==============================] - 12s 51ms/step - loss: 2.5749 - accuracy: 0.2641 - val_loss: 2.3503 - val_accuracy: 0.3477\n",
      "Epoch 4/200\n",
      "238/238 [==============================] - 12s 50ms/step - loss: 2.2709 - accuracy: 0.3533 - val_loss: 1.8962 - val_accuracy: 0.4180\n",
      "Epoch 5/200\n",
      "238/238 [==============================] - 12s 50ms/step - loss: 2.0591 - accuracy: 0.4175 - val_loss: 1.6207 - val_accuracy: 0.5352\n",
      "Epoch 6/200\n",
      "238/238 [==============================] - 12s 51ms/step - loss: 1.9223 - accuracy: 0.4589 - val_loss: 1.5414 - val_accuracy: 0.5391\n",
      "Epoch 7/200\n",
      "238/238 [==============================] - 12s 51ms/step - loss: 1.8011 - accuracy: 0.4949 - val_loss: 1.5275 - val_accuracy: 0.5586\n",
      "Epoch 8/200\n",
      "238/238 [==============================] - 12s 51ms/step - loss: 1.6952 - accuracy: 0.5207 - val_loss: 1.3327 - val_accuracy: 0.6367\n",
      "Epoch 9/200\n",
      "238/238 [==============================] - 12s 51ms/step - loss: 1.6147 - accuracy: 0.5444 - val_loss: 1.5209 - val_accuracy: 0.5469\n",
      "Epoch 10/200\n",
      "238/238 [==============================] - 12s 51ms/step - loss: 1.5513 - accuracy: 0.5616 - val_loss: 1.2557 - val_accuracy: 0.6211\n",
      "Epoch 11/200\n",
      "238/238 [==============================] - 12s 51ms/step - loss: 1.4763 - accuracy: 0.5778 - val_loss: 1.1556 - val_accuracy: 0.6719\n",
      "Epoch 12/200\n",
      "238/238 [==============================] - 12s 52ms/step - loss: 1.4488 - accuracy: 0.5817 - val_loss: 1.1500 - val_accuracy: 0.6562\n",
      "Epoch 13/200\n",
      "238/238 [==============================] - 12s 51ms/step - loss: 1.3977 - accuracy: 0.5947 - val_loss: 1.1486 - val_accuracy: 0.6406\n",
      "Epoch 14/200\n",
      "238/238 [==============================] - 12s 51ms/step - loss: 1.3375 - accuracy: 0.6166 - val_loss: 1.1286 - val_accuracy: 0.6680\n",
      "Epoch 15/200\n",
      "238/238 [==============================] - 12s 50ms/step - loss: 1.3138 - accuracy: 0.6196 - val_loss: 1.0619 - val_accuracy: 0.7305\n",
      "Epoch 16/200\n",
      "238/238 [==============================] - 12s 50ms/step - loss: 1.2477 - accuracy: 0.6353 - val_loss: 1.0565 - val_accuracy: 0.6914\n",
      "Epoch 17/200\n",
      "238/238 [==============================] - 12s 51ms/step - loss: 1.2290 - accuracy: 0.6487 - val_loss: 1.0465 - val_accuracy: 0.6992\n",
      "Epoch 18/200\n",
      "238/238 [==============================] - 12s 50ms/step - loss: 1.1913 - accuracy: 0.6545 - val_loss: 1.2216 - val_accuracy: 0.6680\n",
      "Epoch 19/200\n",
      "238/238 [==============================] - 12s 51ms/step - loss: 1.1682 - accuracy: 0.6598 - val_loss: 1.0231 - val_accuracy: 0.7148\n",
      "Epoch 20/200\n",
      "238/238 [==============================] - 12s 51ms/step - loss: 1.1156 - accuracy: 0.6682 - val_loss: 1.1051 - val_accuracy: 0.6836\n",
      "Epoch 21/200\n",
      "238/238 [==============================] - 12s 50ms/step - loss: 1.0818 - accuracy: 0.6791 - val_loss: 0.9776 - val_accuracy: 0.7422\n",
      "Epoch 22/200\n",
      "238/238 [==============================] - 12s 50ms/step - loss: 1.0592 - accuracy: 0.6847 - val_loss: 1.0918 - val_accuracy: 0.7266\n",
      "Epoch 23/200\n",
      "238/238 [==============================] - 12s 51ms/step - loss: 1.0211 - accuracy: 0.6986 - val_loss: 0.9068 - val_accuracy: 0.7656\n",
      "Epoch 24/200\n",
      "238/238 [==============================] - 12s 51ms/step - loss: 0.9781 - accuracy: 0.7118 - val_loss: 0.9248 - val_accuracy: 0.7227\n",
      "Epoch 25/200\n",
      "238/238 [==============================] - 12s 51ms/step - loss: 0.9775 - accuracy: 0.7142 - val_loss: 0.8728 - val_accuracy: 0.7539\n",
      "Epoch 26/200\n",
      "238/238 [==============================] - 12s 51ms/step - loss: 0.9428 - accuracy: 0.7204 - val_loss: 0.8524 - val_accuracy: 0.7500\n",
      "Epoch 27/200\n",
      "238/238 [==============================] - 12s 51ms/step - loss: 0.9133 - accuracy: 0.7252 - val_loss: 0.9103 - val_accuracy: 0.7305\n",
      "Epoch 28/200\n",
      "238/238 [==============================] - 12s 51ms/step - loss: 0.8739 - accuracy: 0.7397 - val_loss: 0.8880 - val_accuracy: 0.7969\n",
      "Epoch 29/200\n",
      "238/238 [==============================] - 12s 52ms/step - loss: 0.8922 - accuracy: 0.7359 - val_loss: 1.0438 - val_accuracy: 0.7266\n",
      "Epoch 30/200\n",
      "238/238 [==============================] - 12s 51ms/step - loss: 0.8456 - accuracy: 0.7488 - val_loss: 0.9758 - val_accuracy: 0.7578\n",
      "Epoch 31/200\n",
      "238/238 [==============================] - 12s 50ms/step - loss: 0.8259 - accuracy: 0.7529 - val_loss: 0.8908 - val_accuracy: 0.7773\n",
      "Epoch 32/200\n",
      "238/238 [==============================] - 12s 51ms/step - loss: 0.7710 - accuracy: 0.7674 - val_loss: 0.9657 - val_accuracy: 0.7305\n",
      "Epoch 33/200\n",
      "238/238 [==============================] - 12s 51ms/step - loss: 0.7800 - accuracy: 0.7667 - val_loss: 0.8592 - val_accuracy: 0.7422\n",
      "Epoch 34/200\n",
      "238/238 [==============================] - 12s 51ms/step - loss: 0.7613 - accuracy: 0.7674 - val_loss: 0.8523 - val_accuracy: 0.7773\n",
      "Epoch 35/200\n",
      "238/238 [==============================] - 12s 51ms/step - loss: 0.7427 - accuracy: 0.7786 - val_loss: 0.9031 - val_accuracy: 0.7695\n",
      "Epoch 36/200\n",
      "238/238 [==============================] - 12s 51ms/step - loss: 0.7232 - accuracy: 0.7769 - val_loss: 0.8737 - val_accuracy: 0.7734\n",
      "Epoch 37/200\n",
      "238/238 [==============================] - 12s 52ms/step - loss: 0.7024 - accuracy: 0.7873 - val_loss: 0.8734 - val_accuracy: 0.7656\n",
      "Epoch 38/200\n",
      "238/238 [==============================] - 12s 52ms/step - loss: 0.6649 - accuracy: 0.8026 - val_loss: 0.9550 - val_accuracy: 0.7500\n",
      "CNN Time: 470.73556637763977\n"
     ]
    }
   ],
   "source": [
    "start = time.time()\n",
    "\n",
    "cnn_history = cnn.fit(train_set,\n",
    "                 steps_per_epoch = train_set.n//train_set.batch_size,\n",
    "                 epochs = 200,\n",
    "                 validation_data = validation_set,\n",
    "                 validation_steps = validation_set.n//validation_set.batch_size,\n",
    "                 validation_split=0.2,\n",
    "                 callbacks=[callbacks,csv_logger]\n",
    ")\n",
    "\n",
    "cnn_time = time.time() - start\n",
    "print(\"CNN Time:\", cnn_time)"
   ]
  },
  {
   "cell_type": "markdown",
   "metadata": {
    "id": "GNkpNxEkWP1L"
   },
   "source": [
    "Let's visualize our CNN model's performance."
   ]
  },
  {
   "cell_type": "code",
   "execution_count": 11,
   "metadata": {
    "id": "SPa_BmIZWP1L"
   },
   "outputs": [],
   "source": [
    "def plot_training_validation_acc(history, name, smooth=False, smooth_factor=0.8):\n",
    "    def smooth_curve(points, factor=0.8):\n",
    "        smoothed_points = []\n",
    "        for point in points:\n",
    "            if smoothed_points:\n",
    "                previous = smoothed_points[-1]\n",
    "                smoothed_points.append(previous * factor + point * (1 - factor))\n",
    "            else:\n",
    "                smoothed_points.append(point)\n",
    "        return smoothed_points\n",
    "\n",
    "    acc = history.history['accuracy']\n",
    "    val_acc = history.history['val_accuracy']\n",
    "    loss = history.history['loss']\n",
    "    val_loss = history.history['val_loss']\n",
    "\n",
    "    if smooth:\n",
    "        acc = smooth_curve(acc)\n",
    "        val_acc = smooth_curve(val_acc)\n",
    "        loss = smooth_curve(loss)\n",
    "        val_loss = smooth_curve(val_loss)\n",
    "\n",
    "    epochs = range(len(acc))\n",
    "\n",
    "    plt.plot(epochs, acc, 'bo', label='Training acc')\n",
    "    plt.plot(epochs, val_acc, 'b', label='Validation acc')\n",
    "    plt.title('Training and validation accuracy')\n",
    "    plt.legend()\n",
    "\n",
    "    plt.savefig(f\"{name}_accuracy.png\")\n",
    "\n",
    "    plt.figure()\n",
    "\n",
    "    plt.plot(epochs, loss, 'bo', label='Training loss')\n",
    "    plt.plot(epochs, val_loss, 'b', label='Validation loss')\n",
    "    plt.title('Training and validation loss')\n",
    "    plt.legend()\n",
    "\n",
    "    plt.savefig(f\"{name}_loss.png\")\n",
    "\n",
    "    plt.show()"
   ]
  },
  {
   "cell_type": "code",
   "execution_count": 12,
   "metadata": {
    "colab": {
     "base_uri": "https://localhost:8080/",
     "height": 887
    },
    "id": "TSCvTI2-WP1L",
    "outputId": "61e1653f-00f6-4b3b-e3a1-b2b0fbf458dd"
   },
   "outputs": [
    {
     "data": {
      "image/png": "[encoded data removed]",
      "text/plain": [
       "<Figure size 640x480 with 1 Axes>"
      ]
     },
     "metadata": {},
     "output_type": "display_data"
    },
    {
     "data": {
      "image/png": "[encoded data removed]",
      "text/plain": [
       "<Figure size 640x480 with 1 Axes>"
      ]
     },
     "metadata": {},
     "output_type": "display_data"
    }
   ],
   "source": [
    "plot_training_validation_acc(cnn_history, name = \"CNN\", smooth = True)"
   ]
  },
  {
   "cell_type": "code",
   "execution_count": 13,
   "metadata": {
    "colab": {
     "base_uri": "https://localhost:8080/"
    },
    "id": "9XFYtjQZWP1L",
    "outputId": "abcc6387-bbee-4f31-ab17-d4ca023824c2"
   },
   "outputs": [
    {
     "name": "stdout",
     "output_type": "stream",
     "text": [
      "9/9 [==============================] - 1s 75ms/step - loss: 1.1129 - accuracy: 0.6792\n",
      "test acc: 0.6792452931404114\n"
     ]
    }
   ],
   "source": [
    "cnn_test_loss, cnn_test_acc = cnn.evaluate(test_set)\n",
    "print('test acc:', cnn_test_acc)"
   ]
  },
  {
   "cell_type": "markdown",
   "metadata": {
    "id": "B0otcaJ8qGaI"
   },
   "source": [
    "We will also, use the pickle library to save our performance metrics for later analysis."
   ]
  },
  {
   "cell_type": "code",
   "execution_count": 14,
   "metadata": {
    "id": "9HkQYzQotUh4"
   },
   "outputs": [],
   "source": [
    "f = open('store_cnn.pckl', 'wb')\n",
    "pickle.dump([cnn_history,cnn_test_loss,cnn_test_acc,cnn_time],f)\n",
    "f.close()"
   ]
  },
  {
   "cell_type": "markdown",
   "metadata": {
    "id": "G5tD2wW31RLW"
   },
   "source": [
    "#### Building a Model with Transfer Learning Using a Transformer"
   ]
  },
  {
   "cell_type": "markdown",
   "metadata": {
    "id": "mR5dKG2hKF_0"
   },
   "source": [
    "First, we load our ViT from Hugging Face using the TFViTModel package from the Hugging Face transformers library. We use the base ViT with size 32x32 patches. Furthermore, our ViT was trained using images with 224x224 pixels from the ImageNet-21k dataset."
   ]
  },
  {
   "cell_type": "code",
   "execution_count": 15,
   "metadata": {
    "colab": {
     "base_uri": "https://localhost:8080/",
     "height": 356,
     "referenced_widgets": [
      "b9f39f4583134d3694abe9fb638830d1",
      "4acb5e5099b6444bb8d008c1a062cafc",
      "ec3aa8884544484ab39d7130a580006a",
      "3615d953b6f44366867743f02b606ab0",
      "2974f73fc15447fb97ecc8018fee745e",
      "fd115dfdbc5d4099b14241dfc23dd080",
      "9d1f45b83f30404fa4145e5a3e5fce14",
      "4f11b1d4f185436a8358436e705c2f42",
      "5b9be0338a2743a98d7236e26539c581",
      "56be9a4a443248a9b1e3a8c0ebcbc9b8",
      "b9662e9a35fb46f09fcf6372fd8939da",
      "bc7c042d7f8f4f41b31ed24c0ddc504f",
      "80960ccf6d6d4a0cad68ef97424fd6c8",
      "f6cd04eb6a3b4a908497a81e7558b0ec",
      "ac576bfb152f45a589a5378f2ccf3a9a",
      "be742701c7704173995c7d627c20fe3c",
      "18c2d85f486f4d1a9f87182f896b335b",
      "b0aeb100c68e4035a27f30925ae16ea5",
      "dad642c20ade48679918fcf523ca95fe",
      "490a02593da94dcb98e1e97fcbf05614",
      "5a95f89d493046baad99a127005425dc",
      "1fa4cdaf8def47a0b92748fa4665cb31"
     ]
    },
    "id": "rYxa9TDrmnUZ",
    "outputId": "9dc61abf-f6e5-4917-c9b1-58d3af8a91f5"
   },
   "outputs": [
    {
     "data": {
      "application/vnd.jupyter.widget-view+json": {
       "model_id": "b9f39f4583134d3694abe9fb638830d1",
       "version_major": 2,
       "version_minor": 0
      },
      "text/plain": [
       "config.json:   0%|          | 0.00/502 [00:00<?, ?B/s]"
      ]
     },
     "metadata": {},
     "output_type": "display_data"
    },
    {
     "data": {
      "application/vnd.jupyter.widget-view+json": {
       "model_id": "bc7c042d7f8f4f41b31ed24c0ddc504f",
       "version_major": 2,
       "version_minor": 0
      },
      "text/plain": [
       "model.safetensors:   0%|          | 0.00/352M [00:00<?, ?B/s]"
      ]
     },
     "metadata": {},
     "output_type": "display_data"
    },
    {
     "name": "stderr",
     "output_type": "stream",
     "text": [
      "All PyTorch model weights were used when initializing TFViTModel.\n",
      "\n",
      "All the weights of TFViTModel were initialized from the PyTorch model.\n",
      "If your task is similar to the task the model of the checkpoint was trained on, you can already use TFViTModel for predictions without further training.\n"
     ]
    },
    {
     "name": "stdout",
     "output_type": "stream",
     "text": [
      "Model: \"tf_vi_t_model\"\n",
      "_________________________________________________________________\n",
      " Layer (type)                Output Shape              Param #   \n",
      "=================================================================\n",
      " vit (TFViTMainLayer)        multiple                  88045824  \n",
      "                                                                 \n",
      "=================================================================\n",
      "Total params: 88045824 (335.87 MB)\n",
      "Trainable params: 88045824 (335.87 MB)\n",
      "Non-trainable params: 0 (0.00 Byte)\n",
      "_________________________________________________________________\n"
     ]
    }
   ],
   "source": [
    "base_model = transformers.TFViTModel.from_pretrained(\"google/vit-base-patch32-224-in21k\")\n",
    "base_model.summary()"
   ]
  },
  {
   "cell_type": "markdown",
   "metadata": {
    "id": "Msjy3LYiK8UR"
   },
   "source": [
    "Based on the summary above, we know that our ViT is represented by one layer with many different sub-layers including our 12 attention heads. The gradients and trainable components of our ViT are set to trainable by default. We will freeze all attention heads so we can fine tune later."
   ]
  },
  {
   "cell_type": "code",
   "execution_count": 16,
   "metadata": {
    "colab": {
     "base_uri": "https://localhost:8080/"
    },
    "id": "yT14FRcipNiH",
    "outputId": "2da5697a-591b-41da-ad42-2866a702d9a9"
   },
   "outputs": [
    {
     "name": "stdout",
     "output_type": "stream",
     "text": [
      "Attention Head 0 Trainable: False\n",
      "Attention Head 1 Trainable: False\n",
      "Attention Head 2 Trainable: False\n",
      "Attention Head 3 Trainable: False\n",
      "Attention Head 4 Trainable: False\n",
      "Attention Head 5 Trainable: False\n",
      "Attention Head 6 Trainable: False\n",
      "Attention Head 7 Trainable: False\n",
      "Attention Head 8 Trainable: False\n",
      "Attention Head 9 Trainable: False\n",
      "Attention Head 10 Trainable: False\n",
      "Attention Head 11 Trainable: False\n"
     ]
    }
   ],
   "source": [
    "vit_layer = base_model.get_layer(\"vit\")\n",
    "\n",
    "for attn_head in vit_layer.encoder.layer:\n",
    "    attn_head.trainable = False\n",
    "\n",
    "for i, attn_head in enumerate(vit_layer.encoder.layer):\n",
    "    print(f\"Attention Head {i} Trainable: {attn_head.trainable}\")"
   ]
  },
  {
   "cell_type": "markdown",
   "metadata": {
    "id": "mBpXy8liL_Iw"
   },
   "source": [
    "Now, we will process our test and train data to the format required by our transformer. The required format is the same format of the images our vit-base-patch32-224-in21k ViT was trained on. Fortunately, Hugging Face has a way to efficiently preprocess our data using the ViTImageProcessor package from the transformer library. We tell the image processor how to process our data by giving it the same input as our model."
   ]
  },
  {
   "cell_type": "code",
   "execution_count": 17,
   "metadata": {
    "colab": {
     "base_uri": "https://localhost:8080/",
     "height": 49,
     "referenced_widgets": [
      "906e0aca05e04737b5d272a2edf89092",
      "ca1af8c5f1a14b3a9fbe1e73fd00780e",
      "53d836caad7a40858a7bb8d8a2639242",
      "53cf9c72e368404a8a82cf08384d64e7",
      "ec142c503e294e199bfb9df59923e420",
      "7309907e5be44fdf8368cb20890c72f6",
      "17ba2a4778f94de5b321ed36a405efb6",
      "3d1fc6ccd7d74ad28941b71a6bfe3a87",
      "1433c194c4124abc994bda9226171e5d",
      "e8a50832a01a40819e522a21b73bd715",
      "f8fbfb323fe947048a61c429ba9e80fc"
     ]
    },
    "id": "G9smqYGvmnUZ",
    "outputId": "71e5a230-f410-46a8-a45c-384a7b6d75e7"
   },
   "outputs": [
    {
     "data": {
      "application/vnd.jupyter.widget-view+json": {
       "model_id": "906e0aca05e04737b5d272a2edf89092",
       "version_major": 2,
       "version_minor": 0
      },
      "text/plain": [
       "preprocessor_config.json:   0%|          | 0.00/160 [00:00<?, ?B/s]"
      ]
     },
     "metadata": {},
     "output_type": "display_data"
    }
   ],
   "source": [
    "processor = transformers.ViTImageProcessor.from_pretrained(\"google/vit-base-patch32-224-in21k\")"
   ]
  },
  {
   "cell_type": "markdown",
   "metadata": {
    "id": "4-QArMhtM0ae"
   },
   "source": [
    "To extract our bottleneck features, we will run our data through the processor and into our base_model as an input. The final hidden state of our base_model is our extracted bottleneck features. Their respective labels are our bottleneck labels."
   ]
  },
  {
   "cell_type": "code",
   "execution_count": 18,
   "metadata": {
    "id": "fbG9mugRmnUZ"
   },
   "outputs": [],
   "source": [
    "def extract_features(dataset, model, processor):\n",
    "    features = []\n",
    "    labels = []\n",
    "\n",
    "    for images, labels_batch in tqdm.tqdm(dataset, desc=\"Extracting Features\", unit=\"batch\"):\n",
    "        inputs = processor(images, return_tensors=\"tf\", padding=True, truncation=True)\n",
    "        outputs = model(inputs)\n",
    "        last_hidden_state = outputs.last_hidden_state\n",
    "        features.append(last_hidden_state.numpy())\n",
    "        labels.append(labels_batch.numpy())\n",
    "\n",
    "    features = np.concatenate(features, axis=0)\n",
    "    labels = np.concatenate(labels, axis=0)\n",
    "\n",
    "    return features, labels"
   ]
  },
  {
   "cell_type": "code",
   "execution_count": 19,
   "metadata": {
    "colab": {
     "base_uri": "https://localhost:8080/",
     "height": 81,
     "referenced_widgets": [
      "a241a30ea645448595160a83a58eae82",
      "dbefe57c05b24f50ad5d2c9c5f0ccbf5",
      "00d09c7947ea459abafa49b202b3c820",
      "ce9aedddd262425bb52c892f5e74df9a",
      "9b71cf8d16374372ad06ce6e3847e71a",
      "6900a7877ce94038a8490d45c038b30c",
      "21ce3818a349455d920b25ecc3b2b47a",
      "9ba2de5d2a5c47bfb23e6fd35277b2ea",
      "8325c68092aa4e26a68faf51c347bce8",
      "e65ac4dcaed84ba9b3af539005b5f1f5",
      "25a350be4caf4bad83f9b0806db819ca",
      "3e14fd76b0e74e658778c68af4db2e3d",
      "a8165aeb3223452ba1f087e0762e5cda",
      "0a8d91a035634fff9858cd7092827a50",
      "588b8508f2bb4448913eaa85bbab9478",
      "803ec71632804ae2bb40fa4f59377651",
      "e85447019f99419f9611723f7c30ae1b",
      "a956e77584b8499bb74c6e5d6508a938",
      "d7a8dec2f5fc4c0e893d15558f6713e2",
      "3ad175b0f29e4f24ab548fec47e1c21c",
      "2100345034ba4b31ba58e7a0b525adc4",
      "abe5b4d919604c69bfbb35d2610ed06e"
     ]
    },
    "id": "1sSC1h-zmnUa",
    "outputId": "0ffa08f9-ef75-4cfb-a4ad-f51e522fcb48"
   },
   "outputs": [
    {
     "data": {
      "application/vnd.jupyter.widget-view+json": {
       "model_id": "a241a30ea645448595160a83a58eae82",
       "version_major": 2,
       "version_minor": 0
      },
      "text/plain": [
       "Extracting Features:   0%|          | 0/239 [00:00<?, ?batch/s]"
      ]
     },
     "metadata": {},
     "output_type": "display_data"
    },
    {
     "data": {
      "application/vnd.jupyter.widget-view+json": {
       "model_id": "3e14fd76b0e74e658778c68af4db2e3d",
       "version_major": 2,
       "version_minor": 0
      },
      "text/plain": [
       "Extracting Features:   0%|          | 0/9 [00:00<?, ?batch/s]"
      ]
     },
     "metadata": {},
     "output_type": "display_data"
    }
   ],
   "source": [
    "train_features, train_labels = extract_features(train, base_model, processor)\n",
    "test_features, test_labels = extract_features(test, base_model, processor)"
   ]
  },
  {
   "cell_type": "code",
   "execution_count": 20,
   "metadata": {
    "colab": {
     "base_uri": "https://localhost:8080/"
    },
    "id": "DnaZFLB0mnUa",
    "outputId": "5ca98f40-0de7-428f-c739-3d692358737b"
   },
   "outputs": [
    {
     "name": "stdout",
     "output_type": "stream",
     "text": [
      "Train Features Shape: (7624, 50, 768)\n",
      "Test Features Shape: (265, 50, 768)\n"
     ]
    }
   ],
   "source": [
    "print(\"Train Features Shape:\", train_features.shape)\n",
    "print(\"Test Features Shape:\", test_features.shape)"
   ]
  },
  {
   "cell_type": "markdown",
   "metadata": {
    "id": "dBp3T9oMNnyW"
   },
   "source": [
    "For the purpose of speed, we will now convert our extracted features and labels into a TensorFlow dataset of tensors with a batch size of 32."
   ]
  },
  {
   "cell_type": "code",
   "execution_count": 21,
   "metadata": {
    "id": "GUT14WiwmnUb"
   },
   "outputs": [],
   "source": [
    "batch_size = 32\n",
    "train_dataset = tf.data.Dataset.from_tensor_slices((train_features, train_labels)).batch(batch_size)\n",
    "test_dataset = tf.data.Dataset.from_tensor_slices((test_features, test_labels)).batch(batch_size)"
   ]
  },
  {
   "cell_type": "markdown",
   "metadata": {
    "id": "jrRiMxrsN1Hb"
   },
   "source": [
    "Now, to create our top_model, or the model we will add to our transfer model, we create a sequential Keras model."
   ]
  },
  {
   "cell_type": "code",
   "execution_count": 22,
   "metadata": {
    "id": "ND5vWbeJmnUf"
   },
   "outputs": [],
   "source": [
    "top_model = Sequential([\n",
    "    layers.Input(shape=(50, 768)),\n",
    "    layers.Flatten(),\n",
    "    layers.Dense(1024, activation='relu'),\n",
    "    layers.Dropout(0.2),\n",
    "    layers.Dense(512, activation='relu'),\n",
    "    layers.Dropout(0.2),\n",
    "    layers.Dense(256, activation='relu'),\n",
    "    layers.Dropout(0.2),\n",
    "    layers.Dense(128, activation='relu'),\n",
    "    layers.Dropout(0.2),\n",
    "    layers.Dense(53, activation='softmax')\n",
    "])"
   ]
  },
  {
   "cell_type": "code",
   "execution_count": 23,
   "metadata": {
    "id": "x7EsRnKRmnUg"
   },
   "outputs": [],
   "source": [
    "top_model.compile(optimizer=tf.keras.optimizers.legacy.Adam(learning_rate=1e-4),\n",
    "              loss='sparse_categorical_crossentropy',\n",
    "              metrics=[\"accuracy\"])"
   ]
  },
  {
   "cell_type": "code",
   "execution_count": 24,
   "metadata": {
    "colab": {
     "base_uri": "https://localhost:8080/"
    },
    "id": "Q3M4Bp9AmnUg",
    "outputId": "8d524039-f54a-497f-d23d-9f4e4e276a1b"
   },
   "outputs": [
    {
     "name": "stdout",
     "output_type": "stream",
     "text": [
      "Model: \"sequential_1\"\n",
      "_________________________________________________________________\n",
      " Layer (type)                Output Shape              Param #   \n",
      "=================================================================\n",
      " flatten_1 (Flatten)         (None, 38400)             0         \n",
      "                                                                 \n",
      " dense_3 (Dense)             (None, 1024)              39322624  \n",
      "                                                                 \n",
      " dropout_4 (Dropout)         (None, 1024)              0         \n",
      "                                                                 \n",
      " dense_4 (Dense)             (None, 512)               524800    \n",
      "                                                                 \n",
      " dropout_5 (Dropout)         (None, 512)               0         \n",
      "                                                                 \n",
      " dense_5 (Dense)             (None, 256)               131328    \n",
      "                                                                 \n",
      " dropout_6 (Dropout)         (None, 256)               0         \n",
      "                                                                 \n",
      " dense_6 (Dense)             (None, 128)               32896     \n",
      "                                                                 \n",
      " dropout_7 (Dropout)         (None, 128)               0         \n",
      "                                                                 \n",
      " dense_7 (Dense)             (None, 53)                6837      \n",
      "                                                                 \n",
      "=================================================================\n",
      "Total params: 40018485 (152.66 MB)\n",
      "Trainable params: 40018485 (152.66 MB)\n",
      "Non-trainable params: 0 (0.00 Byte)\n",
      "_________________________________________________________________\n"
     ]
    }
   ],
   "source": [
    "top_model.summary()"
   ]
  },
  {
   "cell_type": "code",
   "execution_count": 25,
   "metadata": {
    "id": "RtYz1YLVnTcE"
   },
   "outputs": [],
   "source": [
    "csv_logger = tf.keras.callbacks.CSVLogger('untuned_metrics.csv')"
   ]
  },
  {
   "cell_type": "code",
   "execution_count": 26,
   "metadata": {
    "id": "78vc1O_mnwgq"
   },
   "outputs": [],
   "source": [
    "callbacks = tf.keras.callbacks.EarlyStopping(monitor='val_accuracy', patience=10, restore_best_weights=True)"
   ]
  },
  {
   "cell_type": "markdown",
   "metadata": {
    "id": "oi3KlL54OHTG"
   },
   "source": [
    "We now train our top_model with our extracted features and labels. Additionally, we will run our model to convergence with an early stopping callback if the model does not improve in 10 epochs."
   ]
  },
  {
   "cell_type": "code",
   "execution_count": 27,
   "metadata": {
    "colab": {
     "base_uri": "https://localhost:8080/"
    },
    "id": "LOtY4kttmnUh",
    "outputId": "7e1b621d-cf32-4dad-9539-194146b4fefd"
   },
   "outputs": [
    {
     "name": "stdout",
     "output_type": "stream",
     "text": [
      "Epoch 1/200\n",
      "239/239 [==============================] - 5s 15ms/step - loss: 3.5065 - accuracy: 0.1058 - val_loss: 2.4428 - val_accuracy: 0.3094\n",
      "Epoch 2/200\n",
      "239/239 [==============================] - 3s 14ms/step - loss: 2.5523 - accuracy: 0.2795 - val_loss: 1.7219 - val_accuracy: 0.4868\n",
      "Epoch 3/200\n",
      "239/239 [==============================] - 3s 14ms/step - loss: 1.9738 - accuracy: 0.4175 - val_loss: 1.3423 - val_accuracy: 0.5962\n",
      "Epoch 4/200\n",
      "239/239 [==============================] - 3s 14ms/step - loss: 1.5604 - accuracy: 0.5310 - val_loss: 1.0579 - val_accuracy: 0.7132\n",
      "Epoch 5/200\n",
      "239/239 [==============================] - 3s 14ms/step - loss: 1.2500 - accuracy: 0.6237 - val_loss: 0.8840 - val_accuracy: 0.7509\n",
      "Epoch 6/200\n",
      "239/239 [==============================] - 3s 13ms/step - loss: 1.0105 - accuracy: 0.6891 - val_loss: 0.8611 - val_accuracy: 0.7283\n",
      "Epoch 7/200\n",
      "239/239 [==============================] - 3s 14ms/step - loss: 0.8125 - accuracy: 0.7440 - val_loss: 0.7432 - val_accuracy: 0.7811\n",
      "Epoch 8/200\n",
      "239/239 [==============================] - 3s 14ms/step - loss: 0.6545 - accuracy: 0.7945 - val_loss: 0.6888 - val_accuracy: 0.7962\n",
      "Epoch 9/200\n",
      "239/239 [==============================] - 3s 13ms/step - loss: 0.5242 - accuracy: 0.8363 - val_loss: 0.6951 - val_accuracy: 0.7962\n",
      "Epoch 10/200\n",
      "239/239 [==============================] - 3s 14ms/step - loss: 0.4277 - accuracy: 0.8673 - val_loss: 0.6375 - val_accuracy: 0.8151\n",
      "Epoch 11/200\n",
      "239/239 [==============================] - 3s 14ms/step - loss: 0.3745 - accuracy: 0.8846 - val_loss: 0.6238 - val_accuracy: 0.8302\n",
      "Epoch 12/200\n",
      "239/239 [==============================] - 3s 13ms/step - loss: 0.2949 - accuracy: 0.9083 - val_loss: 0.6298 - val_accuracy: 0.8302\n",
      "Epoch 13/200\n",
      "239/239 [==============================] - 3s 13ms/step - loss: 0.2541 - accuracy: 0.9222 - val_loss: 0.6420 - val_accuracy: 0.8264\n",
      "Epoch 14/200\n",
      "239/239 [==============================] - 3s 13ms/step - loss: 0.2240 - accuracy: 0.9321 - val_loss: 0.7015 - val_accuracy: 0.8302\n",
      "Epoch 15/200\n",
      "239/239 [==============================] - 3s 14ms/step - loss: 0.2018 - accuracy: 0.9357 - val_loss: 0.6341 - val_accuracy: 0.8453\n",
      "Epoch 16/200\n",
      "239/239 [==============================] - 3s 14ms/step - loss: 0.1957 - accuracy: 0.9408 - val_loss: 0.6234 - val_accuracy: 0.8528\n",
      "Epoch 17/200\n",
      "239/239 [==============================] - 3s 13ms/step - loss: 0.1510 - accuracy: 0.9563 - val_loss: 0.6673 - val_accuracy: 0.8491\n",
      "Epoch 18/200\n",
      "239/239 [==============================] - 3s 13ms/step - loss: 0.1344 - accuracy: 0.9607 - val_loss: 0.7586 - val_accuracy: 0.8340\n",
      "Epoch 19/200\n",
      "239/239 [==============================] - 3s 13ms/step - loss: 0.1314 - accuracy: 0.9568 - val_loss: 0.6593 - val_accuracy: 0.8415\n",
      "Epoch 20/200\n",
      "239/239 [==============================] - 3s 13ms/step - loss: 0.1260 - accuracy: 0.9633 - val_loss: 0.7474 - val_accuracy: 0.8302\n",
      "Epoch 21/200\n",
      "239/239 [==============================] - 3s 13ms/step - loss: 0.1000 - accuracy: 0.9693 - val_loss: 0.6698 - val_accuracy: 0.8453\n",
      "Epoch 22/200\n",
      "239/239 [==============================] - 3s 13ms/step - loss: 0.1135 - accuracy: 0.9637 - val_loss: 0.7161 - val_accuracy: 0.8264\n",
      "Epoch 23/200\n",
      "239/239 [==============================] - 3s 13ms/step - loss: 0.1146 - accuracy: 0.9654 - val_loss: 0.7259 - val_accuracy: 0.8453\n",
      "Epoch 24/200\n",
      "239/239 [==============================] - 3s 13ms/step - loss: 0.0901 - accuracy: 0.9723 - val_loss: 0.7971 - val_accuracy: 0.8491\n",
      "Epoch 25/200\n",
      "239/239 [==============================] - 3s 13ms/step - loss: 0.0872 - accuracy: 0.9743 - val_loss: 0.7607 - val_accuracy: 0.8226\n",
      "Epoch 26/200\n",
      "239/239 [==============================] - 3s 14ms/step - loss: 0.0968 - accuracy: 0.9685 - val_loss: 0.7065 - val_accuracy: 0.8264\n",
      "Time: 88.19131660461426\n"
     ]
    }
   ],
   "source": [
    "start = time.time()\n",
    "\n",
    "untuned_history = top_model.fit(train_dataset, validation_data=test_dataset, callbacks=[callbacks,csv_logger], epochs=200)\n",
    "\n",
    "untuned_time = time.time() - start\n",
    "print(f\"Time: {untuned_time}\")"
   ]
  },
  {
   "cell_type": "markdown",
   "metadata": {
    "id": "WzyUDMqrOOyV"
   },
   "source": [
    "Now, to plot our accuracy and loss."
   ]
  },
  {
   "cell_type": "code",
   "execution_count": 28,
   "metadata": {
    "colab": {
     "base_uri": "https://localhost:8080/",
     "height": 887
    },
    "id": "uxSgPcxOpZP1",
    "outputId": "eb1911fb-e7f1-4b44-c2ee-c84e1dbc4e67"
   },
   "outputs": [
    {
     "data": {
      "image/png": "[encoded data removed]",
      "text/plain": [
       "<Figure size 640x480 with 1 Axes>"
      ]
     },
     "metadata": {},
     "output_type": "display_data"
    },
    {
     "data": {
      "image/png": "[encoded data removed]",
      "text/plain": [
       "<Figure size 640x480 with 1 Axes>"
      ]
     },
     "metadata": {},
     "output_type": "display_data"
    }
   ],
   "source": [
    "plot_training_validation_acc(untuned_history, name = \"Untuned\", smooth = True)"
   ]
  },
  {
   "cell_type": "code",
   "execution_count": 29,
   "metadata": {
    "colab": {
     "base_uri": "https://localhost:8080/"
    },
    "id": "pwAzHFRnr_qd",
    "outputId": "f0d9a244-aec5-4748-a53d-0cba73ceda73"
   },
   "outputs": [
    {
     "name": "stdout",
     "output_type": "stream",
     "text": [
      "9/9 [==============================] - 0s 5ms/step - loss: 0.6234 - accuracy: 0.8528\n",
      "test acc: 0.852830171585083\n"
     ]
    }
   ],
   "source": [
    "untuned_test_loss, untuned_test_acc = top_model.evaluate(test_dataset)\n",
    "print('test acc:', untuned_test_acc)"
   ]
  },
  {
   "cell_type": "markdown",
   "metadata": {
    "id": "e0x8UxN81kgQ"
   },
   "source": [
    "#### Fine Tuning Our Transfer Learning Model"
   ]
  },
  {
   "cell_type": "markdown",
   "metadata": {
    "id": "9qTaWH2gOUQn"
   },
   "source": [
    "Next, we will change several of our attention heads to trainable. This is done to fine tune the performance of our model without losing the pretrained weights of our base ViT. In order to do so, we iterate through our attention heads and set the last three to trainable."
   ]
  },
  {
   "cell_type": "code",
   "execution_count": 30,
   "metadata": {
    "colab": {
     "base_uri": "https://localhost:8080/"
    },
    "id": "cJDvHItWuESA",
    "outputId": "0f9ed034-e4c6-4974-ace5-2569dd22b211"
   },
   "outputs": [
    {
     "name": "stdout",
     "output_type": "stream",
     "text": [
      "Attention Head 0 Trainable: False\n",
      "Attention Head 1 Trainable: False\n",
      "Attention Head 2 Trainable: False\n",
      "Attention Head 3 Trainable: False\n",
      "Attention Head 4 Trainable: False\n",
      "Attention Head 5 Trainable: False\n",
      "Attention Head 6 Trainable: False\n",
      "Attention Head 7 Trainable: False\n",
      "Attention Head 8 Trainable: False\n",
      "Attention Head 9 Trainable: True\n",
      "Attention Head 10 Trainable: True\n",
      "Attention Head 11 Trainable: True\n"
     ]
    }
   ],
   "source": [
    "n_trainable_heads = 3\n",
    "\n",
    "for attn_head in vit_layer.encoder.layer[-n_trainable_heads:]:\n",
    "    attn_head.trainable = True\n",
    "\n",
    "for i, attn_head in enumerate(vit_layer.encoder.layer):\n",
    "    print(f\"Attention Head {i} Trainable: {attn_head.trainable}\")"
   ]
  },
  {
   "cell_type": "markdown",
   "metadata": {
    "id": "LIzsXsIqO1e6"
   },
   "source": [
    "Since our model is now different, we re-extract our bottleneck features and labels using the same function as before. Next, we will compile and train our new model using the same top_model as before. However, we will use a smaller learning rate than before."
   ]
  },
  {
   "cell_type": "code",
   "execution_count": 31,
   "metadata": {
    "colab": {
     "base_uri": "https://localhost:8080/",
     "height": 81,
     "referenced_widgets": [
      "05f33552632a4bb39a1942053f032503",
      "6b5dee164f0f42e294746ac335a0d46f",
      "d81f069994464cc3b5de04f10f4ecbc4",
      "f42de1c4603442c0b2c6cab81815f169",
      "b9ea6ca94a834f56982f5c20ed4d9d47",
      "acc81b35e97349f39ea4564f5b01fc9e",
      "5b1595baf40d43fcb75f24f00aa1481b",
      "5dd5e10d939e49f89067511a6e666868",
      "55ccc42d84ff4e80b8b5d0d3bccd8ee8",
      "51aeee1003c64b7fb524ffc790d75726",
      "e197cef77f9744708bc95940991957ec",
      "f178a5a955bb4ae98f4bdfc6521f21de",
      "db8cadcf0fd64bfd9b1e90eb52542469",
      "9e315cd9ae5649c3972dfce61515964c",
      "6b678a99d490466da2db53ff252a393b",
      "e1480ec73bd84f39b47ad284ffe47559",
      "d75469af2a3444e593477452a9857aa9",
      "f0c9739ba1974d77b989e07e327f30e2",
      "eb2a35599b564886bff9afe7c0ef8b91",
      "e6a68335aceb4efaaaf32c1c9b7297a9",
      "61dd2194325c4d83bd846ba6f4f359ef",
      "55c4aa5cebd4404b838a0baa5f26c8cd"
     ]
    },
    "id": "WOb2sMWtuKvA",
    "outputId": "5d96a03c-9e6e-403b-9fc0-5a40576c67f9"
   },
   "outputs": [
    {
     "data": {
      "application/vnd.jupyter.widget-view+json": {
       "model_id": "05f33552632a4bb39a1942053f032503",
       "version_major": 2,
       "version_minor": 0
      },
      "text/plain": [
       "Extracting Features:   0%|          | 0/239 [00:00<?, ?batch/s]"
      ]
     },
     "metadata": {},
     "output_type": "display_data"
    },
    {
     "data": {
      "application/vnd.jupyter.widget-view+json": {
       "model_id": "f178a5a955bb4ae98f4bdfc6521f21de",
       "version_major": 2,
       "version_minor": 0
      },
      "text/plain": [
       "Extracting Features:   0%|          | 0/9 [00:00<?, ?batch/s]"
      ]
     },
     "metadata": {},
     "output_type": "display_data"
    }
   ],
   "source": [
    "train_features, train_labels = extract_features(train, base_model, processor)\n",
    "test_features, test_labels = extract_features(test, base_model, processor)"
   ]
  },
  {
   "cell_type": "code",
   "execution_count": 32,
   "metadata": {
    "id": "lN0YVdFHaF9K"
   },
   "outputs": [],
   "source": [
    "top_model.compile(optimizer=tf.keras.optimizers.legacy.Adam(learning_rate=1e-5),\n",
    "              loss='sparse_categorical_crossentropy',\n",
    "              metrics=[\"accuracy\"])"
   ]
  },
  {
   "cell_type": "markdown",
   "metadata": {
    "id": "Y5VEf3e7JCF9"
   },
   "source": [
    "We will run our model to convergence with an early stopping callback if the model does not improve in 10 epochs."
   ]
  },
  {
   "cell_type": "code",
   "execution_count": 33,
   "metadata": {
    "id": "IzYUroB4ngGD"
   },
   "outputs": [],
   "source": [
    "csv_logger = tf.keras.callbacks.CSVLogger('tuned_metrics.csv')"
   ]
  },
  {
   "cell_type": "code",
   "execution_count": 34,
   "metadata": {
    "colab": {
     "base_uri": "https://localhost:8080/"
    },
    "id": "z52qI429bQ6Y",
    "outputId": "d2418dd7-2381-4567-9699-86b0b4aedd42"
   },
   "outputs": [
    {
     "name": "stdout",
     "output_type": "stream",
     "text": [
      "Epoch 1/200\n",
      "239/239 [==============================] - 4s 14ms/step - loss: 0.1069 - accuracy: 0.9696 - val_loss: 0.5649 - val_accuracy: 0.8679\n",
      "Epoch 2/200\n",
      "239/239 [==============================] - 3s 13ms/step - loss: 0.0821 - accuracy: 0.9765 - val_loss: 0.5741 - val_accuracy: 0.8679\n",
      "Epoch 3/200\n",
      "239/239 [==============================] - 3s 13ms/step - loss: 0.0778 - accuracy: 0.9797 - val_loss: 0.5830 - val_accuracy: 0.8604\n",
      "Epoch 4/200\n",
      "239/239 [==============================] - 3s 12ms/step - loss: 0.0732 - accuracy: 0.9801 - val_loss: 0.5576 - val_accuracy: 0.8642\n",
      "Epoch 5/200\n",
      "239/239 [==============================] - 3s 13ms/step - loss: 0.0658 - accuracy: 0.9827 - val_loss: 0.5631 - val_accuracy: 0.8717\n",
      "Epoch 6/200\n",
      "239/239 [==============================] - 3s 13ms/step - loss: 0.0616 - accuracy: 0.9805 - val_loss: 0.5704 - val_accuracy: 0.8679\n",
      "Epoch 7/200\n",
      "239/239 [==============================] - 3s 13ms/step - loss: 0.0589 - accuracy: 0.9848 - val_loss: 0.5774 - val_accuracy: 0.8679\n",
      "Epoch 8/200\n",
      "239/239 [==============================] - 3s 13ms/step - loss: 0.0576 - accuracy: 0.9837 - val_loss: 0.5851 - val_accuracy: 0.8642\n",
      "Epoch 9/200\n",
      "239/239 [==============================] - 3s 13ms/step - loss: 0.0529 - accuracy: 0.9852 - val_loss: 0.5920 - val_accuracy: 0.8717\n",
      "Epoch 10/200\n",
      "239/239 [==============================] - 3s 13ms/step - loss: 0.0531 - accuracy: 0.9857 - val_loss: 0.6033 - val_accuracy: 0.8604\n",
      "Epoch 11/200\n",
      "239/239 [==============================] - 3s 13ms/step - loss: 0.0492 - accuracy: 0.9873 - val_loss: 0.5719 - val_accuracy: 0.8755\n",
      "Epoch 12/200\n",
      "239/239 [==============================] - 3s 13ms/step - loss: 0.0435 - accuracy: 0.9892 - val_loss: 0.5883 - val_accuracy: 0.8679\n",
      "Epoch 13/200\n",
      "239/239 [==============================] - 3s 13ms/step - loss: 0.0440 - accuracy: 0.9883 - val_loss: 0.6141 - val_accuracy: 0.8642\n",
      "Epoch 14/200\n",
      "239/239 [==============================] - 3s 13ms/step - loss: 0.0434 - accuracy: 0.9907 - val_loss: 0.6038 - val_accuracy: 0.8679\n",
      "Epoch 15/200\n",
      "239/239 [==============================] - 3s 13ms/step - loss: 0.0383 - accuracy: 0.9911 - val_loss: 0.6051 - val_accuracy: 0.8642\n",
      "Epoch 16/200\n",
      "239/239 [==============================] - 3s 13ms/step - loss: 0.0408 - accuracy: 0.9886 - val_loss: 0.6069 - val_accuracy: 0.8679\n",
      "Epoch 17/200\n",
      "239/239 [==============================] - 3s 13ms/step - loss: 0.0386 - accuracy: 0.9913 - val_loss: 0.5962 - val_accuracy: 0.8717\n",
      "Epoch 18/200\n",
      "239/239 [==============================] - 3s 13ms/step - loss: 0.0377 - accuracy: 0.9906 - val_loss: 0.5903 - val_accuracy: 0.8642\n",
      "Epoch 19/200\n",
      "239/239 [==============================] - 3s 13ms/step - loss: 0.0356 - accuracy: 0.9924 - val_loss: 0.5983 - val_accuracy: 0.8717\n",
      "Epoch 20/200\n",
      "239/239 [==============================] - 3s 13ms/step - loss: 0.0339 - accuracy: 0.9916 - val_loss: 0.6150 - val_accuracy: 0.8755\n",
      "Epoch 21/200\n",
      "239/239 [==============================] - 3s 13ms/step - loss: 0.0343 - accuracy: 0.9919 - val_loss: 0.6135 - val_accuracy: 0.8679\n",
      "Time: 64.96874165534973\n"
     ]
    }
   ],
   "source": [
    "start = time.time()\n",
    "\n",
    "tuned_history = top_model.fit(train_dataset, validation_data=test_dataset, callbacks=[callbacks,csv_logger], epochs=200)\n",
    "\n",
    "tuned_time = time.time() - start\n",
    "print(f\"Time: {tuned_time}\")"
   ]
  },
  {
   "cell_type": "markdown",
   "metadata": {
    "id": "SyPIvGwwPXV5"
   },
   "source": [
    "Let's visualize our fine-tuned model's performance."
   ]
  },
  {
   "cell_type": "code",
   "execution_count": 35,
   "metadata": {
    "colab": {
     "base_uri": "https://localhost:8080/",
     "height": 887
    },
    "id": "w7y7XX0KrPiQ",
    "outputId": "f82ce590-b6a4-46ad-db56-ae201e6a338a"
   },
   "outputs": [
    {
     "data": {
      "image/png": "[encoded data removed]",
      "text/plain": [
       "<Figure size 640x480 with 1 Axes>"
      ]
     },
     "metadata": {},
     "output_type": "display_data"
    },
    {
     "data": {
      "image/png": "[encoded data removed]",
      "text/plain": [
       "<Figure size 640x480 with 1 Axes>"
      ]
     },
     "metadata": {},
     "output_type": "display_data"
    }
   ],
   "source": [
    "plot_training_validation_acc(tuned_history, name = \"Tuned\", smooth = True)"
   ]
  },
  {
   "cell_type": "code",
   "execution_count": 36,
   "metadata": {
    "colab": {
     "base_uri": "https://localhost:8080/"
    },
    "id": "AVCzr2zDrSoK",
    "outputId": "c4106ed9-c958-4098-c009-045d79e53bf2"
   },
   "outputs": [
    {
     "name": "stdout",
     "output_type": "stream",
     "text": [
      "9/9 [==============================] - 0s 5ms/step - loss: 0.5719 - accuracy: 0.8755\n",
      "test acc: 0.8754717111587524\n"
     ]
    }
   ],
   "source": [
    "tuned_test_loss, tuned_test_acc = top_model.evaluate(test_dataset)\n",
    "print('test acc:', tuned_test_acc)"
   ]
  },
  {
   "cell_type": "code",
   "execution_count": 37,
   "metadata": {
    "colab": {
     "base_uri": "https://localhost:8080/"
    },
    "id": "WsA0uDMyyAWT",
    "outputId": "278d6ee2-1f41-455e-a89a-36acd3b98d25"
   },
   "outputs": [
    {
     "name": "stdout",
     "output_type": "stream",
     "text": [
      "1/1 [==============================] - 0s 121ms/step\n",
      "Note - we chose to visualize the labels of our data rather than unflattening and unprocessing our data before display\n",
      "     Predicted Labels      Actual Labels\n",
      "0      king of hearts   king of diamonds\n",
      "1       jack of clubs      jack of clubs\n",
      "2   three of diamonds  three of diamonds\n",
      "3       four of clubs      four of clubs\n",
      "4       ace of spades      ace of spades\n",
      "5     queen of spades    queen of spades\n",
      "6      five of spades     five of spades\n",
      "7     three of hearts      two of hearts\n",
      "8       nine of clubs      nine of clubs\n",
      "9     eight of spades      five of clubs\n",
      "10      king of clubs     king of spades\n",
      "11      five of clubs      five of clubs\n",
      "12     five of hearts     five of hearts\n",
      "13   four of diamonds   four of diamonds\n",
      "14      six of spades      six of spades\n",
      "15      six of hearts      six of hearts\n",
      "16       six of clubs       six of clubs\n",
      "17     five of spades     five of spades\n",
      "18    queen of hearts    queen of hearts\n",
      "19      two of hearts      two of hearts\n",
      "20    three of spades    three of spades\n",
      "21      four of clubs      four of clubs\n",
      "22    eight of spades    eight of spades\n",
      "23      two of spades      two of spades\n",
      "24    eight of spades    eight of spades\n",
      "25     four of spades     four of spades\n",
      "26      six of hearts      six of hearts\n",
      "27     four of hearts     four of hearts\n",
      "28       ace of clubs       ace of clubs\n",
      "29     four of spades      two of spades\n",
      "30      nine of clubs      nine of clubs\n",
      "31       ten of clubs       ten of clubs\n"
     ]
    }
   ],
   "source": [
    "for images, labels in test_dataset.take(1):\n",
    "    # Predict the labels for this batch\n",
    "    predictions = top_model.predict(images)\n",
    "    predicted_labels_indices = tf.argmax(predictions, axis=1)\n",
    "\n",
    "    # Convert predicted label indices to class names\n",
    "    predicted_labels_names = [class_names[index] for index in predicted_labels_indices.numpy()]\n",
    "\n",
    "    actual_labels_names = [class_names[index] for index in labels.numpy()]\n",
    "\n",
    "    # Create a DataFrame for a better display\n",
    "    df = pd.DataFrame({\n",
    "        'Predicted Labels': predicted_labels_names,\n",
    "        'Actual Labels': actual_labels_names\n",
    "    })\n",
    "\n",
    "    # Display the DataFrame\n",
    "    print('Note - we chose to visualize the labels of our data rather than unflattening and unprocessing our data before display')\n",
    "    print(df)"
   ]
  },
  {
   "cell_type": "code",
   "execution_count": 38,
   "metadata": {
    "id": "uvxwmYw_pIm6"
   },
   "outputs": [],
   "source": [
    "f = open('store_noncnn.pckl', 'wb')\n",
    "pickle.dump([untuned_history,tuned_history,\n",
    "             untuned_test_loss,untuned_test_acc,\n",
    "             tuned_test_loss,tuned_test_acc,\n",
    "             untuned_time,tuned_time], f)\n",
    "f.close()"
   ]
  },
  {
   "cell_type": "markdown",
   "metadata": {
    "id": "EiTgnUJ1QLMC"
   },
   "source": [
    "## Analysis"
   ]
  },
  {
   "cell_type": "code",
   "execution_count": 39,
   "metadata": {
    "id": "-wtOPkd6pMDu"
   },
   "outputs": [],
   "source": [
    "f = open('store_noncnn.pckl', 'rb')\n",
    "untuned_history,tuned_history,untuned_test_loss,untuned_test_acc,tuned_test_loss,tuned_test_acc,untuned_time,tuned_time = pickle.load(f)\n",
    "f.close()"
   ]
  },
  {
   "cell_type": "code",
   "execution_count": 40,
   "metadata": {
    "colab": {
     "base_uri": "https://localhost:8080/"
    },
    "id": "Z-zslUJfae19",
    "outputId": "db7d2432-7781-412e-e3e2-238ef6eb75de"
   },
   "outputs": [
    {
     "name": "stdout",
     "output_type": "stream",
     "text": [
      "Untuned History: <keras.src.callbacks.History object at 0x7bfb6bf8a3b0>\n",
      "Tuned History: <keras.src.callbacks.History object at 0x7bfb69ec9f30>\n",
      "Untuned Test Loss: 0.6233640909194946\n",
      "Untuned Test Accuracy: 0.852830171585083\n",
      "Tuned Test Loss: 0.5718777179718018\n",
      "Tuned Test Accuracy: 0.8754717111587524\n",
      "Untuned Time: 88.19131660461426\n",
      "Tuned Time: 64.96874165534973\n"
     ]
    }
   ],
   "source": [
    "print(f\"Untuned History: {untuned_history}\\n\"\n",
    "      f\"Tuned History: {tuned_history}\\n\"\n",
    "      f\"Untuned Test Loss: {untuned_test_loss}\\n\"\n",
    "      f\"Untuned Test Accuracy: {untuned_test_acc}\\n\"\n",
    "      f\"Tuned Test Loss: {tuned_test_loss}\\n\"\n",
    "      f\"Tuned Test Accuracy: {tuned_test_acc}\\n\"\n",
    "      f\"Untuned Time: {untuned_time}\\n\"\n",
    "      f\"Tuned Time: {tuned_time}\")\n"
   ]
  },
  {
   "cell_type": "code",
   "execution_count": 41,
   "metadata": {
    "id": "vf31OsZGsy-w"
   },
   "outputs": [],
   "source": [
    "f = open('store_cnn.pckl', 'rb')\n",
    "cnn_history,cnn_test_loss,cnn_test_acc,cnn_time = pickle.load(f)\n",
    "f.close()"
   ]
  },
  {
   "cell_type": "code",
   "execution_count": 42,
   "metadata": {
    "colab": {
     "base_uri": "https://localhost:8080/"
    },
    "id": "uQmCqJ_IszPt",
    "outputId": "48185811-da28-4e7e-bacb-029d8eb53853"
   },
   "outputs": [
    {
     "name": "stdout",
     "output_type": "stream",
     "text": [
      "CNN History: <keras.src.callbacks.History object at 0x7bfb6bf8b700>\n",
      "CNN Test Loss: 1.1128743886947632\n",
      "CNN Test Accuracy: 0.6792452931404114\n",
      "CNN Time: 470.73556637763977\n"
     ]
    }
   ],
   "source": [
    "print(f\"CNN History: {cnn_history}\\n\"\n",
    "      f\"CNN Test Loss: {cnn_test_loss}\\n\"\n",
    "      f\"CNN Test Accuracy: {cnn_test_acc}\\n\"\n",
    "      f\"CNN Time: {cnn_time}\")"
   ]
  },
  {
   "cell_type": "markdown",
   "metadata": {},
   "source": [
    "Since the performance of each machine learning model epoch depends on previous performance, the assumptions of independence are violated, thus both the t-test and the F-test are inappropriate in this case.\n",
    "\n",
    "To compare the best performance of the models to each other, we centered the data 10 epochs before stopping, because we set the early stopping to 10 epochs of non-improvement. Since we used Adam to optimize, to control for the learning based on previous models with momentum, we then included two lag variables. Then, the earliest epochs were omitted from the data, since they had a non-linear trend. Dummy variables (one hot) variables were constructed for each model."
   ]
  },
  {
   "cell_type": "markdown",
   "metadata": {},
   "source": [
    "### Statistical Models and Model Fit:\n",
    "\n",
    "The following results all came from multiple linear regressions, with controls for epoch and autocorrelation (via two lagged values), and the dummy variables for Tuned and CNN models, so that the base model of the regressions was the Untuned model.\n",
    "\n",
    "For accuracy, the overall statistical regression model had an adjusted R-squared of 0.9158 and RMSE of 0.019, thus we have evidence of a good fit of the statistical regression to the data, since almost 92 percent of the variation in the Validation Accuracy data was explained with this statistical model. Also checking the assumptions for linear regression, the statistical model doesn't obviously violate any assumptions multiple linear regression, except for potential multicollinearity between the two lag variables."
   ]
  },
  {
   "cell_type": "markdown",
   "metadata": {},
   "source": [
    "<div>\n",
    "<img src=\"https://github.com/cameronervin/NN-Projects/blob/main/lab2/graphs/Accuracy_vs_Epochs_big.png?raw=true\" width=\"1000\"/>\n",
    "</div>"
   ]
  },
  {
   "cell_type": "markdown",
   "metadata": {},
   "source": [
    "For the Loss Function statistical regression model had an adjusted R-squared of 0.9162 and RMSE of 0.053, thus we have evidence of a good fit of the statistical regression to the data, since almost 92% of the variation in the Loss Function data was explained by this statistical model. The Loss Function statistical model also did not obviously violate assumptions of multiple linear regression, with a similar exception for the multicollinearity between the two lag variables, and a single extreme outlier."
   ]
  },
  {
   "cell_type": "markdown",
   "metadata": {},
   "source": [
    "<div>\n",
    "<img src=\"https://github.com/cameronervin/NN-Projects/blob/main/lab2/graphs/Loss_vs_Epochs_big.png?raw=true\" width=\"1000\"/>\n",
    "</div>"
   ]
  },
  {
   "cell_type": "markdown",
   "metadata": {},
   "source": [
    "### Results of Statistical Models:\n",
    "\n",
    "For the multiple regression on Accuracy, the Tuned model performed slightly better (2.23%) than the Untuned model, and this difference was statistically significant (p = .00337). However, the CNN model performed worse than the Untuned model (-5.47%), and this difference was statistically significant (p < 2.7e-9)."
   ]
  },
  {
   "cell_type": "markdown",
   "metadata": {},
   "source": [
    "<div>\n",
    "<img src=\"https://github.com/cameronervin/NN-Projects/blob/main/lab2/graphs/Accuracy_model_checks_big.png?raw=true\" width=\"1000\"/>\n",
    "</div>"
   ]
  },
  {
   "cell_type": "markdown",
   "metadata": {},
   "source": [
    "For the multiple regression on Loss Function, the overall the Tuned model was lower than the Untuned model (-0.0405) and this difference was statistically significant (p = 0.0443), but the CNN model was higher than the Untuned model (0.1448) and this difference was statistically significant (p = 2.26e-08)."
   ]
  },
  {
   "cell_type": "markdown",
   "metadata": {},
   "source": [
    "<div>\n",
    "<img src=\"https://github.com/cameronervin/NN-Projects/blob/main/lab2/graphs/loss_model_checks_big.png?raw=true\" width=\"1000\"/>\n",
    "</div>"
   ]
  },
  {
   "cell_type": "markdown",
   "metadata": {},
   "source": [
    "In summary, the results of the statistical tests are confirmed by the data visualizations. The CNN performance is surprisingly good, but still inferior to the transfer transformer models. Model tuning of some of the hidden layers does modestly but significantly increase Accuracy performance and decreases the Loss.\n",
    "\n",
    "When running time is taken into account, the CNN model trained for 470 seconds, while the Untuned Transfer model trained for 88 seconds, and the Tuned model for an additional 64 seconds. The total time spent training the Tuned Transfer model was thus 152 seconds, almost a third of the time spend training the CNN model from scratch with significant Accuracy improvement of 7.7%."
   ]
  },
  {
   "cell_type": "markdown",
   "metadata": {
    "id": "F_cvRZx9QWDD"
   },
   "source": [
    "## Conclusion"
   ]
  },
  {
   "cell_type": "markdown",
   "metadata": {},
   "source": [
    "Transferring the ViT transformer then tuning the model produced superior accuracy faster than training a CNN model from scratch on this card sorting task."
   ]
  },
  {
   "cell_type": "markdown",
   "metadata": {
    "id": "4T6lNw9pWP1R"
   },
   "source": [
    "##### References:\n",
    "- [Dataset](https://www.kaggle.com/datasets/86dcbfae1396038cba359d58e258915afd32de7845fd29ef6a06158f80d3cce8)\n",
    "- [Hugging Face ViT](https://huggingface.co/docs/transformers/model_doc/vit)\n",
    "- [Example Notebook](https://www.kaggle.com/code/merkost/transfer-learning-image-classification)\n",
    "- [Lecture Notebook](https://github.com/8000net/LectureNotesMaster/blob/master/02%20Transfer%20Learning.ipynb)\n",
    "- ChatGPT4"
   ]
  }
 ],
 "metadata": {
  "accelerator": "GPU",
  "colab": {
   "gpuType": "T4",
   "machine_shape": "hm",
   "provenance": []
  },
  "kernelspec": {
   "display_name": "Python 3 (ipykernel)",
   "language": "python",
   "name": "python3"
  },
  "language_info": {
   "codemirror_mode": {
    "name": "ipython",
    "version": 3
   },
   "file_extension": ".py",
   "mimetype": "text/x-python",
   "name": "python",
   "nbconvert_exporter": "python",
   "pygments_lexer": "ipython3",
   "version": "3.8.18"
  },
  "widgets": {
   "application/vnd.jupyter.widget-state+json": {
    "00d09c7947ea459abafa49b202b3c820": {
     "model_module": "@jupyter-widgets/controls",
     "model_module_version": "1.5.0",
     "model_name": "FloatProgressModel",
     "state": {
      "_dom_classes": [],
      "_model_module": "@jupyter-widgets/controls",
      "_model_module_version": "1.5.0",
      "_model_name": "FloatProgressModel",
      "_view_count": null,
      "_view_module": "@jupyter-widgets/controls",
      "_view_module_version": "1.5.0",
      "_view_name": "ProgressView",
      "bar_style": "success",
      "description": "",
      "description_tooltip": null,
      "layout": "IPY_MODEL_9ba2de5d2a5c47bfb23e6fd35277b2ea",
      "max": 239,
      "min": 0,
      "orientation": "horizontal",
      "style": "IPY_MODEL_8325c68092aa4e26a68faf51c347bce8",
      "value": 239
     }
    },
    "05f33552632a4bb39a1942053f032503": {
     "model_module": "@jupyter-widgets/controls",
     "model_module_version": "1.5.0",
     "model_name": "HBoxModel",
     "state": {
      "_dom_classes": [],
      "_model_module": "@jupyter-widgets/controls",
      "_model_module_version": "1.5.0",
      "_model_name": "HBoxModel",
      "_view_count": null,
      "_view_module": "@jupyter-widgets/controls",
      "_view_module_version": "1.5.0",
      "_view_name": "HBoxView",
      "box_style": "",
      "children": [
       "IPY_MODEL_6b5dee164f0f42e294746ac335a0d46f",
       "IPY_MODEL_d81f069994464cc3b5de04f10f4ecbc4",
       "IPY_MODEL_f42de1c4603442c0b2c6cab81815f169"
      ],
      "layout": "IPY_MODEL_b9ea6ca94a834f56982f5c20ed4d9d47"
     }
    },
    "0a8d91a035634fff9858cd7092827a50": {
     "model_module": "@jupyter-widgets/controls",
     "model_module_version": "1.5.0",
     "model_name": "FloatProgressModel",
     "state": {
      "_dom_classes": [],
      "_model_module": "@jupyter-widgets/controls",
      "_model_module_version": "1.5.0",
      "_model_name": "FloatProgressModel",
      "_view_count": null,
      "_view_module": "@jupyter-widgets/controls",
      "_view_module_version": "1.5.0",
      "_view_name": "ProgressView",
      "bar_style": "success",
      "description": "",
      "description_tooltip": null,
      "layout": "IPY_MODEL_d7a8dec2f5fc4c0e893d15558f6713e2",
      "max": 9,
      "min": 0,
      "orientation": "horizontal",
      "style": "IPY_MODEL_3ad175b0f29e4f24ab548fec47e1c21c",
      "value": 9
     }
    },
    "1433c194c4124abc994bda9226171e5d": {
     "model_module": "@jupyter-widgets/controls",
     "model_module_version": "1.5.0",
     "model_name": "ProgressStyleModel",
     "state": {
      "_model_module": "@jupyter-widgets/controls",
      "_model_module_version": "1.5.0",
      "_model_name": "ProgressStyleModel",
      "_view_count": null,
      "_view_module": "@jupyter-widgets/base",
      "_view_module_version": "1.2.0",
      "_view_name": "StyleView",
      "bar_color": null,
      "description_width": ""
     }
    },
    "17ba2a4778f94de5b321ed36a405efb6": {
     "model_module": "@jupyter-widgets/controls",
     "model_module_version": "1.5.0",
     "model_name": "DescriptionStyleModel",
     "state": {
      "_model_module": "@jupyter-widgets/controls",
      "_model_module_version": "1.5.0",
      "_model_name": "DescriptionStyleModel",
      "_view_count": null,
      "_view_module": "@jupyter-widgets/base",
      "_view_module_version": "1.2.0",
      "_view_name": "StyleView",
      "description_width": ""
     }
    },
    "18c2d85f486f4d1a9f87182f896b335b": {
     "model_module": "@jupyter-widgets/base",
     "model_module_version": "1.2.0",
     "model_name": "LayoutModel",
     "state": {
      "_model_module": "@jupyter-widgets/base",
      "_model_module_version": "1.2.0",
      "_model_name": "LayoutModel",
      "_view_count": null,
      "_view_module": "@jupyter-widgets/base",
      "_view_module_version": "1.2.0",
      "_view_name": "LayoutView",
      "align_content": null,
      "align_items": null,
      "align_self": null,
      "border": null,
      "bottom": null,
      "display": null,
      "flex": null,
      "flex_flow": null,
      "grid_area": null,
      "grid_auto_columns": null,
      "grid_auto_flow": null,
      "grid_auto_rows": null,
      "grid_column": null,
      "grid_gap": null,
      "grid_row": null,
      "grid_template_areas": null,
      "grid_template_columns": null,
      "grid_template_rows": null,
      "height": null,
      "justify_content": null,
      "justify_items": null,
      "left": null,
      "margin": null,
      "max_height": null,
      "max_width": null,
      "min_height": null,
      "min_width": null,
      "object_fit": null,
      "object_position": null,
      "order": null,
      "overflow": null,
      "overflow_x": null,
      "overflow_y": null,
      "padding": null,
      "right": null,
      "top": null,
      "visibility": null,
      "width": null
     }
    },
    "1fa4cdaf8def47a0b92748fa4665cb31": {
     "model_module": "@jupyter-widgets/controls",
     "model_module_version": "1.5.0",
     "model_name": "DescriptionStyleModel",
     "state": {
      "_model_module": "@jupyter-widgets/controls",
      "_model_module_version": "1.5.0",
      "_model_name": "DescriptionStyleModel",
      "_view_count": null,
      "_view_module": "@jupyter-widgets/base",
      "_view_module_version": "1.2.0",
      "_view_name": "StyleView",
      "description_width": ""
     }
    },
    "2100345034ba4b31ba58e7a0b525adc4": {
     "model_module": "@jupyter-widgets/base",
     "model_module_version": "1.2.0",
     "model_name": "LayoutModel",
     "state": {
      "_model_module": "@jupyter-widgets/base",
      "_model_module_version": "1.2.0",
      "_model_name": "LayoutModel",
      "_view_count": null,
      "_view_module": "@jupyter-widgets/base",
      "_view_module_version": "1.2.0",
      "_view_name": "LayoutView",
      "align_content": null,
      "align_items": null,
      "align_self": null,
      "border": null,
      "bottom": null,
      "display": null,
      "flex": null,
      "flex_flow": null,
      "grid_area": null,
      "grid_auto_columns": null,
      "grid_auto_flow": null,
      "grid_auto_rows": null,
      "grid_column": null,
      "grid_gap": null,
      "grid_row": null,
      "grid_template_areas": null,
      "grid_template_columns": null,
      "grid_template_rows": null,
      "height": null,
      "justify_content": null,
      "justify_items": null,
      "left": null,
      "margin": null,
      "max_height": null,
      "max_width": null,
      "min_height": null,
      "min_width": null,
      "object_fit": null,
      "object_position": null,
      "order": null,
      "overflow": null,
      "overflow_x": null,
      "overflow_y": null,
      "padding": null,
      "right": null,
      "top": null,
      "visibility": null,
      "width": null
     }
    },
    "21ce3818a349455d920b25ecc3b2b47a": {
     "model_module": "@jupyter-widgets/controls",
     "model_module_version": "1.5.0",
     "model_name": "DescriptionStyleModel",
     "state": {
      "_model_module": "@jupyter-widgets/controls",
      "_model_module_version": "1.5.0",
      "_model_name": "DescriptionStyleModel",
      "_view_count": null,
      "_view_module": "@jupyter-widgets/base",
      "_view_module_version": "1.2.0",
      "_view_name": "StyleView",
      "description_width": ""
     }
    },
    "25a350be4caf4bad83f9b0806db819ca": {
     "model_module": "@jupyter-widgets/controls",
     "model_module_version": "1.5.0",
     "model_name": "DescriptionStyleModel",
     "state": {
      "_model_module": "@jupyter-widgets/controls",
      "_model_module_version": "1.5.0",
      "_model_name": "DescriptionStyleModel",
      "_view_count": null,
      "_view_module": "@jupyter-widgets/base",
      "_view_module_version": "1.2.0",
      "_view_name": "StyleView",
      "description_width": ""
     }
    },
    "2974f73fc15447fb97ecc8018fee745e": {
     "model_module": "@jupyter-widgets/base",
     "model_module_version": "1.2.0",
     "model_name": "LayoutModel",
     "state": {
      "_model_module": "@jupyter-widgets/base",
      "_model_module_version": "1.2.0",
      "_model_name": "LayoutModel",
      "_view_count": null,
      "_view_module": "@jupyter-widgets/base",
      "_view_module_version": "1.2.0",
      "_view_name": "LayoutView",
      "align_content": null,
      "align_items": null,
      "align_self": null,
      "border": null,
      "bottom": null,
      "display": null,
      "flex": null,
      "flex_flow": null,
      "grid_area": null,
      "grid_auto_columns": null,
      "grid_auto_flow": null,
      "grid_auto_rows": null,
      "grid_column": null,
      "grid_gap": null,
      "grid_row": null,
      "grid_template_areas": null,
      "grid_template_columns": null,
      "grid_template_rows": null,
      "height": null,
      "justify_content": null,
      "justify_items": null,
      "left": null,
      "margin": null,
      "max_height": null,
      "max_width": null,
      "min_height": null,
      "min_width": null,
      "object_fit": null,
      "object_position": null,
      "order": null,
      "overflow": null,
      "overflow_x": null,
      "overflow_y": null,
      "padding": null,
      "right": null,
      "top": null,
      "visibility": null,
      "width": null
     }
    },
    "3615d953b6f44366867743f02b606ab0": {
     "model_module": "@jupyter-widgets/controls",
     "model_module_version": "1.5.0",
     "model_name": "HTMLModel",
     "state": {
      "_dom_classes": [],
      "_model_module": "@jupyter-widgets/controls",
      "_model_module_version": "1.5.0",
      "_model_name": "HTMLModel",
      "_view_count": null,
      "_view_module": "@jupyter-widgets/controls",
      "_view_module_version": "1.5.0",
      "_view_name": "HTMLView",
      "description": "",
      "description_tooltip": null,
      "layout": "IPY_MODEL_56be9a4a443248a9b1e3a8c0ebcbc9b8",
      "placeholder": "​",
      "style": "IPY_MODEL_b9662e9a35fb46f09fcf6372fd8939da",
      "value": " 502/502 [00:00&lt;00:00, 35.1kB/s]"
     }
    },
    "3ad175b0f29e4f24ab548fec47e1c21c": {
     "model_module": "@jupyter-widgets/controls",
     "model_module_version": "1.5.0",
     "model_name": "ProgressStyleModel",
     "state": {
      "_model_module": "@jupyter-widgets/controls",
      "_model_module_version": "1.5.0",
      "_model_name": "ProgressStyleModel",
      "_view_count": null,
      "_view_module": "@jupyter-widgets/base",
      "_view_module_version": "1.2.0",
      "_view_name": "StyleView",
      "bar_color": null,
      "description_width": ""
     }
    },
    "3d1fc6ccd7d74ad28941b71a6bfe3a87": {
     "model_module": "@jupyter-widgets/base",
     "model_module_version": "1.2.0",
     "model_name": "LayoutModel",
     "state": {
      "_model_module": "@jupyter-widgets/base",
      "_model_module_version": "1.2.0",
      "_model_name": "LayoutModel",
      "_view_count": null,
      "_view_module": "@jupyter-widgets/base",
      "_view_module_version": "1.2.0",
      "_view_name": "LayoutView",
      "align_content": null,
      "align_items": null,
      "align_self": null,
      "border": null,
      "bottom": null,
      "display": null,
      "flex": null,
      "flex_flow": null,
      "grid_area": null,
      "grid_auto_columns": null,
      "grid_auto_flow": null,
      "grid_auto_rows": null,
      "grid_column": null,
      "grid_gap": null,
      "grid_row": null,
      "grid_template_areas": null,
      "grid_template_columns": null,
      "grid_template_rows": null,
      "height": null,
      "justify_content": null,
      "justify_items": null,
      "left": null,
      "margin": null,
      "max_height": null,
      "max_width": null,
      "min_height": null,
      "min_width": null,
      "object_fit": null,
      "object_position": null,
      "order": null,
      "overflow": null,
      "overflow_x": null,
      "overflow_y": null,
      "padding": null,
      "right": null,
      "top": null,
      "visibility": null,
      "width": null
     }
    },
    "3e14fd76b0e74e658778c68af4db2e3d": {
     "model_module": "@jupyter-widgets/controls",
     "model_module_version": "1.5.0",
     "model_name": "HBoxModel",
     "state": {
      "_dom_classes": [],
      "_model_module": "@jupyter-widgets/controls",
      "_model_module_version": "1.5.0",
      "_model_name": "HBoxModel",
      "_view_count": null,
      "_view_module": "@jupyter-widgets/controls",
      "_view_module_version": "1.5.0",
      "_view_name": "HBoxView",
      "box_style": "",
      "children": [
       "IPY_MODEL_a8165aeb3223452ba1f087e0762e5cda",
       "IPY_MODEL_0a8d91a035634fff9858cd7092827a50",
       "IPY_MODEL_588b8508f2bb4448913eaa85bbab9478"
      ],
      "layout": "IPY_MODEL_803ec71632804ae2bb40fa4f59377651"
     }
    },
    "490a02593da94dcb98e1e97fcbf05614": {
     "model_module": "@jupyter-widgets/controls",
     "model_module_version": "1.5.0",
     "model_name": "ProgressStyleModel",
     "state": {
      "_model_module": "@jupyter-widgets/controls",
      "_model_module_version": "1.5.0",
      "_model_name": "ProgressStyleModel",
      "_view_count": null,
      "_view_module": "@jupyter-widgets/base",
      "_view_module_version": "1.2.0",
      "_view_name": "StyleView",
      "bar_color": null,
      "description_width": ""
     }
    },
    "4acb5e5099b6444bb8d008c1a062cafc": {
     "model_module": "@jupyter-widgets/controls",
     "model_module_version": "1.5.0",
     "model_name": "HTMLModel",
     "state": {
      "_dom_classes": [],
      "_model_module": "@jupyter-widgets/controls",
      "_model_module_version": "1.5.0",
      "_model_name": "HTMLModel",
      "_view_count": null,
      "_view_module": "@jupyter-widgets/controls",
      "_view_module_version": "1.5.0",
      "_view_name": "HTMLView",
      "description": "",
      "description_tooltip": null,
      "layout": "IPY_MODEL_fd115dfdbc5d4099b14241dfc23dd080",
      "placeholder": "​",
      "style": "IPY_MODEL_9d1f45b83f30404fa4145e5a3e5fce14",
      "value": "config.json: 100%"
     }
    },
    "4f11b1d4f185436a8358436e705c2f42": {
     "model_module": "@jupyter-widgets/base",
     "model_module_version": "1.2.0",
     "model_name": "LayoutModel",
     "state": {
      "_model_module": "@jupyter-widgets/base",
      "_model_module_version": "1.2.0",
      "_model_name": "LayoutModel",
      "_view_count": null,
      "_view_module": "@jupyter-widgets/base",
      "_view_module_version": "1.2.0",
      "_view_name": "LayoutView",
      "align_content": null,
      "align_items": null,
      "align_self": null,
      "border": null,
      "bottom": null,
      "display": null,
      "flex": null,
      "flex_flow": null,
      "grid_area": null,
      "grid_auto_columns": null,
      "grid_auto_flow": null,
      "grid_auto_rows": null,
      "grid_column": null,
      "grid_gap": null,
      "grid_row": null,
      "grid_template_areas": null,
      "grid_template_columns": null,
      "grid_template_rows": null,
      "height": null,
      "justify_content": null,
      "justify_items": null,
      "left": null,
      "margin": null,
      "max_height": null,
      "max_width": null,
      "min_height": null,
      "min_width": null,
      "object_fit": null,
      "object_position": null,
      "order": null,
      "overflow": null,
      "overflow_x": null,
      "overflow_y": null,
      "padding": null,
      "right": null,
      "top": null,
      "visibility": null,
      "width": null
     }
    },
    "51aeee1003c64b7fb524ffc790d75726": {
     "model_module": "@jupyter-widgets/base",
     "model_module_version": "1.2.0",
     "model_name": "LayoutModel",
     "state": {
      "_model_module": "@jupyter-widgets/base",
      "_model_module_version": "1.2.0",
      "_model_name": "LayoutModel",
      "_view_count": null,
      "_view_module": "@jupyter-widgets/base",
      "_view_module_version": "1.2.0",
      "_view_name": "LayoutView",
      "align_content": null,
      "align_items": null,
      "align_self": null,
      "border": null,
      "bottom": null,
      "display": null,
      "flex": null,
      "flex_flow": null,
      "grid_area": null,
      "grid_auto_columns": null,
      "grid_auto_flow": null,
      "grid_auto_rows": null,
      "grid_column": null,
      "grid_gap": null,
      "grid_row": null,
      "grid_template_areas": null,
      "grid_template_columns": null,
      "grid_template_rows": null,
      "height": null,
      "justify_content": null,
      "justify_items": null,
      "left": null,
      "margin": null,
      "max_height": null,
      "max_width": null,
      "min_height": null,
      "min_width": null,
      "object_fit": null,
      "object_position": null,
      "order": null,
      "overflow": null,
      "overflow_x": null,
      "overflow_y": null,
      "padding": null,
      "right": null,
      "top": null,
      "visibility": null,
      "width": null
     }
    },
    "53cf9c72e368404a8a82cf08384d64e7": {
     "model_module": "@jupyter-widgets/controls",
     "model_module_version": "1.5.0",
     "model_name": "HTMLModel",
     "state": {
      "_dom_classes": [],
      "_model_module": "@jupyter-widgets/controls",
      "_model_module_version": "1.5.0",
      "_model_name": "HTMLModel",
      "_view_count": null,
      "_view_module": "@jupyter-widgets/controls",
      "_view_module_version": "1.5.0",
      "_view_name": "HTMLView",
      "description": "",
      "description_tooltip": null,
      "layout": "IPY_MODEL_e8a50832a01a40819e522a21b73bd715",
      "placeholder": "​",
      "style": "IPY_MODEL_f8fbfb323fe947048a61c429ba9e80fc",
      "value": " 160/160 [00:00&lt;00:00, 12.7kB/s]"
     }
    },
    "53d836caad7a40858a7bb8d8a2639242": {
     "model_module": "@jupyter-widgets/controls",
     "model_module_version": "1.5.0",
     "model_name": "FloatProgressModel",
     "state": {
      "_dom_classes": [],
      "_model_module": "@jupyter-widgets/controls",
      "_model_module_version": "1.5.0",
      "_model_name": "FloatProgressModel",
      "_view_count": null,
      "_view_module": "@jupyter-widgets/controls",
      "_view_module_version": "1.5.0",
      "_view_name": "ProgressView",
      "bar_style": "success",
      "description": "",
      "description_tooltip": null,
      "layout": "IPY_MODEL_3d1fc6ccd7d74ad28941b71a6bfe3a87",
      "max": 160,
      "min": 0,
      "orientation": "horizontal",
      "style": "IPY_MODEL_1433c194c4124abc994bda9226171e5d",
      "value": 160
     }
    },
    "55c4aa5cebd4404b838a0baa5f26c8cd": {
     "model_module": "@jupyter-widgets/controls",
     "model_module_version": "1.5.0",
     "model_name": "DescriptionStyleModel",
     "state": {
      "_model_module": "@jupyter-widgets/controls",
      "_model_module_version": "1.5.0",
      "_model_name": "DescriptionStyleModel",
      "_view_count": null,
      "_view_module": "@jupyter-widgets/base",
      "_view_module_version": "1.2.0",
      "_view_name": "StyleView",
      "description_width": ""
     }
    },
    "55ccc42d84ff4e80b8b5d0d3bccd8ee8": {
     "model_module": "@jupyter-widgets/controls",
     "model_module_version": "1.5.0",
     "model_name": "ProgressStyleModel",
     "state": {
      "_model_module": "@jupyter-widgets/controls",
      "_model_module_version": "1.5.0",
      "_model_name": "ProgressStyleModel",
      "_view_count": null,
      "_view_module": "@jupyter-widgets/base",
      "_view_module_version": "1.2.0",
      "_view_name": "StyleView",
      "bar_color": null,
      "description_width": ""
     }
    },
    "56be9a4a443248a9b1e3a8c0ebcbc9b8": {
     "model_module": "@jupyter-widgets/base",
     "model_module_version": "1.2.0",
     "model_name": "LayoutModel",
     "state": {
      "_model_module": "@jupyter-widgets/base",
      "_model_module_version": "1.2.0",
      "_model_name": "LayoutModel",
      "_view_count": null,
      "_view_module": "@jupyter-widgets/base",
      "_view_module_version": "1.2.0",
      "_view_name": "LayoutView",
      "align_content": null,
      "align_items": null,
      "align_self": null,
      "border": null,
      "bottom": null,
      "display": null,
      "flex": null,
      "flex_flow": null,
      "grid_area": null,
      "grid_auto_columns": null,
      "grid_auto_flow": null,
      "grid_auto_rows": null,
      "grid_column": null,
      "grid_gap": null,
      "grid_row": null,
      "grid_template_areas": null,
      "grid_template_columns": null,
      "grid_template_rows": null,
      "height": null,
      "justify_content": null,
      "justify_items": null,
      "left": null,
      "margin": null,
      "max_height": null,
      "max_width": null,
      "min_height": null,
      "min_width": null,
      "object_fit": null,
      "object_position": null,
      "order": null,
      "overflow": null,
      "overflow_x": null,
      "overflow_y": null,
      "padding": null,
      "right": null,
      "top": null,
      "visibility": null,
      "width": null
     }
    },
    "588b8508f2bb4448913eaa85bbab9478": {
     "model_module": "@jupyter-widgets/controls",
     "model_module_version": "1.5.0",
     "model_name": "HTMLModel",
     "state": {
      "_dom_classes": [],
      "_model_module": "@jupyter-widgets/controls",
      "_model_module_version": "1.5.0",
      "_model_name": "HTMLModel",
      "_view_count": null,
      "_view_module": "@jupyter-widgets/controls",
      "_view_module_version": "1.5.0",
      "_view_name": "HTMLView",
      "description": "",
      "description_tooltip": null,
      "layout": "IPY_MODEL_2100345034ba4b31ba58e7a0b525adc4",
      "placeholder": "​",
      "style": "IPY_MODEL_abe5b4d919604c69bfbb35d2610ed06e",
      "value": " 9/9 [00:08&lt;00:00,  1.21batch/s]"
     }
    },
    "5a95f89d493046baad99a127005425dc": {
     "model_module": "@jupyter-widgets/base",
     "model_module_version": "1.2.0",
     "model_name": "LayoutModel",
     "state": {
      "_model_module": "@jupyter-widgets/base",
      "_model_module_version": "1.2.0",
      "_model_name": "LayoutModel",
      "_view_count": null,
      "_view_module": "@jupyter-widgets/base",
      "_view_module_version": "1.2.0",
      "_view_name": "LayoutView",
      "align_content": null,
      "align_items": null,
      "align_self": null,
      "border": null,
      "bottom": null,
      "display": null,
      "flex": null,
      "flex_flow": null,
      "grid_area": null,
      "grid_auto_columns": null,
      "grid_auto_flow": null,
      "grid_auto_rows": null,
      "grid_column": null,
      "grid_gap": null,
      "grid_row": null,
      "grid_template_areas": null,
      "grid_template_columns": null,
      "grid_template_rows": null,
      "height": null,
      "justify_content": null,
      "justify_items": null,
      "left": null,
      "margin": null,
      "max_height": null,
      "max_width": null,
      "min_height": null,
      "min_width": null,
      "object_fit": null,
      "object_position": null,
      "order": null,
      "overflow": null,
      "overflow_x": null,
      "overflow_y": null,
      "padding": null,
      "right": null,
      "top": null,
      "visibility": null,
      "width": null
     }
    },
    "5b1595baf40d43fcb75f24f00aa1481b": {
     "model_module": "@jupyter-widgets/controls",
     "model_module_version": "1.5.0",
     "model_name": "DescriptionStyleModel",
     "state": {
      "_model_module": "@jupyter-widgets/controls",
      "_model_module_version": "1.5.0",
      "_model_name": "DescriptionStyleModel",
      "_view_count": null,
      "_view_module": "@jupyter-widgets/base",
      "_view_module_version": "1.2.0",
      "_view_name": "StyleView",
      "description_width": ""
     }
    },
    "5b9be0338a2743a98d7236e26539c581": {
     "model_module": "@jupyter-widgets/controls",
     "model_module_version": "1.5.0",
     "model_name": "ProgressStyleModel",
     "state": {
      "_model_module": "@jupyter-widgets/controls",
      "_model_module_version": "1.5.0",
      "_model_name": "ProgressStyleModel",
      "_view_count": null,
      "_view_module": "@jupyter-widgets/base",
      "_view_module_version": "1.2.0",
      "_view_name": "StyleView",
      "bar_color": null,
      "description_width": ""
     }
    },
    "5dd5e10d939e49f89067511a6e666868": {
     "model_module": "@jupyter-widgets/base",
     "model_module_version": "1.2.0",
     "model_name": "LayoutModel",
     "state": {
      "_model_module": "@jupyter-widgets/base",
      "_model_module_version": "1.2.0",
      "_model_name": "LayoutModel",
      "_view_count": null,
      "_view_module": "@jupyter-widgets/base",
      "_view_module_version": "1.2.0",
      "_view_name": "LayoutView",
      "align_content": null,
      "align_items": null,
      "align_self": null,
      "border": null,
      "bottom": null,
      "display": null,
      "flex": null,
      "flex_flow": null,
      "grid_area": null,
      "grid_auto_columns": null,
      "grid_auto_flow": null,
      "grid_auto_rows": null,
      "grid_column": null,
      "grid_gap": null,
      "grid_row": null,
      "grid_template_areas": null,
      "grid_template_columns": null,
      "grid_template_rows": null,
      "height": null,
      "justify_content": null,
      "justify_items": null,
      "left": null,
      "margin": null,
      "max_height": null,
      "max_width": null,
      "min_height": null,
      "min_width": null,
      "object_fit": null,
      "object_position": null,
      "order": null,
      "overflow": null,
      "overflow_x": null,
      "overflow_y": null,
      "padding": null,
      "right": null,
      "top": null,
      "visibility": null,
      "width": null
     }
    },
    "61dd2194325c4d83bd846ba6f4f359ef": {
     "model_module": "@jupyter-widgets/base",
     "model_module_version": "1.2.0",
     "model_name": "LayoutModel",
     "state": {
      "_model_module": "@jupyter-widgets/base",
      "_model_module_version": "1.2.0",
      "_model_name": "LayoutModel",
      "_view_count": null,
      "_view_module": "@jupyter-widgets/base",
      "_view_module_version": "1.2.0",
      "_view_name": "LayoutView",
      "align_content": null,
      "align_items": null,
      "align_self": null,
      "border": null,
      "bottom": null,
      "display": null,
      "flex": null,
      "flex_flow": null,
      "grid_area": null,
      "grid_auto_columns": null,
      "grid_auto_flow": null,
      "grid_auto_rows": null,
      "grid_column": null,
      "grid_gap": null,
      "grid_row": null,
      "grid_template_areas": null,
      "grid_template_columns": null,
      "grid_template_rows": null,
      "height": null,
      "justify_content": null,
      "justify_items": null,
      "left": null,
      "margin": null,
      "max_height": null,
      "max_width": null,
      "min_height": null,
      "min_width": null,
      "object_fit": null,
      "object_position": null,
      "order": null,
      "overflow": null,
      "overflow_x": null,
      "overflow_y": null,
      "padding": null,
      "right": null,
      "top": null,
      "visibility": null,
      "width": null
     }
    },
    "6900a7877ce94038a8490d45c038b30c": {
     "model_module": "@jupyter-widgets/base",
     "model_module_version": "1.2.0",
     "model_name": "LayoutModel",
     "state": {
      "_model_module": "@jupyter-widgets/base",
      "_model_module_version": "1.2.0",
      "_model_name": "LayoutModel",
      "_view_count": null,
      "_view_module": "@jupyter-widgets/base",
      "_view_module_version": "1.2.0",
      "_view_name": "LayoutView",
      "align_content": null,
      "align_items": null,
      "align_self": null,
      "border": null,
      "bottom": null,
      "display": null,
      "flex": null,
      "flex_flow": null,
      "grid_area": null,
      "grid_auto_columns": null,
      "grid_auto_flow": null,
      "grid_auto_rows": null,
      "grid_column": null,
      "grid_gap": null,
      "grid_row": null,
      "grid_template_areas": null,
      "grid_template_columns": null,
      "grid_template_rows": null,
      "height": null,
      "justify_content": null,
      "justify_items": null,
      "left": null,
      "margin": null,
      "max_height": null,
      "max_width": null,
      "min_height": null,
      "min_width": null,
      "object_fit": null,
      "object_position": null,
      "order": null,
      "overflow": null,
      "overflow_x": null,
      "overflow_y": null,
      "padding": null,
      "right": null,
      "top": null,
      "visibility": null,
      "width": null
     }
    },
    "6b5dee164f0f42e294746ac335a0d46f": {
     "model_module": "@jupyter-widgets/controls",
     "model_module_version": "1.5.0",
     "model_name": "HTMLModel",
     "state": {
      "_dom_classes": [],
      "_model_module": "@jupyter-widgets/controls",
      "_model_module_version": "1.5.0",
      "_model_name": "HTMLModel",
      "_view_count": null,
      "_view_module": "@jupyter-widgets/controls",
      "_view_module_version": "1.5.0",
      "_view_name": "HTMLView",
      "description": "",
      "description_tooltip": null,
      "layout": "IPY_MODEL_acc81b35e97349f39ea4564f5b01fc9e",
      "placeholder": "​",
      "style": "IPY_MODEL_5b1595baf40d43fcb75f24f00aa1481b",
      "value": "Extracting Features: 100%"
     }
    },
    "6b678a99d490466da2db53ff252a393b": {
     "model_module": "@jupyter-widgets/controls",
     "model_module_version": "1.5.0",
     "model_name": "HTMLModel",
     "state": {
      "_dom_classes": [],
      "_model_module": "@jupyter-widgets/controls",
      "_model_module_version": "1.5.0",
      "_model_name": "HTMLModel",
      "_view_count": null,
      "_view_module": "@jupyter-widgets/controls",
      "_view_module_version": "1.5.0",
      "_view_name": "HTMLView",
      "description": "",
      "description_tooltip": null,
      "layout": "IPY_MODEL_61dd2194325c4d83bd846ba6f4f359ef",
      "placeholder": "​",
      "style": "IPY_MODEL_55c4aa5cebd4404b838a0baa5f26c8cd",
      "value": " 9/9 [00:08&lt;00:00,  1.28batch/s]"
     }
    },
    "7309907e5be44fdf8368cb20890c72f6": {
     "model_module": "@jupyter-widgets/base",
     "model_module_version": "1.2.0",
     "model_name": "LayoutModel",
     "state": {
      "_model_module": "@jupyter-widgets/base",
      "_model_module_version": "1.2.0",
      "_model_name": "LayoutModel",
      "_view_count": null,
      "_view_module": "@jupyter-widgets/base",
      "_view_module_version": "1.2.0",
      "_view_name": "LayoutView",
      "align_content": null,
      "align_items": null,
      "align_self": null,
      "border": null,
      "bottom": null,
      "display": null,
      "flex": null,
      "flex_flow": null,
      "grid_area": null,
      "grid_auto_columns": null,
      "grid_auto_flow": null,
      "grid_auto_rows": null,
      "grid_column": null,
      "grid_gap": null,
      "grid_row": null,
      "grid_template_areas": null,
      "grid_template_columns": null,
      "grid_template_rows": null,
      "height": null,
      "justify_content": null,
      "justify_items": null,
      "left": null,
      "margin": null,
      "max_height": null,
      "max_width": null,
      "min_height": null,
      "min_width": null,
      "object_fit": null,
      "object_position": null,
      "order": null,
      "overflow": null,
      "overflow_x": null,
      "overflow_y": null,
      "padding": null,
      "right": null,
      "top": null,
      "visibility": null,
      "width": null
     }
    },
    "803ec71632804ae2bb40fa4f59377651": {
     "model_module": "@jupyter-widgets/base",
     "model_module_version": "1.2.0",
     "model_name": "LayoutModel",
     "state": {
      "_model_module": "@jupyter-widgets/base",
      "_model_module_version": "1.2.0",
      "_model_name": "LayoutModel",
      "_view_count": null,
      "_view_module": "@jupyter-widgets/base",
      "_view_module_version": "1.2.0",
      "_view_name": "LayoutView",
      "align_content": null,
      "align_items": null,
      "align_self": null,
      "border": null,
      "bottom": null,
      "display": null,
      "flex": null,
      "flex_flow": null,
      "grid_area": null,
      "grid_auto_columns": null,
      "grid_auto_flow": null,
      "grid_auto_rows": null,
      "grid_column": null,
      "grid_gap": null,
      "grid_row": null,
      "grid_template_areas": null,
      "grid_template_columns": null,
      "grid_template_rows": null,
      "height": null,
      "justify_content": null,
      "justify_items": null,
      "left": null,
      "margin": null,
      "max_height": null,
      "max_width": null,
      "min_height": null,
      "min_width": null,
      "object_fit": null,
      "object_position": null,
      "order": null,
      "overflow": null,
      "overflow_x": null,
      "overflow_y": null,
      "padding": null,
      "right": null,
      "top": null,
      "visibility": null,
      "width": null
     }
    },
    "80960ccf6d6d4a0cad68ef97424fd6c8": {
     "model_module": "@jupyter-widgets/controls",
     "model_module_version": "1.5.0",
     "model_name": "HTMLModel",
     "state": {
      "_dom_classes": [],
      "_model_module": "@jupyter-widgets/controls",
      "_model_module_version": "1.5.0",
      "_model_name": "HTMLModel",
      "_view_count": null,
      "_view_module": "@jupyter-widgets/controls",
      "_view_module_version": "1.5.0",
      "_view_name": "HTMLView",
      "description": "",
      "description_tooltip": null,
      "layout": "IPY_MODEL_18c2d85f486f4d1a9f87182f896b335b",
      "placeholder": "​",
      "style": "IPY_MODEL_b0aeb100c68e4035a27f30925ae16ea5",
      "value": "model.safetensors: 100%"
     }
    },
    "8325c68092aa4e26a68faf51c347bce8": {
     "model_module": "@jupyter-widgets/controls",
     "model_module_version": "1.5.0",
     "model_name": "ProgressStyleModel",
     "state": {
      "_model_module": "@jupyter-widgets/controls",
      "_model_module_version": "1.5.0",
      "_model_name": "ProgressStyleModel",
      "_view_count": null,
      "_view_module": "@jupyter-widgets/base",
      "_view_module_version": "1.2.0",
      "_view_name": "StyleView",
      "bar_color": null,
      "description_width": ""
     }
    },
    "906e0aca05e04737b5d272a2edf89092": {
     "model_module": "@jupyter-widgets/controls",
     "model_module_version": "1.5.0",
     "model_name": "HBoxModel",
     "state": {
      "_dom_classes": [],
      "_model_module": "@jupyter-widgets/controls",
      "_model_module_version": "1.5.0",
      "_model_name": "HBoxModel",
      "_view_count": null,
      "_view_module": "@jupyter-widgets/controls",
      "_view_module_version": "1.5.0",
      "_view_name": "HBoxView",
      "box_style": "",
      "children": [
       "IPY_MODEL_ca1af8c5f1a14b3a9fbe1e73fd00780e",
       "IPY_MODEL_53d836caad7a40858a7bb8d8a2639242",
       "IPY_MODEL_53cf9c72e368404a8a82cf08384d64e7"
      ],
      "layout": "IPY_MODEL_ec142c503e294e199bfb9df59923e420"
     }
    },
    "9b71cf8d16374372ad06ce6e3847e71a": {
     "model_module": "@jupyter-widgets/base",
     "model_module_version": "1.2.0",
     "model_name": "LayoutModel",
     "state": {
      "_model_module": "@jupyter-widgets/base",
      "_model_module_version": "1.2.0",
      "_model_name": "LayoutModel",
      "_view_count": null,
      "_view_module": "@jupyter-widgets/base",
      "_view_module_version": "1.2.0",
      "_view_name": "LayoutView",
      "align_content": null,
      "align_items": null,
      "align_self": null,
      "border": null,
      "bottom": null,
      "display": null,
      "flex": null,
      "flex_flow": null,
      "grid_area": null,
      "grid_auto_columns": null,
      "grid_auto_flow": null,
      "grid_auto_rows": null,
      "grid_column": null,
      "grid_gap": null,
      "grid_row": null,
      "grid_template_areas": null,
      "grid_template_columns": null,
      "grid_template_rows": null,
      "height": null,
      "justify_content": null,
      "justify_items": null,
      "left": null,
      "margin": null,
      "max_height": null,
      "max_width": null,
      "min_height": null,
      "min_width": null,
      "object_fit": null,
      "object_position": null,
      "order": null,
      "overflow": null,
      "overflow_x": null,
      "overflow_y": null,
      "padding": null,
      "right": null,
      "top": null,
      "visibility": null,
      "width": null
     }
    },
    "9ba2de5d2a5c47bfb23e6fd35277b2ea": {
     "model_module": "@jupyter-widgets/base",
     "model_module_version": "1.2.0",
     "model_name": "LayoutModel",
     "state": {
      "_model_module": "@jupyter-widgets/base",
      "_model_module_version": "1.2.0",
      "_model_name": "LayoutModel",
      "_view_count": null,
      "_view_module": "@jupyter-widgets/base",
      "_view_module_version": "1.2.0",
      "_view_name": "LayoutView",
      "align_content": null,
      "align_items": null,
      "align_self": null,
      "border": null,
      "bottom": null,
      "display": null,
      "flex": null,
      "flex_flow": null,
      "grid_area": null,
      "grid_auto_columns": null,
      "grid_auto_flow": null,
      "grid_auto_rows": null,
      "grid_column": null,
      "grid_gap": null,
      "grid_row": null,
      "grid_template_areas": null,
      "grid_template_columns": null,
      "grid_template_rows": null,
      "height": null,
      "justify_content": null,
      "justify_items": null,
      "left": null,
      "margin": null,
      "max_height": null,
      "max_width": null,
      "min_height": null,
      "min_width": null,
      "object_fit": null,
      "object_position": null,
      "order": null,
      "overflow": null,
      "overflow_x": null,
      "overflow_y": null,
      "padding": null,
      "right": null,
      "top": null,
      "visibility": null,
      "width": null
     }
    },
    "9d1f45b83f30404fa4145e5a3e5fce14": {
     "model_module": "@jupyter-widgets/controls",
     "model_module_version": "1.5.0",
     "model_name": "DescriptionStyleModel",
     "state": {
      "_model_module": "@jupyter-widgets/controls",
      "_model_module_version": "1.5.0",
      "_model_name": "DescriptionStyleModel",
      "_view_count": null,
      "_view_module": "@jupyter-widgets/base",
      "_view_module_version": "1.2.0",
      "_view_name": "StyleView",
      "description_width": ""
     }
    },
    "9e315cd9ae5649c3972dfce61515964c": {
     "model_module": "@jupyter-widgets/controls",
     "model_module_version": "1.5.0",
     "model_name": "FloatProgressModel",
     "state": {
      "_dom_classes": [],
      "_model_module": "@jupyter-widgets/controls",
      "_model_module_version": "1.5.0",
      "_model_name": "FloatProgressModel",
      "_view_count": null,
      "_view_module": "@jupyter-widgets/controls",
      "_view_module_version": "1.5.0",
      "_view_name": "ProgressView",
      "bar_style": "success",
      "description": "",
      "description_tooltip": null,
      "layout": "IPY_MODEL_eb2a35599b564886bff9afe7c0ef8b91",
      "max": 9,
      "min": 0,
      "orientation": "horizontal",
      "style": "IPY_MODEL_e6a68335aceb4efaaaf32c1c9b7297a9",
      "value": 9
     }
    },
    "a241a30ea645448595160a83a58eae82": {
     "model_module": "@jupyter-widgets/controls",
     "model_module_version": "1.5.0",
     "model_name": "HBoxModel",
     "state": {
      "_dom_classes": [],
      "_model_module": "@jupyter-widgets/controls",
      "_model_module_version": "1.5.0",
      "_model_name": "HBoxModel",
      "_view_count": null,
      "_view_module": "@jupyter-widgets/controls",
      "_view_module_version": "1.5.0",
      "_view_name": "HBoxView",
      "box_style": "",
      "children": [
       "IPY_MODEL_dbefe57c05b24f50ad5d2c9c5f0ccbf5",
       "IPY_MODEL_00d09c7947ea459abafa49b202b3c820",
       "IPY_MODEL_ce9aedddd262425bb52c892f5e74df9a"
      ],
      "layout": "IPY_MODEL_9b71cf8d16374372ad06ce6e3847e71a"
     }
    },
    "a8165aeb3223452ba1f087e0762e5cda": {
     "model_module": "@jupyter-widgets/controls",
     "model_module_version": "1.5.0",
     "model_name": "HTMLModel",
     "state": {
      "_dom_classes": [],
      "_model_module": "@jupyter-widgets/controls",
      "_model_module_version": "1.5.0",
      "_model_name": "HTMLModel",
      "_view_count": null,
      "_view_module": "@jupyter-widgets/controls",
      "_view_module_version": "1.5.0",
      "_view_name": "HTMLView",
      "description": "",
      "description_tooltip": null,
      "layout": "IPY_MODEL_e85447019f99419f9611723f7c30ae1b",
      "placeholder": "​",
      "style": "IPY_MODEL_a956e77584b8499bb74c6e5d6508a938",
      "value": "Extracting Features: 100%"
     }
    },
    "a956e77584b8499bb74c6e5d6508a938": {
     "model_module": "@jupyter-widgets/controls",
     "model_module_version": "1.5.0",
     "model_name": "DescriptionStyleModel",
     "state": {
      "_model_module": "@jupyter-widgets/controls",
      "_model_module_version": "1.5.0",
      "_model_name": "DescriptionStyleModel",
      "_view_count": null,
      "_view_module": "@jupyter-widgets/base",
      "_view_module_version": "1.2.0",
      "_view_name": "StyleView",
      "description_width": ""
     }
    },
    "abe5b4d919604c69bfbb35d2610ed06e": {
     "model_module": "@jupyter-widgets/controls",
     "model_module_version": "1.5.0",
     "model_name": "DescriptionStyleModel",
     "state": {
      "_model_module": "@jupyter-widgets/controls",
      "_model_module_version": "1.5.0",
      "_model_name": "DescriptionStyleModel",
      "_view_count": null,
      "_view_module": "@jupyter-widgets/base",
      "_view_module_version": "1.2.0",
      "_view_name": "StyleView",
      "description_width": ""
     }
    },
    "ac576bfb152f45a589a5378f2ccf3a9a": {
     "model_module": "@jupyter-widgets/controls",
     "model_module_version": "1.5.0",
     "model_name": "HTMLModel",
     "state": {
      "_dom_classes": [],
      "_model_module": "@jupyter-widgets/controls",
      "_model_module_version": "1.5.0",
      "_model_name": "HTMLModel",
      "_view_count": null,
      "_view_module": "@jupyter-widgets/controls",
      "_view_module_version": "1.5.0",
      "_view_name": "HTMLView",
      "description": "",
      "description_tooltip": null,
      "layout": "IPY_MODEL_5a95f89d493046baad99a127005425dc",
      "placeholder": "​",
      "style": "IPY_MODEL_1fa4cdaf8def47a0b92748fa4665cb31",
      "value": " 352M/352M [00:07&lt;00:00, 44.6MB/s]"
     }
    },
    "acc81b35e97349f39ea4564f5b01fc9e": {
     "model_module": "@jupyter-widgets/base",
     "model_module_version": "1.2.0",
     "model_name": "LayoutModel",
     "state": {
      "_model_module": "@jupyter-widgets/base",
      "_model_module_version": "1.2.0",
      "_model_name": "LayoutModel",
      "_view_count": null,
      "_view_module": "@jupyter-widgets/base",
      "_view_module_version": "1.2.0",
      "_view_name": "LayoutView",
      "align_content": null,
      "align_items": null,
      "align_self": null,
      "border": null,
      "bottom": null,
      "display": null,
      "flex": null,
      "flex_flow": null,
      "grid_area": null,
      "grid_auto_columns": null,
      "grid_auto_flow": null,
      "grid_auto_rows": null,
      "grid_column": null,
      "grid_gap": null,
      "grid_row": null,
      "grid_template_areas": null,
      "grid_template_columns": null,
      "grid_template_rows": null,
      "height": null,
      "justify_content": null,
      "justify_items": null,
      "left": null,
      "margin": null,
      "max_height": null,
      "max_width": null,
      "min_height": null,
      "min_width": null,
      "object_fit": null,
      "object_position": null,
      "order": null,
      "overflow": null,
      "overflow_x": null,
      "overflow_y": null,
      "padding": null,
      "right": null,
      "top": null,
      "visibility": null,
      "width": null
     }
    },
    "b0aeb100c68e4035a27f30925ae16ea5": {
     "model_module": "@jupyter-widgets/controls",
     "model_module_version": "1.5.0",
     "model_name": "DescriptionStyleModel",
     "state": {
      "_model_module": "@jupyter-widgets/controls",
      "_model_module_version": "1.5.0",
      "_model_name": "DescriptionStyleModel",
      "_view_count": null,
      "_view_module": "@jupyter-widgets/base",
      "_view_module_version": "1.2.0",
      "_view_name": "StyleView",
      "description_width": ""
     }
    },
    "b9662e9a35fb46f09fcf6372fd8939da": {
     "model_module": "@jupyter-widgets/controls",
     "model_module_version": "1.5.0",
     "model_name": "DescriptionStyleModel",
     "state": {
      "_model_module": "@jupyter-widgets/controls",
      "_model_module_version": "1.5.0",
      "_model_name": "DescriptionStyleModel",
      "_view_count": null,
      "_view_module": "@jupyter-widgets/base",
      "_view_module_version": "1.2.0",
      "_view_name": "StyleView",
      "description_width": ""
     }
    },
    "b9ea6ca94a834f56982f5c20ed4d9d47": {
     "model_module": "@jupyter-widgets/base",
     "model_module_version": "1.2.0",
     "model_name": "LayoutModel",
     "state": {
      "_model_module": "@jupyter-widgets/base",
      "_model_module_version": "1.2.0",
      "_model_name": "LayoutModel",
      "_view_count": null,
      "_view_module": "@jupyter-widgets/base",
      "_view_module_version": "1.2.0",
      "_view_name": "LayoutView",
      "align_content": null,
      "align_items": null,
      "align_self": null,
      "border": null,
      "bottom": null,
      "display": null,
      "flex": null,
      "flex_flow": null,
      "grid_area": null,
      "grid_auto_columns": null,
      "grid_auto_flow": null,
      "grid_auto_rows": null,
      "grid_column": null,
      "grid_gap": null,
      "grid_row": null,
      "grid_template_areas": null,
      "grid_template_columns": null,
      "grid_template_rows": null,
      "height": null,
      "justify_content": null,
      "justify_items": null,
      "left": null,
      "margin": null,
      "max_height": null,
      "max_width": null,
      "min_height": null,
      "min_width": null,
      "object_fit": null,
      "object_position": null,
      "order": null,
      "overflow": null,
      "overflow_x": null,
      "overflow_y": null,
      "padding": null,
      "right": null,
      "top": null,
      "visibility": null,
      "width": null
     }
    },
    "b9f39f4583134d3694abe9fb638830d1": {
     "model_module": "@jupyter-widgets/controls",
     "model_module_version": "1.5.0",
     "model_name": "HBoxModel",
     "state": {
      "_dom_classes": [],
      "_model_module": "@jupyter-widgets/controls",
      "_model_module_version": "1.5.0",
      "_model_name": "HBoxModel",
      "_view_count": null,
      "_view_module": "@jupyter-widgets/controls",
      "_view_module_version": "1.5.0",
      "_view_name": "HBoxView",
      "box_style": "",
      "children": [
       "IPY_MODEL_4acb5e5099b6444bb8d008c1a062cafc",
       "IPY_MODEL_ec3aa8884544484ab39d7130a580006a",
       "IPY_MODEL_3615d953b6f44366867743f02b606ab0"
      ],
      "layout": "IPY_MODEL_2974f73fc15447fb97ecc8018fee745e"
     }
    },
    "bc7c042d7f8f4f41b31ed24c0ddc504f": {
     "model_module": "@jupyter-widgets/controls",
     "model_module_version": "1.5.0",
     "model_name": "HBoxModel",
     "state": {
      "_dom_classes": [],
      "_model_module": "@jupyter-widgets/controls",
      "_model_module_version": "1.5.0",
      "_model_name": "HBoxModel",
      "_view_count": null,
      "_view_module": "@jupyter-widgets/controls",
      "_view_module_version": "1.5.0",
      "_view_name": "HBoxView",
      "box_style": "",
      "children": [
       "IPY_MODEL_80960ccf6d6d4a0cad68ef97424fd6c8",
       "IPY_MODEL_f6cd04eb6a3b4a908497a81e7558b0ec",
       "IPY_MODEL_ac576bfb152f45a589a5378f2ccf3a9a"
      ],
      "layout": "IPY_MODEL_be742701c7704173995c7d627c20fe3c"
     }
    },
    "be742701c7704173995c7d627c20fe3c": {
     "model_module": "@jupyter-widgets/base",
     "model_module_version": "1.2.0",
     "model_name": "LayoutModel",
     "state": {
      "_model_module": "@jupyter-widgets/base",
      "_model_module_version": "1.2.0",
      "_model_name": "LayoutModel",
      "_view_count": null,
      "_view_module": "@jupyter-widgets/base",
      "_view_module_version": "1.2.0",
      "_view_name": "LayoutView",
      "align_content": null,
      "align_items": null,
      "align_self": null,
      "border": null,
      "bottom": null,
      "display": null,
      "flex": null,
      "flex_flow": null,
      "grid_area": null,
      "grid_auto_columns": null,
      "grid_auto_flow": null,
      "grid_auto_rows": null,
      "grid_column": null,
      "grid_gap": null,
      "grid_row": null,
      "grid_template_areas": null,
      "grid_template_columns": null,
      "grid_template_rows": null,
      "height": null,
      "justify_content": null,
      "justify_items": null,
      "left": null,
      "margin": null,
      "max_height": null,
      "max_width": null,
      "min_height": null,
      "min_width": null,
      "object_fit": null,
      "object_position": null,
      "order": null,
      "overflow": null,
      "overflow_x": null,
      "overflow_y": null,
      "padding": null,
      "right": null,
      "top": null,
      "visibility": null,
      "width": null
     }
    },
    "ca1af8c5f1a14b3a9fbe1e73fd00780e": {
     "model_module": "@jupyter-widgets/controls",
     "model_module_version": "1.5.0",
     "model_name": "HTMLModel",
     "state": {
      "_dom_classes": [],
      "_model_module": "@jupyter-widgets/controls",
      "_model_module_version": "1.5.0",
      "_model_name": "HTMLModel",
      "_view_count": null,
      "_view_module": "@jupyter-widgets/controls",
      "_view_module_version": "1.5.0",
      "_view_name": "HTMLView",
      "description": "",
      "description_tooltip": null,
      "layout": "IPY_MODEL_7309907e5be44fdf8368cb20890c72f6",
      "placeholder": "​",
      "style": "IPY_MODEL_17ba2a4778f94de5b321ed36a405efb6",
      "value": "preprocessor_config.json: 100%"
     }
    },
    "ce9aedddd262425bb52c892f5e74df9a": {
     "model_module": "@jupyter-widgets/controls",
     "model_module_version": "1.5.0",
     "model_name": "HTMLModel",
     "state": {
      "_dom_classes": [],
      "_model_module": "@jupyter-widgets/controls",
      "_model_module_version": "1.5.0",
      "_model_name": "HTMLModel",
      "_view_count": null,
      "_view_module": "@jupyter-widgets/controls",
      "_view_module_version": "1.5.0",
      "_view_name": "HTMLView",
      "description": "",
      "description_tooltip": null,
      "layout": "IPY_MODEL_e65ac4dcaed84ba9b3af539005b5f1f5",
      "placeholder": "​",
      "style": "IPY_MODEL_25a350be4caf4bad83f9b0806db819ca",
      "value": " 239/239 [03:56&lt;00:00,  1.21batch/s]"
     }
    },
    "d75469af2a3444e593477452a9857aa9": {
     "model_module": "@jupyter-widgets/base",
     "model_module_version": "1.2.0",
     "model_name": "LayoutModel",
     "state": {
      "_model_module": "@jupyter-widgets/base",
      "_model_module_version": "1.2.0",
      "_model_name": "LayoutModel",
      "_view_count": null,
      "_view_module": "@jupyter-widgets/base",
      "_view_module_version": "1.2.0",
      "_view_name": "LayoutView",
      "align_content": null,
      "align_items": null,
      "align_self": null,
      "border": null,
      "bottom": null,
      "display": null,
      "flex": null,
      "flex_flow": null,
      "grid_area": null,
      "grid_auto_columns": null,
      "grid_auto_flow": null,
      "grid_auto_rows": null,
      "grid_column": null,
      "grid_gap": null,
      "grid_row": null,
      "grid_template_areas": null,
      "grid_template_columns": null,
      "grid_template_rows": null,
      "height": null,
      "justify_content": null,
      "justify_items": null,
      "left": null,
      "margin": null,
      "max_height": null,
      "max_width": null,
      "min_height": null,
      "min_width": null,
      "object_fit": null,
      "object_position": null,
      "order": null,
      "overflow": null,
      "overflow_x": null,
      "overflow_y": null,
      "padding": null,
      "right": null,
      "top": null,
      "visibility": null,
      "width": null
     }
    },
    "d7a8dec2f5fc4c0e893d15558f6713e2": {
     "model_module": "@jupyter-widgets/base",
     "model_module_version": "1.2.0",
     "model_name": "LayoutModel",
     "state": {
      "_model_module": "@jupyter-widgets/base",
      "_model_module_version": "1.2.0",
      "_model_name": "LayoutModel",
      "_view_count": null,
      "_view_module": "@jupyter-widgets/base",
      "_view_module_version": "1.2.0",
      "_view_name": "LayoutView",
      "align_content": null,
      "align_items": null,
      "align_self": null,
      "border": null,
      "bottom": null,
      "display": null,
      "flex": null,
      "flex_flow": null,
      "grid_area": null,
      "grid_auto_columns": null,
      "grid_auto_flow": null,
      "grid_auto_rows": null,
      "grid_column": null,
      "grid_gap": null,
      "grid_row": null,
      "grid_template_areas": null,
      "grid_template_columns": null,
      "grid_template_rows": null,
      "height": null,
      "justify_content": null,
      "justify_items": null,
      "left": null,
      "margin": null,
      "max_height": null,
      "max_width": null,
      "min_height": null,
      "min_width": null,
      "object_fit": null,
      "object_position": null,
      "order": null,
      "overflow": null,
      "overflow_x": null,
      "overflow_y": null,
      "padding": null,
      "right": null,
      "top": null,
      "visibility": null,
      "width": null
     }
    },
    "d81f069994464cc3b5de04f10f4ecbc4": {
     "model_module": "@jupyter-widgets/controls",
     "model_module_version": "1.5.0",
     "model_name": "FloatProgressModel",
     "state": {
      "_dom_classes": [],
      "_model_module": "@jupyter-widgets/controls",
      "_model_module_version": "1.5.0",
      "_model_name": "FloatProgressModel",
      "_view_count": null,
      "_view_module": "@jupyter-widgets/controls",
      "_view_module_version": "1.5.0",
      "_view_name": "ProgressView",
      "bar_style": "success",
      "description": "",
      "description_tooltip": null,
      "layout": "IPY_MODEL_5dd5e10d939e49f89067511a6e666868",
      "max": 239,
      "min": 0,
      "orientation": "horizontal",
      "style": "IPY_MODEL_55ccc42d84ff4e80b8b5d0d3bccd8ee8",
      "value": 239
     }
    },
    "dad642c20ade48679918fcf523ca95fe": {
     "model_module": "@jupyter-widgets/base",
     "model_module_version": "1.2.0",
     "model_name": "LayoutModel",
     "state": {
      "_model_module": "@jupyter-widgets/base",
      "_model_module_version": "1.2.0",
      "_model_name": "LayoutModel",
      "_view_count": null,
      "_view_module": "@jupyter-widgets/base",
      "_view_module_version": "1.2.0",
      "_view_name": "LayoutView",
      "align_content": null,
      "align_items": null,
      "align_self": null,
      "border": null,
      "bottom": null,
      "display": null,
      "flex": null,
      "flex_flow": null,
      "grid_area": null,
      "grid_auto_columns": null,
      "grid_auto_flow": null,
      "grid_auto_rows": null,
      "grid_column": null,
      "grid_gap": null,
      "grid_row": null,
      "grid_template_areas": null,
      "grid_template_columns": null,
      "grid_template_rows": null,
      "height": null,
      "justify_content": null,
      "justify_items": null,
      "left": null,
      "margin": null,
      "max_height": null,
      "max_width": null,
      "min_height": null,
      "min_width": null,
      "object_fit": null,
      "object_position": null,
      "order": null,
      "overflow": null,
      "overflow_x": null,
      "overflow_y": null,
      "padding": null,
      "right": null,
      "top": null,
      "visibility": null,
      "width": null
     }
    },
    "db8cadcf0fd64bfd9b1e90eb52542469": {
     "model_module": "@jupyter-widgets/controls",
     "model_module_version": "1.5.0",
     "model_name": "HTMLModel",
     "state": {
      "_dom_classes": [],
      "_model_module": "@jupyter-widgets/controls",
      "_model_module_version": "1.5.0",
      "_model_name": "HTMLModel",
      "_view_count": null,
      "_view_module": "@jupyter-widgets/controls",
      "_view_module_version": "1.5.0",
      "_view_name": "HTMLView",
      "description": "",
      "description_tooltip": null,
      "layout": "IPY_MODEL_d75469af2a3444e593477452a9857aa9",
      "placeholder": "​",
      "style": "IPY_MODEL_f0c9739ba1974d77b989e07e327f30e2",
      "value": "Extracting Features: 100%"
     }
    },
    "dbefe57c05b24f50ad5d2c9c5f0ccbf5": {
     "model_module": "@jupyter-widgets/controls",
     "model_module_version": "1.5.0",
     "model_name": "HTMLModel",
     "state": {
      "_dom_classes": [],
      "_model_module": "@jupyter-widgets/controls",
      "_model_module_version": "1.5.0",
      "_model_name": "HTMLModel",
      "_view_count": null,
      "_view_module": "@jupyter-widgets/controls",
      "_view_module_version": "1.5.0",
      "_view_name": "HTMLView",
      "description": "",
      "description_tooltip": null,
      "layout": "IPY_MODEL_6900a7877ce94038a8490d45c038b30c",
      "placeholder": "​",
      "style": "IPY_MODEL_21ce3818a349455d920b25ecc3b2b47a",
      "value": "Extracting Features: 100%"
     }
    },
    "e1480ec73bd84f39b47ad284ffe47559": {
     "model_module": "@jupyter-widgets/base",
     "model_module_version": "1.2.0",
     "model_name": "LayoutModel",
     "state": {
      "_model_module": "@jupyter-widgets/base",
      "_model_module_version": "1.2.0",
      "_model_name": "LayoutModel",
      "_view_count": null,
      "_view_module": "@jupyter-widgets/base",
      "_view_module_version": "1.2.0",
      "_view_name": "LayoutView",
      "align_content": null,
      "align_items": null,
      "align_self": null,
      "border": null,
      "bottom": null,
      "display": null,
      "flex": null,
      "flex_flow": null,
      "grid_area": null,
      "grid_auto_columns": null,
      "grid_auto_flow": null,
      "grid_auto_rows": null,
      "grid_column": null,
      "grid_gap": null,
      "grid_row": null,
      "grid_template_areas": null,
      "grid_template_columns": null,
      "grid_template_rows": null,
      "height": null,
      "justify_content": null,
      "justify_items": null,
      "left": null,
      "margin": null,
      "max_height": null,
      "max_width": null,
      "min_height": null,
      "min_width": null,
      "object_fit": null,
      "object_position": null,
      "order": null,
      "overflow": null,
      "overflow_x": null,
      "overflow_y": null,
      "padding": null,
      "right": null,
      "top": null,
      "visibility": null,
      "width": null
     }
    },
    "e197cef77f9744708bc95940991957ec": {
     "model_module": "@jupyter-widgets/controls",
     "model_module_version": "1.5.0",
     "model_name": "DescriptionStyleModel",
     "state": {
      "_model_module": "@jupyter-widgets/controls",
      "_model_module_version": "1.5.0",
      "_model_name": "DescriptionStyleModel",
      "_view_count": null,
      "_view_module": "@jupyter-widgets/base",
      "_view_module_version": "1.2.0",
      "_view_name": "StyleView",
      "description_width": ""
     }
    },
    "e65ac4dcaed84ba9b3af539005b5f1f5": {
     "model_module": "@jupyter-widgets/base",
     "model_module_version": "1.2.0",
     "model_name": "LayoutModel",
     "state": {
      "_model_module": "@jupyter-widgets/base",
      "_model_module_version": "1.2.0",
      "_model_name": "LayoutModel",
      "_view_count": null,
      "_view_module": "@jupyter-widgets/base",
      "_view_module_version": "1.2.0",
      "_view_name": "LayoutView",
      "align_content": null,
      "align_items": null,
      "align_self": null,
      "border": null,
      "bottom": null,
      "display": null,
      "flex": null,
      "flex_flow": null,
      "grid_area": null,
      "grid_auto_columns": null,
      "grid_auto_flow": null,
      "grid_auto_rows": null,
      "grid_column": null,
      "grid_gap": null,
      "grid_row": null,
      "grid_template_areas": null,
      "grid_template_columns": null,
      "grid_template_rows": null,
      "height": null,
      "justify_content": null,
      "justify_items": null,
      "left": null,
      "margin": null,
      "max_height": null,
      "max_width": null,
      "min_height": null,
      "min_width": null,
      "object_fit": null,
      "object_position": null,
      "order": null,
      "overflow": null,
      "overflow_x": null,
      "overflow_y": null,
      "padding": null,
      "right": null,
      "top": null,
      "visibility": null,
      "width": null
     }
    },
    "e6a68335aceb4efaaaf32c1c9b7297a9": {
     "model_module": "@jupyter-widgets/controls",
     "model_module_version": "1.5.0",
     "model_name": "ProgressStyleModel",
     "state": {
      "_model_module": "@jupyter-widgets/controls",
      "_model_module_version": "1.5.0",
      "_model_name": "ProgressStyleModel",
      "_view_count": null,
      "_view_module": "@jupyter-widgets/base",
      "_view_module_version": "1.2.0",
      "_view_name": "StyleView",
      "bar_color": null,
      "description_width": ""
     }
    },
    "e85447019f99419f9611723f7c30ae1b": {
     "model_module": "@jupyter-widgets/base",
     "model_module_version": "1.2.0",
     "model_name": "LayoutModel",
     "state": {
      "_model_module": "@jupyter-widgets/base",
      "_model_module_version": "1.2.0",
      "_model_name": "LayoutModel",
      "_view_count": null,
      "_view_module": "@jupyter-widgets/base",
      "_view_module_version": "1.2.0",
      "_view_name": "LayoutView",
      "align_content": null,
      "align_items": null,
      "align_self": null,
      "border": null,
      "bottom": null,
      "display": null,
      "flex": null,
      "flex_flow": null,
      "grid_area": null,
      "grid_auto_columns": null,
      "grid_auto_flow": null,
      "grid_auto_rows": null,
      "grid_column": null,
      "grid_gap": null,
      "grid_row": null,
      "grid_template_areas": null,
      "grid_template_columns": null,
      "grid_template_rows": null,
      "height": null,
      "justify_content": null,
      "justify_items": null,
      "left": null,
      "margin": null,
      "max_height": null,
      "max_width": null,
      "min_height": null,
      "min_width": null,
      "object_fit": null,
      "object_position": null,
      "order": null,
      "overflow": null,
      "overflow_x": null,
      "overflow_y": null,
      "padding": null,
      "right": null,
      "top": null,
      "visibility": null,
      "width": null
     }
    },
    "e8a50832a01a40819e522a21b73bd715": {
     "model_module": "@jupyter-widgets/base",
     "model_module_version": "1.2.0",
     "model_name": "LayoutModel",
     "state": {
      "_model_module": "@jupyter-widgets/base",
      "_model_module_version": "1.2.0",
      "_model_name": "LayoutModel",
      "_view_count": null,
      "_view_module": "@jupyter-widgets/base",
      "_view_module_version": "1.2.0",
      "_view_name": "LayoutView",
      "align_content": null,
      "align_items": null,
      "align_self": null,
      "border": null,
      "bottom": null,
      "display": null,
      "flex": null,
      "flex_flow": null,
      "grid_area": null,
      "grid_auto_columns": null,
      "grid_auto_flow": null,
      "grid_auto_rows": null,
      "grid_column": null,
      "grid_gap": null,
      "grid_row": null,
      "grid_template_areas": null,
      "grid_template_columns": null,
      "grid_template_rows": null,
      "height": null,
      "justify_content": null,
      "justify_items": null,
      "left": null,
      "margin": null,
      "max_height": null,
      "max_width": null,
      "min_height": null,
      "min_width": null,
      "object_fit": null,
      "object_position": null,
      "order": null,
      "overflow": null,
      "overflow_x": null,
      "overflow_y": null,
      "padding": null,
      "right": null,
      "top": null,
      "visibility": null,
      "width": null
     }
    },
    "eb2a35599b564886bff9afe7c0ef8b91": {
     "model_module": "@jupyter-widgets/base",
     "model_module_version": "1.2.0",
     "model_name": "LayoutModel",
     "state": {
      "_model_module": "@jupyter-widgets/base",
      "_model_module_version": "1.2.0",
      "_model_name": "LayoutModel",
      "_view_count": null,
      "_view_module": "@jupyter-widgets/base",
      "_view_module_version": "1.2.0",
      "_view_name": "LayoutView",
      "align_content": null,
      "align_items": null,
      "align_self": null,
      "border": null,
      "bottom": null,
      "display": null,
      "flex": null,
      "flex_flow": null,
      "grid_area": null,
      "grid_auto_columns": null,
      "grid_auto_flow": null,
      "grid_auto_rows": null,
      "grid_column": null,
      "grid_gap": null,
      "grid_row": null,
      "grid_template_areas": null,
      "grid_template_columns": null,
      "grid_template_rows": null,
      "height": null,
      "justify_content": null,
      "justify_items": null,
      "left": null,
      "margin": null,
      "max_height": null,
      "max_width": null,
      "min_height": null,
      "min_width": null,
      "object_fit": null,
      "object_position": null,
      "order": null,
      "overflow": null,
      "overflow_x": null,
      "overflow_y": null,
      "padding": null,
      "right": null,
      "top": null,
      "visibility": null,
      "width": null
     }
    },
    "ec142c503e294e199bfb9df59923e420": {
     "model_module": "@jupyter-widgets/base",
     "model_module_version": "1.2.0",
     "model_name": "LayoutModel",
     "state": {
      "_model_module": "@jupyter-widgets/base",
      "_model_module_version": "1.2.0",
      "_model_name": "LayoutModel",
      "_view_count": null,
      "_view_module": "@jupyter-widgets/base",
      "_view_module_version": "1.2.0",
      "_view_name": "LayoutView",
      "align_content": null,
      "align_items": null,
      "align_self": null,
      "border": null,
      "bottom": null,
      "display": null,
      "flex": null,
      "flex_flow": null,
      "grid_area": null,
      "grid_auto_columns": null,
      "grid_auto_flow": null,
      "grid_auto_rows": null,
      "grid_column": null,
      "grid_gap": null,
      "grid_row": null,
      "grid_template_areas": null,
      "grid_template_columns": null,
      "grid_template_rows": null,
      "height": null,
      "justify_content": null,
      "justify_items": null,
      "left": null,
      "margin": null,
      "max_height": null,
      "max_width": null,
      "min_height": null,
      "min_width": null,
      "object_fit": null,
      "object_position": null,
      "order": null,
      "overflow": null,
      "overflow_x": null,
      "overflow_y": null,
      "padding": null,
      "right": null,
      "top": null,
      "visibility": null,
      "width": null
     }
    },
    "ec3aa8884544484ab39d7130a580006a": {
     "model_module": "@jupyter-widgets/controls",
     "model_module_version": "1.5.0",
     "model_name": "FloatProgressModel",
     "state": {
      "_dom_classes": [],
      "_model_module": "@jupyter-widgets/controls",
      "_model_module_version": "1.5.0",
      "_model_name": "FloatProgressModel",
      "_view_count": null,
      "_view_module": "@jupyter-widgets/controls",
      "_view_module_version": "1.5.0",
      "_view_name": "ProgressView",
      "bar_style": "success",
      "description": "",
      "description_tooltip": null,
      "layout": "IPY_MODEL_4f11b1d4f185436a8358436e705c2f42",
      "max": 502,
      "min": 0,
      "orientation": "horizontal",
      "style": "IPY_MODEL_5b9be0338a2743a98d7236e26539c581",
      "value": 502
     }
    },
    "f0c9739ba1974d77b989e07e327f30e2": {
     "model_module": "@jupyter-widgets/controls",
     "model_module_version": "1.5.0",
     "model_name": "DescriptionStyleModel",
     "state": {
      "_model_module": "@jupyter-widgets/controls",
      "_model_module_version": "1.5.0",
      "_model_name": "DescriptionStyleModel",
      "_view_count": null,
      "_view_module": "@jupyter-widgets/base",
      "_view_module_version": "1.2.0",
      "_view_name": "StyleView",
      "description_width": ""
     }
    },
    "f178a5a955bb4ae98f4bdfc6521f21de": {
     "model_module": "@jupyter-widgets/controls",
     "model_module_version": "1.5.0",
     "model_name": "HBoxModel",
     "state": {
      "_dom_classes": [],
      "_model_module": "@jupyter-widgets/controls",
      "_model_module_version": "1.5.0",
      "_model_name": "HBoxModel",
      "_view_count": null,
      "_view_module": "@jupyter-widgets/controls",
      "_view_module_version": "1.5.0",
      "_view_name": "HBoxView",
      "box_style": "",
      "children": [
       "IPY_MODEL_db8cadcf0fd64bfd9b1e90eb52542469",
       "IPY_MODEL_9e315cd9ae5649c3972dfce61515964c",
       "IPY_MODEL_6b678a99d490466da2db53ff252a393b"
      ],
      "layout": "IPY_MODEL_e1480ec73bd84f39b47ad284ffe47559"
     }
    },
    "f42de1c4603442c0b2c6cab81815f169": {
     "model_module": "@jupyter-widgets/controls",
     "model_module_version": "1.5.0",
     "model_name": "HTMLModel",
     "state": {
      "_dom_classes": [],
      "_model_module": "@jupyter-widgets/controls",
      "_model_module_version": "1.5.0",
      "_model_name": "HTMLModel",
      "_view_count": null,
      "_view_module": "@jupyter-widgets/controls",
      "_view_module_version": "1.5.0",
      "_view_name": "HTMLView",
      "description": "",
      "description_tooltip": null,
      "layout": "IPY_MODEL_51aeee1003c64b7fb524ffc790d75726",
      "placeholder": "​",
      "style": "IPY_MODEL_e197cef77f9744708bc95940991957ec",
      "value": " 239/239 [03:52&lt;00:00,  1.28batch/s]"
     }
    },
    "f6cd04eb6a3b4a908497a81e7558b0ec": {
     "model_module": "@jupyter-widgets/controls",
     "model_module_version": "1.5.0",
     "model_name": "FloatProgressModel",
     "state": {
      "_dom_classes": [],
      "_model_module": "@jupyter-widgets/controls",
      "_model_module_version": "1.5.0",
      "_model_name": "FloatProgressModel",
      "_view_count": null,
      "_view_module": "@jupyter-widgets/controls",
      "_view_module_version": "1.5.0",
      "_view_name": "ProgressView",
      "bar_style": "success",
      "description": "",
      "description_tooltip": null,
      "layout": "IPY_MODEL_dad642c20ade48679918fcf523ca95fe",
      "max": 352205741,
      "min": 0,
      "orientation": "horizontal",
      "style": "IPY_MODEL_490a02593da94dcb98e1e97fcbf05614",
      "value": 352205741
     }
    },
    "f8fbfb323fe947048a61c429ba9e80fc": {
     "model_module": "@jupyter-widgets/controls",
     "model_module_version": "1.5.0",
     "model_name": "DescriptionStyleModel",
     "state": {
      "_model_module": "@jupyter-widgets/controls",
      "_model_module_version": "1.5.0",
      "_model_name": "DescriptionStyleModel",
      "_view_count": null,
      "_view_module": "@jupyter-widgets/base",
      "_view_module_version": "1.2.0",
      "_view_name": "StyleView",
      "description_width": ""
     }
    },
    "fd115dfdbc5d4099b14241dfc23dd080": {
     "model_module": "@jupyter-widgets/base",
     "model_module_version": "1.2.0",
     "model_name": "LayoutModel",
     "state": {
      "_model_module": "@jupyter-widgets/base",
      "_model_module_version": "1.2.0",
      "_model_name": "LayoutModel",
      "_view_count": null,
      "_view_module": "@jupyter-widgets/base",
      "_view_module_version": "1.2.0",
      "_view_name": "LayoutView",
      "align_content": null,
      "align_items": null,
      "align_self": null,
      "border": null,
      "bottom": null,
      "display": null,
      "flex": null,
      "flex_flow": null,
      "grid_area": null,
      "grid_auto_columns": null,
      "grid_auto_flow": null,
      "grid_auto_rows": null,
      "grid_column": null,
      "grid_gap": null,
      "grid_row": null,
      "grid_template_areas": null,
      "grid_template_columns": null,
      "grid_template_rows": null,
      "height": null,
      "justify_content": null,
      "justify_items": null,
      "left": null,
      "margin": null,
      "max_height": null,
      "max_width": null,
      "min_height": null,
      "min_width": null,
      "object_fit": null,
      "object_position": null,
      "order": null,
      "overflow": null,
      "overflow_x": null,
      "overflow_y": null,
      "padding": null,
      "right": null,
      "top": null,
      "visibility": null,
      "width": null
     }
    }
   }
  }
 },
 "nbformat": 4,
 "nbformat_minor": 4
}
