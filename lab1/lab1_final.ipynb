{
  "cells": [
    {
      "cell_type": "markdown",
      "metadata": {
        "id": "U9vGljbRywOn"
      },
      "source": [
        "# Bias Testing Within Word Embeddings"
      ]
    },
    {
      "cell_type": "markdown",
      "metadata": {
        "id": "9cpJRxjwywOr"
      },
      "source": [
        "## Overview"
      ]
    },
    {
      "cell_type": "markdown",
      "metadata": {
        "id": "NY0KWw54ywOr"
      },
      "source": [
        "### Bias Type"
      ]
    },
    {
      "cell_type": "markdown",
      "metadata": {
        "id": "UZuP2XdMywOs"
      },
      "source": [
        "We wanted to explore potential generational bias in word and sentence embeddings **using a GloVe embedding and a BERT transformer.** But instead of directly assessing sentiment analysis for words like old vs. young, or grandchildren vs. grandparents, we decided to use names common to certain generations, similar to the bias detection names of different ethnicities and genders.\n",
        "\n",
        "To source our data, we used the Social Security Administration's publically available dataset of the top 1000 names for each gender for each birth year, and the total yearly counts. This data can be found at the following link: [Social Security Administration website](https://www.ssa.gov/oact/babynames/limits.html). There are potential problems with the Social Security Administration's baby names dataset: The Social Security only started enrolling people in 1937, so for people born prior to 1937, there is literal survivorship bias, in that people in the SSA database prior to 1937 had to be born in the specific year and survive long enough to enroll.  The survivorship of different regional, racial, ethnic, gender, class and political groups will be different, thus the people who were born in 1880, and then enrolled in Social Security in and around 1937 are not the complete number of baby Americans born in 1880.\n",
        "\n",
        "Because of the increasing population of the United States, and overall fluctuations in yearly birthrates, the raw counts of names would be unhelpful for making generational comparisons, or even year to year comparisons.  So yearly proportions of names will be used.\n",
        "\n",
        "As for the generations themselves, we used the common generational names and date ranges reported in wikipedia: [Generation Wiki](https://en.wikipedia.org/wiki/Generation)\n",
        "\n",
        "![from Wikipedia:](https://upload.wikimedia.org/wikipedia/commons/thumb/3/3e/Generation_timeline.svg/900px-Generation_timeline.svg.png)\n",
        "\n",
        "Also for more current names, the SSA does not provide names with raw counts of less than 5 per year, even if these names would be in the yearly top 1000 names since this publically identifiabe information could be used against people.  Graph 1 shows the percentage of persons included in the SSA yearly database, but not named in the SSA babyname database.  The rare unlisted names never account for more than 10% of the population.\n",
        "\n",
        "![Graph 1](https://github.com/cameronervin/NN-Projects/blob/main/lab1/graphs/Percent%20of%20Total%20Persons%20Not%20Included.png?raw=true)\n",
        "\n",
        "However A name that appeared in the SSA's full database with raw counts in successive years: 1, 2, 3, 4, 5, 6, 5, 4, 3, 2, 1 would only be included in the SSA's publically available database as 5, 6, 5 for the 5th, 6th, and 7th years, which would undercount the total generational use by 20.  Since generations are approximately 20 years long (though getting shorter), this means that names with a total counts per generation less than 100 are likely unreliable.  Graph 2 shows these percentages per generation, and they are not higher than 4%.  So even in a worst case scenario, we are focusing on the top 85% of names in a generation, and generally more. However, this means we should have more stringent statistical tests.\n",
        "\n",
        "![Graph 2](https://github.com/cameronervin/NN-Projects/blob/main/lab1/graphs/Percent%20of%20Rare%20Names.png?raw=true)\n",
        "\n",
        "Name popularity goes through fads and cycles, which doesn't necessarily overlap with generations.  Also the proportions of top names are distributed differently across the generations.\n",
        "\n",
        "![Graph 3](https://github.com/cameronervin/NN-Projects/blob/main/lab1/graphs/Proportions%20with%20Top%20100.png?raw=true)\n",
        "\n",
        "So instead of raw counts of names, or raw ranks of top 100 of names, to establish the most popular names used in a generation, we compared each name's proportions within a generation across each generation.\n",
        "\n",
        "![Graph 4](https://github.com/cameronervin/NN-Projects/blob/main/lab1/graphs/Percent%20of%20Girls%20Named%20Karen.png?raw=true)\n",
        "\n",
        "The generation for which the name was most popular (by percentage of the total), is then considered to have that name, for the purposes of identifying generational bias."
      ]
    },
    {
      "cell_type": "markdown",
      "metadata": {
        "id": "iw28T_8zywOs"
      },
      "source": [
        "### Relevancy"
      ]
    },
    {
      "cell_type": "markdown",
      "metadata": {
        "id": "MMlwu2MEywOt"
      },
      "source": [
        "Our analysis of bias in the baby names dataset, we are essentially investigating whether there are systematic or unfair preferences or trends in the selection of names for children born in the USA over the years. The bias you're focusing on could manifest in various ways, such as gender bias, cultural bias, or popularity bias.\n",
        "\n",
        "How your investigation is relevant:\n",
        "\n",
        "1. **Importance of Identifying Bias**: Finding bias in machine learning models, including natural language processing (NLP) models like GloVe, is crucial because biased models can perpetuate unfairness and inequality. If there's bias in the baby names dataset, it could reflect societal biases in naming conventions, cultural preferences, or historical trends.\n",
        "\n",
        "2. **Relevance to Other Researchers and Practitioners**: Our investigation into bias in baby names can be relevant to researchers and practitioners in several ways:\n",
        "   - Researchers in linguistics, sociology, and cultural studies might be interested in understanding how naming trends reflect societal attitudes and norms.\n",
        "   - Data scientists and machine learning practitioners can learn from our analysis techniques for detecting bias in datasets and models, which is essential for building fair and ethical AI systems.\n",
        "   - Policy makers and educators may use insights from your analysis to address biases in societal systems related to gender, ethnicity, or culture.\n",
        "\n",
        "3. **Understanding Bias in Data**: When we say bias exists in the data, it means that the data systematically deviates from representing a fair or unbiased view of the underlying phenomenon. Bias can occur due to various factors, such as sampling biases (e.g., underrepresentation of certain groups), measurement biases (e.g., errors in data collection), or societal biases (e.g., stereotypes or prejudices encoded in language or cultural practices). In the context of baby names, bias could arise if certain names are more common or preferred for specific genders, ethnicities, or social classes, reflecting underlying societal biases or cultural norms.\n",
        "\n",
        "By investigating bias in the baby names dataset and considering the implications for machine learning models like GloVe, our team is contributing to the broader discussion on fairness, transparency, and accountability in AI and data science.\n",
        "\n",
        "For example, you might observe shifts in the popularity of certain names or disparities in the distribution of names between genders across different time periods. These trends could reflect societal attitudes, cultural norms, or historical events that influenced naming practices for boys and girls.\n",
        "\n",
        "Analyzing the data over various time intervals allows you to capture long-term trends as well as more localized changes, providing a comprehensive understanding of how gender biases in names have evolved over time. Additionally, by comparing different time intervals, you can assess whether certain biases have persisted, diminished, or emerged in different historical contexts.\n",
        "\n",
        "Overall, our analysis has the potential to uncover valuable insights into historical gender biases in baby names, contributing to our understanding of cultural norms, societal attitudes, and the dynamics of naming practices over time."
      ]
    },
    {
      "cell_type": "markdown",
      "metadata": {
        "id": "9vb4zCNmywOt"
      },
      "source": [
        "### Methodology"
      ]
    },
    {
      "cell_type": "markdown",
      "metadata": {
        "id": "PCR0bSXpywOt"
      },
      "source": [
        "We will be using a Recurrent Neural Network with a glove.6B.300d GloVe embedding and a separate model with a **DistilBERT** transformer embedding and dense layers on top of our DistilBERT transformer. The GloVe embedding can be found using the following link: [the GloVe web page](https://nlp.stanford.edu/projects/glove/), and we will be using the Hugging Face implementation of DistilBERT. We chose to use DistilBERT because according to HuggingFace, DistilBERT uses \"40% less parameters than google-bert/bert-base-uncased, runs 60% faster while preserving over 95% of BERT’s performances as measured on the GLUE language understanding benchmark.\"\n",
        "\n",
        "#### GloVe\n",
        "\n",
        "The GloVe (Global Vectors for Word Representation) model is a type of word embedding that enables words to be represented as vectors in a high-dimensional space. GloVe was developed at Stanford as an open-source project. The model is designed to capture the occurrence of words in a corpus and the co-occurrence patterns among them. This approach allows the model to learn the relationships between words based on the context they appear in, thereby encoding semantic and syntactic similarities between words into their vector representations. We will be using glove.6B.300d GloVe.\n",
        "\n",
        "**6B:** The model was trained on a dataset comprising 6 billion words\n",
        "\n",
        "**300d:** Each word is represented as a 300-dimensional vector\n",
        "\n",
        "Example of GloVe's representation of words in a vector space:\n",
        "![title](https://analyticsindiamag.com/wp-content/uploads/2021/08/scatter.png)\n",
        "\n",
        "#### BERT/DistilBERT\n",
        "##### **BERT:**\n",
        "BERT (Bidirectional Encoder Representations from Transformers) is a method of pre-training language representations developed by Google which utilizes an encoder only transformer architecture. Additionally, BERT was first published in the paper \"BERT: Pre-training of Deep Bidirectional Transformers for Language Understanding\" by Delvi, et al. We will use BERT, and more specifically DistilBERT for classification.\n",
        "\n",
        "Encoder-Only Transformer Architecture:\n",
        "![title](https://www.researchgate.net/publication/349880253/figure/fig1/AS:998921530789890@1615172860585/Transformer-Encoder-Architecture-BERT-or-Bidirectional-Encoder-Representations-from.ppm)\n",
        "\n",
        "##### **DistilBERT:**\n",
        "DistilBERT was introduced in the paper \" DistilBERT, a distilled version of BERT: smaller, faster, cheaper and lighter\" by Sanh, et al. As the name of the model suggests, DistilBERT is a distilled version of base BERT which boasts \"40% less parameters than google-bert/bert-base-uncased, runs 60% faster while preserving over 95% of BERT's performances.\" We chose to use DistilBERT due to its efficiency.\n",
        "\n",
        "Graph showing the number of parameters used by DistilBERT amongst other models:\n",
        "![title](https://production-media.paperswithcode.com/methods/distilbert_COTEMhF.png)\n"
      ]
    },
    {
      "cell_type": "markdown",
      "metadata": {
        "id": "jAFd6Jzyhtqk"
      },
      "source": [
        "#### Comparing The Architecture Our Two Models:\n",
        "Both of our models wil utilize a form of embedding - one model with a GloVe embedding and an RNN architecture and the other with a DistilBERT transformer embedding followed by dense layers. However, the two architectures function differently:\n",
        "\n",
        "**GloVe + RNN:**\n",
        "- RNNs are designed to process sequences of data, one element at a time, with the output of one step feeding into the input of the\n",
        "- RNNs suffer from vanishing and exploding gradient problems\n",
        "\n",
        "\n",
        "**BERT/DistilBERT:**\n",
        "- BERT is based on the Transformer architecture, which avoids recurrent processing in favor of attention mechanisms that weigh the importance of different words in a sentence, regardless of their position\n",
        "- BERT is designed as a deeply bidirectional model, meaning that it learns information from both the left and the right context of a token in all layers\n",
        "\n",
        "RNNs base predictions off of the last input and the order tokens are fed into the model sequentially. Meanwhile, BERT is an attention model that can calculate the weight of each token in a sequence with respect to position. With BERT, this can also be performed in parallel."
      ]
    },
    {
      "cell_type": "markdown",
      "metadata": {
        "id": "GzN8HDRSywOt"
      },
      "source": [
        "### Research Questions"
      ]
    },
    {
      "cell_type": "markdown",
      "metadata": {
        "id": "U1zZgGCtywOu"
      },
      "source": [
        "**1)** To what extent does a sentiment analysis of BERT exhibit a bias towards names of different genders in comparison to GloVe?\n",
        "\n",
        "**2)** Does a sentiment analysis of BERT exhibit a bias towards certain generations based on popular names?  If so, biased towards which generations?\n",
        "\n",
        "**3)** Does the gender bias change across generations or moderate generational bias?\n",
        "\n",
        " #### Statstical Methods:\n",
        "\n",
        "Because Name frequency follows a non-normal Zipf distribution, we will use weighted statistical tests in addition to standard statistical tests and the results of the weighted tests will be considered more relevant than the unweighted tests.\n",
        "\n",
        "To answer RQ1, we will conduct two t-test, the first is a simple T-test of the difference in the sentiment analysis scores of the names.  The second is a weighted t-test, where each name is weighted by population proportion, so that names used more often count more.\n",
        "\n",
        "\n",
        "To answer RQ2, we need to divide the data into generations, but since names can show up in multiple generations (but in different proportions), we'll use several different methods, the results of which should converge.\n",
        "\n",
        "For all statistical tests, we'll use a fixed effect linear regression but with effect coding.  Regular Fixed effect linear regression will assign a dummy code (one-hot) to each generation, centered on one base generation, and will then estimates the difference in means between the base generation and the others.  Effect coding, instead of testing against one specific generation, tests againsts a clustered mean, which in the case of this data will be relatively close to the true mean for the weighted regressions.  \n",
        "\n",
        "First, we use an exclusive list of names for each Generation, based on generation in which the name was most popular, i.e. Karen counts as a Boomer name.  We run a simple fixed effect linear regression with effect coding for the generational variables.\n",
        "\n",
        "Second we do the same fixed effect regression, but now with proportional weights for each name, based on frequency in the exclusive list population.\n",
        "\n",
        "Third we do the same fixed effect regression with effect coding for generational variables, but now using an inclusive list, where each name can be in different generations, but at different proportions.  Karen will be weighted most for the Boomers, but also for Silent, Gen_X, etc.\n",
        "\n",
        "\n",
        "To answer RQ3, we'll run the same three regressions by name, but now with interaction by gender terms.  This allows us to estimate the difference in gender bias within and across each generation."
      ]
    },
    {
      "cell_type": "markdown",
      "metadata": {
        "id": "Xm5PSJveywOu"
      },
      "source": [
        "## Code"
      ]
    },
    {
      "cell_type": "code",
      "execution_count": 1,
      "metadata": {
        "id": "9xXO5SmeywOu"
      },
      "outputs": [],
      "source": [
        "# to use distilbert model as an embedding, downgrade tensorflow\n",
        "from IPython.display import clear_output\n",
        "!pip uninstall tensorflow -y\n",
        "!pip install tensorflow==2.9.0\n",
        "!pip install --user -U nltk spacy\n",
        "clear_output()\n",
        "\n",
        "# standard imports\n",
        "import os\n",
        "import numpy as np\n",
        "import pandas as pd\n",
        "import matplotlib.pyplot as plt\n",
        "import seaborn as sns\n",
        "\n",
        "# to save models\n",
        "import pickle\n",
        "\n",
        "# imports for natural language cleaning\n",
        "from nltk.corpus import stopwords\n",
        "from bs4 import BeautifulSoup\n",
        "import re,string\n",
        "\n",
        "# sklearn imports\n",
        "from sklearn.model_selection import train_test_split\n",
        "from sklearn.metrics import mean_squared_error, classification_report, confusion_matrix, f1_score, accuracy_score, ConfusionMatrixDisplay\n",
        "from sklearn.preprocessing import LabelEncoder\n",
        "\n",
        "# tensorflow imports\n",
        "import tensorflow as tf\n",
        "from tensorflow.keras import utils, layers, Sequential, models\n",
        "from tensorflow.keras.layers import *\n",
        "from tensorflow.keras.preprocessing.text import Tokenizer\n",
        "from tensorflow.keras.preprocessing.sequence import pad_sequences\n",
        "\n",
        "# DistilBert HuggingFace imports\n",
        "from transformers import AutoTokenizer, TFDistilBertModel, DistilBertConfig\n",
        "\n",
        "# DistilBert config\n",
        "SEED = 64\n",
        "BATCH_SIZE = 32\n",
        "AUTO = tf.data.AUTOTUNE"
      ]
    },
    {
      "cell_type": "markdown",
      "metadata": {
        "id": "JTBI5ZX5ywOv"
      },
      "source": [
        "### Loading In Our Data"
      ]
    },
    {
      "cell_type": "markdown",
      "metadata": {
        "id": "_I5lQVyNywOv"
      },
      "source": [
        "First, we load our data in that we will use to train our sentiment classifier. Our dataset is a collection of movie reviews. There are two features in this dataset: 'review' which is corpus movie review text and 'sentiment' which is a label of either positive or negative. The dataset can be found on [Kaggle](https://www.kaggle.com/datasets/lakshmi25npathi/imdb-dataset-of-50k-movie-reviews)."
      ]
    },
    {
      "cell_type": "code",
      "execution_count": 2,
      "metadata": {
        "colab": {
          "base_uri": "https://localhost:8080/"
        },
        "id": "i3IaNHHpy89j",
        "outputId": "accd7611-f99c-41e8-a359-37212aa8b95c"
      },
      "outputs": [
        {
          "name": "stdout",
          "output_type": "stream",
          "text": [
            "Drive already mounted at /content/drive; to attempt to forcibly remount, call drive.mount(\"/content/drive\", force_remount=True).\n"
          ]
        }
      ],
      "source": [
        "colab = True\n",
        "\n",
        "if colab:\n",
        "    from google.colab import drive\n",
        "    drive.mount('/content/drive')\n",
        "\n",
        "    import zipfile\n",
        "    # IMDB Dataset\n",
        "    with zipfile.ZipFile('/content/drive/MyDrive/IMDB Dataset.csv.zip', 'r') as zip_ref:\n",
        "      zip_ref.extractall('/content/data')\n",
        "      zip_ref.close()\n",
        "\n",
        "    # GloVe\n",
        "    with zipfile.ZipFile('/content/drive/MyDrive/glove.6B.300d.txt.zip', 'r') as zip_ref:\n",
        "      zip_ref.extractall('/content/data')\n",
        "      zip_ref.close()\n",
        "\n",
        "    # Names\n",
        "    with zipfile.ZipFile('/content/drive/MyDrive/names_80percent.csv.zip', 'r') as zip_ref:\n",
        "      zip_ref.extractall('/content/data')\n",
        "      zip_ref.close()\n",
        "\n",
        "    df = pd.read_csv('/content/data/IMDB Dataset.csv')\n",
        "else:\n",
        "    df = pd.read_csv('data/IMDB Dataset.csv')"
      ]
    },
    {
      "cell_type": "markdown",
      "metadata": {
        "id": "0bocln5Zdmuk"
      },
      "source": [
        "Understanding the format of our data."
      ]
    },
    {
      "cell_type": "code",
      "execution_count": 3,
      "metadata": {
        "colab": {
          "base_uri": "https://localhost:8080/",
          "height": 204
        },
        "id": "xXMdUrWsywOw",
        "outputId": "75b65b7f-3503-4a72-c3b2-c2a57a5865aa"
      },
      "outputs": [
        {
          "data": {
            "application/vnd.google.colaboratory.intrinsic+json": {
              "summary": "{\n  \"name\": \"df\",\n  \"rows\": 50000,\n  \"fields\": [\n    {\n      \"column\": \"review\",\n      \"properties\": {\n        \"dtype\": \"string\",\n        \"num_unique_values\": 49582,\n        \"samples\": [\n          \"\\\"Soul Plane\\\" is a horrible attempt at comedy that only should appeal people with thick skulls, bloodshot eyes and furry pawns. <br /><br />The plot is not only incoherent but also non-existent, acting is mostly sub sub-par with a gang of highly moronic and dreadful characters thrown in for bad measure, jokes are often spotted miles ahead and almost never even a bit amusing. This movie lacks any structure and is full of racial stereotypes that must have seemed old even in the fifties, the only thing it really has going for it is some pretty ladies, but really, if you want that you can rent something from the \\\"Adult\\\" section. OK?<br /><br />I can hardly see anything here to recommend since you'll probably have a lot a better and productive time chasing rats with a sledgehammer or inventing waterproof teabags or whatever.<br /><br />2/10\",\n          \"Guest from the Future tells a fascinating story of time travel, friendship, battle of good and evil -- all with a small budget, child actors, and few special effects. Something for Spielberg and Lucas to learn from. ;) A sixth-grader Kolya \\\"Nick\\\" Gerasimov finds a time machine in the basement of a decrepit building and travels 100 years into the future. He discovers a near-perfect, utopian society where robots play guitars and write poetry, everyone is kind to each other and people enjoy everything technology has to offer. Alice is the daughter of a prominent scientist who invented a device called Mielophone that allows to read minds of humans and animals. The device can be put to both good and bad use, depending on whose hands it falls into. When two evil space pirates from Saturn who want to rule the universe attempt to steal Mielophone, it falls into the hands of 20th century school boy Nick. With the pirates hot on his tracks, he travels back to his time, followed by the pirates, and Alice. Chaos, confusion and funny situations follow as the luckless pirates try to blend in with the earthlings. Alice enrolls in the same school Nick goes to and demonstrates superhuman abilities in PE class. The catch is, Alice doesn't know what Nick looks like, while the pirates do. Also, the pirates are able to change their appearance and turn literally into anyone. (Hmm, I wonder if this is where James Cameron got the idea for Terminator...) Who gets to Nick -- and Mielophone -- first? Excellent plot, non-stop adventures, and great soundtrack. I wish Hollywood made kid movies like this one...\",\n          \"\\\"National Treasure\\\" (2004) is a thoroughly misguided hodge-podge of plot entanglements that borrow from nearly every cloak and dagger government conspiracy clich\\u00e9 that has ever been written. The film stars Nicholas Cage as Benjamin Franklin Gates (how precious is that, I ask you?); a seemingly normal fellow who, for no other reason than being of a lineage of like-minded misguided fortune hunters, decides to steal a 'national treasure' that has been hidden by the United States founding fathers. After a bit of subtext and background that plays laughably (unintentionally) like Indiana Jones meets The Patriot, the film degenerates into one misguided whimsy after another \\u0096 attempting to create a 'Stanley Goodspeed' regurgitation of Nicholas Cage and launch the whole convoluted mess forward with a series of high octane, but disconnected misadventures.<br /><br />The relevancy and logic to having George Washington and his motley crew of patriots burying a king's ransom someplace on native soil, and then, going through the meticulous plan of leaving clues scattered throughout U.S. currency art work, is something that director Jon Turteltaub never quite gets around to explaining. Couldn't Washington found better usage for such wealth during the start up of the country? Hence, we are left with a mystery built on top of an enigma that is already on shaky ground by the time Ben appoints himself the new custodian of this untold wealth. Ben's intentions are noble \\u0096 if confusing. He's set on protecting the treasure. For who and when?\\u0085your guess is as good as mine.<br /><br />But there are a few problems with Ben's crusade. First up, his friend, Ian Holmes (Sean Bean) decides that he can't wait for Ben to make up his mind about stealing the Declaration of Independence from the National Archives (oh, yeah \\u0096 brilliant idea!). Presumably, the back of that famous document holds the secret answer to the ultimate fortune. So Ian tries to kill Ben. The assassination attempt is, of course, unsuccessful, if overly melodramatic. It also affords Ben the opportunity to pick up, and pick on, the very sultry curator of the archives, Abigail Chase (Diane Kruger). She thinks Ben is clearly a nut \\u0096 at least at the beginning. But true to action/romance form, Abby's resolve melts quicker than you can say, \\\"is that the Hope Diamond?\\\" The film moves into full X-File-ish mode, as the FBI, mistakenly believing that Ben is behind the theft, retaliate in various benign ways that lead to a multi-layering of action sequences reminiscent of Mission Impossible meets The Fugitive. Honestly, don't those guys ever get 'intelligence' information that is correct? In the final analysis, \\\"National Treasure\\\" isn't great film making, so much as it's a patchwork rehash of tired old bits from other movies, woven together from scraps, the likes of which would make IL' Betsy Ross blush.<br /><br />The Buena Vista DVD delivers a far more generous treatment than this film is deserving of. The anamorphic widescreen picture exhibits a very smooth and finely detailed image with very rich colors, natural flesh tones, solid blacks and clean whites. The stylized image is also free of blemishes and digital enhancements. The audio is 5.1 and delivers a nice sonic boom to your side and rear speakers with intensity and realism. Extras include a host of promotional junket material that is rather deep and over the top in its explanation of how and why this film was made. If only, as an audience, we had had more clarification as to why Ben and co. were chasing after an illusive treasure, this might have been one good flick. Extras conclude with the theatrical trailer, audio commentary and deleted scenes. Not for the faint-hearted \\u0096 just the thick-headed.\"\n        ],\n        \"semantic_type\": \"\",\n        \"description\": \"\"\n      }\n    },\n    {\n      \"column\": \"sentiment\",\n      \"properties\": {\n        \"dtype\": \"category\",\n        \"num_unique_values\": 2,\n        \"samples\": [\n          \"negative\",\n          \"positive\"\n        ],\n        \"semantic_type\": \"\",\n        \"description\": \"\"\n      }\n    }\n  ]\n}",
              "type": "dataframe",
              "variable_name": "df"
            },
            "text/html": [
              "\n",
              "  <div id=\"df-75cfd56b-8d27-496d-b74f-9628ceff6156\" class=\"colab-df-container\">\n",
              "    <div>\n",
              "<style scoped>\n",
              "    .dataframe tbody tr th:only-of-type {\n",
              "        vertical-align: middle;\n",
              "    }\n",
              "\n",
              "    .dataframe tbody tr th {\n",
              "        vertical-align: top;\n",
              "    }\n",
              "\n",
              "    .dataframe thead th {\n",
              "        text-align: right;\n",
              "    }\n",
              "</style>\n",
              "<table border=\"1\" class=\"dataframe\">\n",
              "  <thead>\n",
              "    <tr style=\"text-align: right;\">\n",
              "      <th></th>\n",
              "      <th>review</th>\n",
              "      <th>sentiment</th>\n",
              "    </tr>\n",
              "  </thead>\n",
              "  <tbody>\n",
              "    <tr>\n",
              "      <th>0</th>\n",
              "      <td>One of the other reviewers has mentioned that ...</td>\n",
              "      <td>positive</td>\n",
              "    </tr>\n",
              "    <tr>\n",
              "      <th>1</th>\n",
              "      <td>A wonderful little production. &lt;br /&gt;&lt;br /&gt;The...</td>\n",
              "      <td>positive</td>\n",
              "    </tr>\n",
              "    <tr>\n",
              "      <th>2</th>\n",
              "      <td>I thought this was a wonderful way to spend ti...</td>\n",
              "      <td>positive</td>\n",
              "    </tr>\n",
              "    <tr>\n",
              "      <th>3</th>\n",
              "      <td>Basically there's a family where a little boy ...</td>\n",
              "      <td>negative</td>\n",
              "    </tr>\n",
              "    <tr>\n",
              "      <th>4</th>\n",
              "      <td>Petter Mattei's \"Love in the Time of Money\" is...</td>\n",
              "      <td>positive</td>\n",
              "    </tr>\n",
              "  </tbody>\n",
              "</table>\n",
              "</div>\n",
              "    <div class=\"colab-df-buttons\">\n",
              "\n",
              "  <div class=\"colab-df-container\">\n",
              "    <button class=\"colab-df-convert\" onclick=\"convertToInteractive('df-75cfd56b-8d27-496d-b74f-9628ceff6156')\"\n",
              "            title=\"Convert this dataframe to an interactive table.\"\n",
              "            style=\"display:none;\">\n",
              "\n",
              "  <svg xmlns=\"http://www.w3.org/2000/svg\" height=\"24px\" viewBox=\"0 -960 960 960\">\n",
              "    <path d=\"M120-120v-720h720v720H120Zm60-500h600v-160H180v160Zm220 220h160v-160H400v160Zm0 220h160v-160H400v160ZM180-400h160v-160H180v160Zm440 0h160v-160H620v160ZM180-180h160v-160H180v160Zm440 0h160v-160H620v160Z\"/>\n",
              "  </svg>\n",
              "    </button>\n",
              "\n",
              "  <style>\n",
              "    .colab-df-container {\n",
              "      display:flex;\n",
              "      gap: 12px;\n",
              "    }\n",
              "\n",
              "    .colab-df-convert {\n",
              "      background-color: #E8F0FE;\n",
              "      border: none;\n",
              "      border-radius: 50%;\n",
              "      cursor: pointer;\n",
              "      display: none;\n",
              "      fill: #1967D2;\n",
              "      height: 32px;\n",
              "      padding: 0 0 0 0;\n",
              "      width: 32px;\n",
              "    }\n",
              "\n",
              "    .colab-df-convert:hover {\n",
              "      background-color: #E2EBFA;\n",
              "      box-shadow: 0px 1px 2px rgba(60, 64, 67, 0.3), 0px 1px 3px 1px rgba(60, 64, 67, 0.15);\n",
              "      fill: #174EA6;\n",
              "    }\n",
              "\n",
              "    .colab-df-buttons div {\n",
              "      margin-bottom: 4px;\n",
              "    }\n",
              "\n",
              "    [theme=dark] .colab-df-convert {\n",
              "      background-color: #3B4455;\n",
              "      fill: #D2E3FC;\n",
              "    }\n",
              "\n",
              "    [theme=dark] .colab-df-convert:hover {\n",
              "      background-color: #434B5C;\n",
              "      box-shadow: 0px 1px 3px 1px rgba(0, 0, 0, 0.15);\n",
              "      filter: drop-shadow(0px 1px 2px rgba(0, 0, 0, 0.3));\n",
              "      fill: #FFFFFF;\n",
              "    }\n",
              "  </style>\n",
              "\n",
              "    <script>\n",
              "      const buttonEl =\n",
              "        document.querySelector('#df-75cfd56b-8d27-496d-b74f-9628ceff6156 button.colab-df-convert');\n",
              "      buttonEl.style.display =\n",
              "        google.colab.kernel.accessAllowed ? 'block' : 'none';\n",
              "\n",
              "      async function convertToInteractive(key) {\n",
              "        const element = document.querySelector('#df-75cfd56b-8d27-496d-b74f-9628ceff6156');\n",
              "        const dataTable =\n",
              "          await google.colab.kernel.invokeFunction('convertToInteractive',\n",
              "                                                    [key], {});\n",
              "        if (!dataTable) return;\n",
              "\n",
              "        const docLinkHtml = 'Like what you see? Visit the ' +\n",
              "          '<a target=\"_blank\" href=https://colab.research.google.com/notebooks/data_table.ipynb>data table notebook</a>'\n",
              "          + ' to learn more about interactive tables.';\n",
              "        element.innerHTML = '';\n",
              "        dataTable['output_type'] = 'display_data';\n",
              "        await google.colab.output.renderOutput(dataTable, element);\n",
              "        const docLink = document.createElement('div');\n",
              "        docLink.innerHTML = docLinkHtml;\n",
              "        element.appendChild(docLink);\n",
              "      }\n",
              "    </script>\n",
              "  </div>\n",
              "\n",
              "\n",
              "<div id=\"df-5b675f58-37ab-4a8b-8cb1-83f8091dca7f\">\n",
              "  <button class=\"colab-df-quickchart\" onclick=\"quickchart('df-5b675f58-37ab-4a8b-8cb1-83f8091dca7f')\"\n",
              "            title=\"Suggest charts\"\n",
              "            style=\"display:none;\">\n",
              "\n",
              "<svg xmlns=\"http://www.w3.org/2000/svg\" height=\"24px\"viewBox=\"0 0 24 24\"\n",
              "     width=\"24px\">\n",
              "    <g>\n",
              "        <path d=\"M19 3H5c-1.1 0-2 .9-2 2v14c0 1.1.9 2 2 2h14c1.1 0 2-.9 2-2V5c0-1.1-.9-2-2-2zM9 17H7v-7h2v7zm4 0h-2V7h2v10zm4 0h-2v-4h2v4z\"/>\n",
              "    </g>\n",
              "</svg>\n",
              "  </button>\n",
              "\n",
              "<style>\n",
              "  .colab-df-quickchart {\n",
              "      --bg-color: #E8F0FE;\n",
              "      --fill-color: #1967D2;\n",
              "      --hover-bg-color: #E2EBFA;\n",
              "      --hover-fill-color: #174EA6;\n",
              "      --disabled-fill-color: #AAA;\n",
              "      --disabled-bg-color: #DDD;\n",
              "  }\n",
              "\n",
              "  [theme=dark] .colab-df-quickchart {\n",
              "      --bg-color: #3B4455;\n",
              "      --fill-color: #D2E3FC;\n",
              "      --hover-bg-color: #434B5C;\n",
              "      --hover-fill-color: #FFFFFF;\n",
              "      --disabled-bg-color: #3B4455;\n",
              "      --disabled-fill-color: #666;\n",
              "  }\n",
              "\n",
              "  .colab-df-quickchart {\n",
              "    background-color: var(--bg-color);\n",
              "    border: none;\n",
              "    border-radius: 50%;\n",
              "    cursor: pointer;\n",
              "    display: none;\n",
              "    fill: var(--fill-color);\n",
              "    height: 32px;\n",
              "    padding: 0;\n",
              "    width: 32px;\n",
              "  }\n",
              "\n",
              "  .colab-df-quickchart:hover {\n",
              "    background-color: var(--hover-bg-color);\n",
              "    box-shadow: 0 1px 2px rgba(60, 64, 67, 0.3), 0 1px 3px 1px rgba(60, 64, 67, 0.15);\n",
              "    fill: var(--button-hover-fill-color);\n",
              "  }\n",
              "\n",
              "  .colab-df-quickchart-complete:disabled,\n",
              "  .colab-df-quickchart-complete:disabled:hover {\n",
              "    background-color: var(--disabled-bg-color);\n",
              "    fill: var(--disabled-fill-color);\n",
              "    box-shadow: none;\n",
              "  }\n",
              "\n",
              "  .colab-df-spinner {\n",
              "    border: 2px solid var(--fill-color);\n",
              "    border-color: transparent;\n",
              "    border-bottom-color: var(--fill-color);\n",
              "    animation:\n",
              "      spin 1s steps(1) infinite;\n",
              "  }\n",
              "\n",
              "  @keyframes spin {\n",
              "    0% {\n",
              "      border-color: transparent;\n",
              "      border-bottom-color: var(--fill-color);\n",
              "      border-left-color: var(--fill-color);\n",
              "    }\n",
              "    20% {\n",
              "      border-color: transparent;\n",
              "      border-left-color: var(--fill-color);\n",
              "      border-top-color: var(--fill-color);\n",
              "    }\n",
              "    30% {\n",
              "      border-color: transparent;\n",
              "      border-left-color: var(--fill-color);\n",
              "      border-top-color: var(--fill-color);\n",
              "      border-right-color: var(--fill-color);\n",
              "    }\n",
              "    40% {\n",
              "      border-color: transparent;\n",
              "      border-right-color: var(--fill-color);\n",
              "      border-top-color: var(--fill-color);\n",
              "    }\n",
              "    60% {\n",
              "      border-color: transparent;\n",
              "      border-right-color: var(--fill-color);\n",
              "    }\n",
              "    80% {\n",
              "      border-color: transparent;\n",
              "      border-right-color: var(--fill-color);\n",
              "      border-bottom-color: var(--fill-color);\n",
              "    }\n",
              "    90% {\n",
              "      border-color: transparent;\n",
              "      border-bottom-color: var(--fill-color);\n",
              "    }\n",
              "  }\n",
              "</style>\n",
              "\n",
              "  <script>\n",
              "    async function quickchart(key) {\n",
              "      const quickchartButtonEl =\n",
              "        document.querySelector('#' + key + ' button');\n",
              "      quickchartButtonEl.disabled = true;  // To prevent multiple clicks.\n",
              "      quickchartButtonEl.classList.add('colab-df-spinner');\n",
              "      try {\n",
              "        const charts = await google.colab.kernel.invokeFunction(\n",
              "            'suggestCharts', [key], {});\n",
              "      } catch (error) {\n",
              "        console.error('Error during call to suggestCharts:', error);\n",
              "      }\n",
              "      quickchartButtonEl.classList.remove('colab-df-spinner');\n",
              "      quickchartButtonEl.classList.add('colab-df-quickchart-complete');\n",
              "    }\n",
              "    (() => {\n",
              "      let quickchartButtonEl =\n",
              "        document.querySelector('#df-5b675f58-37ab-4a8b-8cb1-83f8091dca7f button');\n",
              "      quickchartButtonEl.style.display =\n",
              "        google.colab.kernel.accessAllowed ? 'block' : 'none';\n",
              "    })();\n",
              "  </script>\n",
              "</div>\n",
              "\n",
              "    </div>\n",
              "  </div>\n"
            ],
            "text/plain": [
              "                                              review sentiment\n",
              "0  One of the other reviewers has mentioned that ...  positive\n",
              "1  A wonderful little production. <br /><br />The...  positive\n",
              "2  I thought this was a wonderful way to spend ti...  positive\n",
              "3  Basically there's a family where a little boy ...  negative\n",
              "4  Petter Mattei's \"Love in the Time of Money\" is...  positive"
            ]
          },
          "execution_count": 3,
          "metadata": {},
          "output_type": "execute_result"
        }
      ],
      "source": [
        "df.head()"
      ]
    },
    {
      "cell_type": "code",
      "execution_count": 4,
      "metadata": {
        "colab": {
          "base_uri": "https://localhost:8080/",
          "height": 173
        },
        "id": "piaIeBWCywOw",
        "outputId": "f1252088-6f63-44be-91f2-eda1803837db"
      },
      "outputs": [
        {
          "data": {
            "application/vnd.google.colaboratory.intrinsic+json": {
              "summary": "{\n  \"name\": \"df\",\n  \"rows\": 4,\n  \"fields\": [\n    {\n      \"column\": \"review\",\n      \"properties\": {\n        \"dtype\": \"string\",\n        \"num_unique_values\": 4,\n        \"samples\": [\n          49582,\n          \"5\",\n          \"50000\"\n        ],\n        \"semantic_type\": \"\",\n        \"description\": \"\"\n      }\n    },\n    {\n      \"column\": \"sentiment\",\n      \"properties\": {\n        \"dtype\": \"string\",\n        \"num_unique_values\": 4,\n        \"samples\": [\n          2,\n          \"25000\",\n          \"50000\"\n        ],\n        \"semantic_type\": \"\",\n        \"description\": \"\"\n      }\n    }\n  ]\n}",
              "type": "dataframe"
            },
            "text/html": [
              "\n",
              "  <div id=\"df-03cb2aff-4721-4ce4-b336-8d15298c4de3\" class=\"colab-df-container\">\n",
              "    <div>\n",
              "<style scoped>\n",
              "    .dataframe tbody tr th:only-of-type {\n",
              "        vertical-align: middle;\n",
              "    }\n",
              "\n",
              "    .dataframe tbody tr th {\n",
              "        vertical-align: top;\n",
              "    }\n",
              "\n",
              "    .dataframe thead th {\n",
              "        text-align: right;\n",
              "    }\n",
              "</style>\n",
              "<table border=\"1\" class=\"dataframe\">\n",
              "  <thead>\n",
              "    <tr style=\"text-align: right;\">\n",
              "      <th></th>\n",
              "      <th>review</th>\n",
              "      <th>sentiment</th>\n",
              "    </tr>\n",
              "  </thead>\n",
              "  <tbody>\n",
              "    <tr>\n",
              "      <th>count</th>\n",
              "      <td>50000</td>\n",
              "      <td>50000</td>\n",
              "    </tr>\n",
              "    <tr>\n",
              "      <th>unique</th>\n",
              "      <td>49582</td>\n",
              "      <td>2</td>\n",
              "    </tr>\n",
              "    <tr>\n",
              "      <th>top</th>\n",
              "      <td>Loved today's show!!! It was a variety and not...</td>\n",
              "      <td>positive</td>\n",
              "    </tr>\n",
              "    <tr>\n",
              "      <th>freq</th>\n",
              "      <td>5</td>\n",
              "      <td>25000</td>\n",
              "    </tr>\n",
              "  </tbody>\n",
              "</table>\n",
              "</div>\n",
              "    <div class=\"colab-df-buttons\">\n",
              "\n",
              "  <div class=\"colab-df-container\">\n",
              "    <button class=\"colab-df-convert\" onclick=\"convertToInteractive('df-03cb2aff-4721-4ce4-b336-8d15298c4de3')\"\n",
              "            title=\"Convert this dataframe to an interactive table.\"\n",
              "            style=\"display:none;\">\n",
              "\n",
              "  <svg xmlns=\"http://www.w3.org/2000/svg\" height=\"24px\" viewBox=\"0 -960 960 960\">\n",
              "    <path d=\"M120-120v-720h720v720H120Zm60-500h600v-160H180v160Zm220 220h160v-160H400v160Zm0 220h160v-160H400v160ZM180-400h160v-160H180v160Zm440 0h160v-160H620v160ZM180-180h160v-160H180v160Zm440 0h160v-160H620v160Z\"/>\n",
              "  </svg>\n",
              "    </button>\n",
              "\n",
              "  <style>\n",
              "    .colab-df-container {\n",
              "      display:flex;\n",
              "      gap: 12px;\n",
              "    }\n",
              "\n",
              "    .colab-df-convert {\n",
              "      background-color: #E8F0FE;\n",
              "      border: none;\n",
              "      border-radius: 50%;\n",
              "      cursor: pointer;\n",
              "      display: none;\n",
              "      fill: #1967D2;\n",
              "      height: 32px;\n",
              "      padding: 0 0 0 0;\n",
              "      width: 32px;\n",
              "    }\n",
              "\n",
              "    .colab-df-convert:hover {\n",
              "      background-color: #E2EBFA;\n",
              "      box-shadow: 0px 1px 2px rgba(60, 64, 67, 0.3), 0px 1px 3px 1px rgba(60, 64, 67, 0.15);\n",
              "      fill: #174EA6;\n",
              "    }\n",
              "\n",
              "    .colab-df-buttons div {\n",
              "      margin-bottom: 4px;\n",
              "    }\n",
              "\n",
              "    [theme=dark] .colab-df-convert {\n",
              "      background-color: #3B4455;\n",
              "      fill: #D2E3FC;\n",
              "    }\n",
              "\n",
              "    [theme=dark] .colab-df-convert:hover {\n",
              "      background-color: #434B5C;\n",
              "      box-shadow: 0px 1px 3px 1px rgba(0, 0, 0, 0.15);\n",
              "      filter: drop-shadow(0px 1px 2px rgba(0, 0, 0, 0.3));\n",
              "      fill: #FFFFFF;\n",
              "    }\n",
              "  </style>\n",
              "\n",
              "    <script>\n",
              "      const buttonEl =\n",
              "        document.querySelector('#df-03cb2aff-4721-4ce4-b336-8d15298c4de3 button.colab-df-convert');\n",
              "      buttonEl.style.display =\n",
              "        google.colab.kernel.accessAllowed ? 'block' : 'none';\n",
              "\n",
              "      async function convertToInteractive(key) {\n",
              "        const element = document.querySelector('#df-03cb2aff-4721-4ce4-b336-8d15298c4de3');\n",
              "        const dataTable =\n",
              "          await google.colab.kernel.invokeFunction('convertToInteractive',\n",
              "                                                    [key], {});\n",
              "        if (!dataTable) return;\n",
              "\n",
              "        const docLinkHtml = 'Like what you see? Visit the ' +\n",
              "          '<a target=\"_blank\" href=https://colab.research.google.com/notebooks/data_table.ipynb>data table notebook</a>'\n",
              "          + ' to learn more about interactive tables.';\n",
              "        element.innerHTML = '';\n",
              "        dataTable['output_type'] = 'display_data';\n",
              "        await google.colab.output.renderOutput(dataTable, element);\n",
              "        const docLink = document.createElement('div');\n",
              "        docLink.innerHTML = docLinkHtml;\n",
              "        element.appendChild(docLink);\n",
              "      }\n",
              "    </script>\n",
              "  </div>\n",
              "\n",
              "\n",
              "<div id=\"df-f61ec5c2-6d1f-4120-8b38-d0ee675fb50c\">\n",
              "  <button class=\"colab-df-quickchart\" onclick=\"quickchart('df-f61ec5c2-6d1f-4120-8b38-d0ee675fb50c')\"\n",
              "            title=\"Suggest charts\"\n",
              "            style=\"display:none;\">\n",
              "\n",
              "<svg xmlns=\"http://www.w3.org/2000/svg\" height=\"24px\"viewBox=\"0 0 24 24\"\n",
              "     width=\"24px\">\n",
              "    <g>\n",
              "        <path d=\"M19 3H5c-1.1 0-2 .9-2 2v14c0 1.1.9 2 2 2h14c1.1 0 2-.9 2-2V5c0-1.1-.9-2-2-2zM9 17H7v-7h2v7zm4 0h-2V7h2v10zm4 0h-2v-4h2v4z\"/>\n",
              "    </g>\n",
              "</svg>\n",
              "  </button>\n",
              "\n",
              "<style>\n",
              "  .colab-df-quickchart {\n",
              "      --bg-color: #E8F0FE;\n",
              "      --fill-color: #1967D2;\n",
              "      --hover-bg-color: #E2EBFA;\n",
              "      --hover-fill-color: #174EA6;\n",
              "      --disabled-fill-color: #AAA;\n",
              "      --disabled-bg-color: #DDD;\n",
              "  }\n",
              "\n",
              "  [theme=dark] .colab-df-quickchart {\n",
              "      --bg-color: #3B4455;\n",
              "      --fill-color: #D2E3FC;\n",
              "      --hover-bg-color: #434B5C;\n",
              "      --hover-fill-color: #FFFFFF;\n",
              "      --disabled-bg-color: #3B4455;\n",
              "      --disabled-fill-color: #666;\n",
              "  }\n",
              "\n",
              "  .colab-df-quickchart {\n",
              "    background-color: var(--bg-color);\n",
              "    border: none;\n",
              "    border-radius: 50%;\n",
              "    cursor: pointer;\n",
              "    display: none;\n",
              "    fill: var(--fill-color);\n",
              "    height: 32px;\n",
              "    padding: 0;\n",
              "    width: 32px;\n",
              "  }\n",
              "\n",
              "  .colab-df-quickchart:hover {\n",
              "    background-color: var(--hover-bg-color);\n",
              "    box-shadow: 0 1px 2px rgba(60, 64, 67, 0.3), 0 1px 3px 1px rgba(60, 64, 67, 0.15);\n",
              "    fill: var(--button-hover-fill-color);\n",
              "  }\n",
              "\n",
              "  .colab-df-quickchart-complete:disabled,\n",
              "  .colab-df-quickchart-complete:disabled:hover {\n",
              "    background-color: var(--disabled-bg-color);\n",
              "    fill: var(--disabled-fill-color);\n",
              "    box-shadow: none;\n",
              "  }\n",
              "\n",
              "  .colab-df-spinner {\n",
              "    border: 2px solid var(--fill-color);\n",
              "    border-color: transparent;\n",
              "    border-bottom-color: var(--fill-color);\n",
              "    animation:\n",
              "      spin 1s steps(1) infinite;\n",
              "  }\n",
              "\n",
              "  @keyframes spin {\n",
              "    0% {\n",
              "      border-color: transparent;\n",
              "      border-bottom-color: var(--fill-color);\n",
              "      border-left-color: var(--fill-color);\n",
              "    }\n",
              "    20% {\n",
              "      border-color: transparent;\n",
              "      border-left-color: var(--fill-color);\n",
              "      border-top-color: var(--fill-color);\n",
              "    }\n",
              "    30% {\n",
              "      border-color: transparent;\n",
              "      border-left-color: var(--fill-color);\n",
              "      border-top-color: var(--fill-color);\n",
              "      border-right-color: var(--fill-color);\n",
              "    }\n",
              "    40% {\n",
              "      border-color: transparent;\n",
              "      border-right-color: var(--fill-color);\n",
              "      border-top-color: var(--fill-color);\n",
              "    }\n",
              "    60% {\n",
              "      border-color: transparent;\n",
              "      border-right-color: var(--fill-color);\n",
              "    }\n",
              "    80% {\n",
              "      border-color: transparent;\n",
              "      border-right-color: var(--fill-color);\n",
              "      border-bottom-color: var(--fill-color);\n",
              "    }\n",
              "    90% {\n",
              "      border-color: transparent;\n",
              "      border-bottom-color: var(--fill-color);\n",
              "    }\n",
              "  }\n",
              "</style>\n",
              "\n",
              "  <script>\n",
              "    async function quickchart(key) {\n",
              "      const quickchartButtonEl =\n",
              "        document.querySelector('#' + key + ' button');\n",
              "      quickchartButtonEl.disabled = true;  // To prevent multiple clicks.\n",
              "      quickchartButtonEl.classList.add('colab-df-spinner');\n",
              "      try {\n",
              "        const charts = await google.colab.kernel.invokeFunction(\n",
              "            'suggestCharts', [key], {});\n",
              "      } catch (error) {\n",
              "        console.error('Error during call to suggestCharts:', error);\n",
              "      }\n",
              "      quickchartButtonEl.classList.remove('colab-df-spinner');\n",
              "      quickchartButtonEl.classList.add('colab-df-quickchart-complete');\n",
              "    }\n",
              "    (() => {\n",
              "      let quickchartButtonEl =\n",
              "        document.querySelector('#df-f61ec5c2-6d1f-4120-8b38-d0ee675fb50c button');\n",
              "      quickchartButtonEl.style.display =\n",
              "        google.colab.kernel.accessAllowed ? 'block' : 'none';\n",
              "    })();\n",
              "  </script>\n",
              "</div>\n",
              "\n",
              "    </div>\n",
              "  </div>\n"
            ],
            "text/plain": [
              "                                                   review sentiment\n",
              "count                                               50000     50000\n",
              "unique                                              49582         2\n",
              "top     Loved today's show!!! It was a variety and not...  positive\n",
              "freq                                                    5     25000"
            ]
          },
          "execution_count": 4,
          "metadata": {},
          "output_type": "execute_result"
        }
      ],
      "source": [
        "df.describe()"
      ]
    },
    {
      "cell_type": "markdown",
      "metadata": {
        "id": "Oi1ldudgywOx"
      },
      "source": [
        "Convert the sentiment values to a binary."
      ]
    },
    {
      "cell_type": "code",
      "execution_count": 5,
      "metadata": {
        "id": "iLiBrPALywOx"
      },
      "outputs": [],
      "source": [
        "sentiment = {'positive' : 1, 'negative' : 0}\n",
        "df['sentiment'] = [sentiment[item] for item in df['sentiment']]"
      ]
    },
    {
      "cell_type": "markdown",
      "metadata": {
        "id": "pkf12VxcywOx"
      },
      "source": [
        "### Cleaning Our Data"
      ]
    },
    {
      "cell_type": "markdown",
      "metadata": {
        "id": "V3HJgVTuywOx"
      },
      "source": [
        "Now, we will clean our data before using the data to train our models."
      ]
    },
    {
      "cell_type": "code",
      "execution_count": 6,
      "metadata": {
        "colab": {
          "base_uri": "https://localhost:8080/"
        },
        "id": "9Jt9yqr8ywOx",
        "outputId": "14fdea55-0579-45c3-a261-25d4844bfde2"
      },
      "outputs": [
        {
          "data": {
            "text/plain": [
              "review       0\n",
              "sentiment    0\n",
              "dtype: int64"
            ]
          },
          "execution_count": 6,
          "metadata": {},
          "output_type": "execute_result"
        }
      ],
      "source": [
        "df.isna().sum()"
      ]
    },
    {
      "cell_type": "markdown",
      "metadata": {
        "id": "drQ5f9yAywOy"
      },
      "source": [
        "We will remove stop words using the natural language tool kit. Stop words are words such as like, the, etc. that do not have much impact on the meaning of a sentence."
      ]
    },
    {
      "cell_type": "code",
      "execution_count": 7,
      "metadata": {
        "colab": {
          "base_uri": "https://localhost:8080/"
        },
        "id": "ItrAcD-mVh0T",
        "outputId": "099862f3-703d-4ca6-c200-dd870bc64d09"
      },
      "outputs": [
        {
          "name": "stderr",
          "output_type": "stream",
          "text": [
            "[nltk_data] Downloading package stopwords to /root/nltk_data...\n",
            "[nltk_data]   Package stopwords is already up-to-date!\n"
          ]
        }
      ],
      "source": [
        "if colab:\n",
        "  import nltk\n",
        "  nltk.download('stopwords')"
      ]
    },
    {
      "cell_type": "code",
      "execution_count": 8,
      "metadata": {
        "id": "21SjSUh0ywOy"
      },
      "outputs": [],
      "source": [
        "stop = set(stopwords.words('english'))\n",
        "punctuation = list(string.punctuation)\n",
        "stop.update(punctuation)"
      ]
    },
    {
      "cell_type": "markdown",
      "metadata": {
        "id": "fNMh3KOWywOy"
      },
      "source": [
        "Now, to implement our stop words and perform data cleaning. Functions used from [this Kaggle Notebook](https://www.kaggle.com/code/madz2000/sentiment-analysis-cleaning-eda-bert-88-acc)."
      ]
    },
    {
      "cell_type": "code",
      "execution_count": 9,
      "metadata": {
        "colab": {
          "base_uri": "https://localhost:8080/"
        },
        "id": "q7jWjUtRywOy",
        "outputId": "c88193b1-a3f8-4b4e-c6b7-250c0895f93e"
      },
      "outputs": [
        {
          "name": "stderr",
          "output_type": "stream",
          "text": [
            "<ipython-input-9-3cd9a5225f8d>:3: MarkupResemblesLocatorWarning: The input looks more like a filename than markup. You may want to open this file and pass the filehandle into Beautiful Soup.\n",
            "  soup = BeautifulSoup(text, \"html.parser\")\n"
          ]
        }
      ],
      "source": [
        "# Removing HTML text\n",
        "def strip_html(text):\n",
        "    soup = BeautifulSoup(text, \"html.parser\")\n",
        "    return soup.get_text()\n",
        "\n",
        "# Removing the square brackets\n",
        "def remove_between_square_brackets(text):\n",
        "    return re.sub('\\[[^]]*\\]', '', text)\n",
        "\n",
        "# Removing URL's\n",
        "def remove_between_square_brackets(text):\n",
        "    return re.sub(r'http\\S+', '', text)\n",
        "\n",
        "# Removing the stopwords from text\n",
        "def remove_stopwords(text):\n",
        "    final_text = []\n",
        "    for i in text.split():\n",
        "        if i.strip().lower() not in stop and i.strip().lower().isalpha():\n",
        "            final_text.append(i.strip().lower())\n",
        "    return \" \".join(final_text)\n",
        "\n",
        "# Removing the noisy text\n",
        "def denoise_text(text):\n",
        "    text = strip_html(text)\n",
        "    text = remove_between_square_brackets(text)\n",
        "    text = remove_stopwords(text)\n",
        "    return text\n",
        "\n",
        "# Apply function on review column\n",
        "df['review']=df['review'].apply(denoise_text)"
      ]
    },
    {
      "cell_type": "markdown",
      "metadata": {
        "id": "H26Wufw6dvRZ"
      },
      "source": [
        "Rename our column headers."
      ]
    },
    {
      "cell_type": "code",
      "execution_count": 10,
      "metadata": {
        "id": "L7R9gQVjywOy"
      },
      "outputs": [],
      "source": [
        "df = df.rename(columns = {\"review\":\"text\",\"sentiment\":\"label\"})"
      ]
    },
    {
      "cell_type": "code",
      "execution_count": 11,
      "metadata": {
        "colab": {
          "base_uri": "https://localhost:8080/",
          "height": 204
        },
        "id": "iIcTDttEywOz",
        "outputId": "87302626-1d34-44cc-b95e-0c019d61cd76"
      },
      "outputs": [
        {
          "data": {
            "application/vnd.google.colaboratory.intrinsic+json": {
              "summary": "{\n  \"name\": \"df\",\n  \"rows\": 50000,\n  \"fields\": [\n    {\n      \"column\": \"text\",\n      \"properties\": {\n        \"dtype\": \"string\",\n        \"num_unique_values\": 49573,\n        \"samples\": [\n          \"george kim traveling young son miles remote cabin upstate new york car hits deer swerves seems mere occurrence misfortune marks beginning terrifying myth becomes reality animal half man small larry fessenden horror film often somber family acting characters subtle glimpses wendigo handled effectively never clear real even story taking place entirely first contact larry work surely film mind watching something\",\n          \"minor spoilers nothing learned reading back together wonderful central performance ren\\u00e9e nurse betty dark yet deceptively emotional mental breakdown witnessing sleazy desperately unhappy waitress betty becomes convinced character favourite daytime soap fianc\\u00e9 sets kansas hollywood find making jokes expense mental writer john richards zellweger portraying lost entirely helpless tragically vulnerable crucially never really victim despite undoubtedly suffers horribly motives characters treat poorly understandable even greg kinnear object deluded affections may arrogant pig genuinely believes merely quirky wannabe actress bags talent rather insane farcical ending main protagonists descend place instance time old cinema works quite well even shift tone ably supported kinnear morgan freeman solid especially pleasing see chris rock show restraint earlier nearly cruel might nurse betty far laugh riot solid entertainment elevated something considerably lead\",\n          \"without doubt beat street best film breakin everything spot clothes music importantly storyline hey whats tell story whole point film show kids moment time mattered shows teenagers general mattered everyday kids watched dvd recently plesantly surprised well stood test clothes look dated puma massive music still sounds dancing still captivating film anyone years age see part youth\"\n        ],\n        \"semantic_type\": \"\",\n        \"description\": \"\"\n      }\n    },\n    {\n      \"column\": \"label\",\n      \"properties\": {\n        \"dtype\": \"number\",\n        \"std\": 0,\n        \"min\": 0,\n        \"max\": 1,\n        \"num_unique_values\": 2,\n        \"samples\": [\n          0,\n          1\n        ],\n        \"semantic_type\": \"\",\n        \"description\": \"\"\n      }\n    }\n  ]\n}",
              "type": "dataframe",
              "variable_name": "df"
            },
            "text/html": [
              "\n",
              "  <div id=\"df-58e3e230-28fa-4730-8d07-ca421230d324\" class=\"colab-df-container\">\n",
              "    <div>\n",
              "<style scoped>\n",
              "    .dataframe tbody tr th:only-of-type {\n",
              "        vertical-align: middle;\n",
              "    }\n",
              "\n",
              "    .dataframe tbody tr th {\n",
              "        vertical-align: top;\n",
              "    }\n",
              "\n",
              "    .dataframe thead th {\n",
              "        text-align: right;\n",
              "    }\n",
              "</style>\n",
              "<table border=\"1\" class=\"dataframe\">\n",
              "  <thead>\n",
              "    <tr style=\"text-align: right;\">\n",
              "      <th></th>\n",
              "      <th>text</th>\n",
              "      <th>label</th>\n",
              "    </tr>\n",
              "  </thead>\n",
              "  <tbody>\n",
              "    <tr>\n",
              "      <th>0</th>\n",
              "      <td>one reviewers mentioned watching oz episode ex...</td>\n",
              "      <td>1</td>\n",
              "    </tr>\n",
              "    <tr>\n",
              "      <th>1</th>\n",
              "      <td>wonderful little filming technique fashion giv...</td>\n",
              "      <td>1</td>\n",
              "    </tr>\n",
              "    <tr>\n",
              "      <th>2</th>\n",
              "      <td>thought wonderful way spend time hot summer si...</td>\n",
              "      <td>1</td>\n",
              "    </tr>\n",
              "    <tr>\n",
              "      <th>3</th>\n",
              "      <td>basically family little boy thinks zombie clos...</td>\n",
              "      <td>0</td>\n",
              "    </tr>\n",
              "    <tr>\n",
              "      <th>4</th>\n",
              "      <td>petter time visually stunning film mattei offe...</td>\n",
              "      <td>1</td>\n",
              "    </tr>\n",
              "  </tbody>\n",
              "</table>\n",
              "</div>\n",
              "    <div class=\"colab-df-buttons\">\n",
              "\n",
              "  <div class=\"colab-df-container\">\n",
              "    <button class=\"colab-df-convert\" onclick=\"convertToInteractive('df-58e3e230-28fa-4730-8d07-ca421230d324')\"\n",
              "            title=\"Convert this dataframe to an interactive table.\"\n",
              "            style=\"display:none;\">\n",
              "\n",
              "  <svg xmlns=\"http://www.w3.org/2000/svg\" height=\"24px\" viewBox=\"0 -960 960 960\">\n",
              "    <path d=\"M120-120v-720h720v720H120Zm60-500h600v-160H180v160Zm220 220h160v-160H400v160Zm0 220h160v-160H400v160ZM180-400h160v-160H180v160Zm440 0h160v-160H620v160ZM180-180h160v-160H180v160Zm440 0h160v-160H620v160Z\"/>\n",
              "  </svg>\n",
              "    </button>\n",
              "\n",
              "  <style>\n",
              "    .colab-df-container {\n",
              "      display:flex;\n",
              "      gap: 12px;\n",
              "    }\n",
              "\n",
              "    .colab-df-convert {\n",
              "      background-color: #E8F0FE;\n",
              "      border: none;\n",
              "      border-radius: 50%;\n",
              "      cursor: pointer;\n",
              "      display: none;\n",
              "      fill: #1967D2;\n",
              "      height: 32px;\n",
              "      padding: 0 0 0 0;\n",
              "      width: 32px;\n",
              "    }\n",
              "\n",
              "    .colab-df-convert:hover {\n",
              "      background-color: #E2EBFA;\n",
              "      box-shadow: 0px 1px 2px rgba(60, 64, 67, 0.3), 0px 1px 3px 1px rgba(60, 64, 67, 0.15);\n",
              "      fill: #174EA6;\n",
              "    }\n",
              "\n",
              "    .colab-df-buttons div {\n",
              "      margin-bottom: 4px;\n",
              "    }\n",
              "\n",
              "    [theme=dark] .colab-df-convert {\n",
              "      background-color: #3B4455;\n",
              "      fill: #D2E3FC;\n",
              "    }\n",
              "\n",
              "    [theme=dark] .colab-df-convert:hover {\n",
              "      background-color: #434B5C;\n",
              "      box-shadow: 0px 1px 3px 1px rgba(0, 0, 0, 0.15);\n",
              "      filter: drop-shadow(0px 1px 2px rgba(0, 0, 0, 0.3));\n",
              "      fill: #FFFFFF;\n",
              "    }\n",
              "  </style>\n",
              "\n",
              "    <script>\n",
              "      const buttonEl =\n",
              "        document.querySelector('#df-58e3e230-28fa-4730-8d07-ca421230d324 button.colab-df-convert');\n",
              "      buttonEl.style.display =\n",
              "        google.colab.kernel.accessAllowed ? 'block' : 'none';\n",
              "\n",
              "      async function convertToInteractive(key) {\n",
              "        const element = document.querySelector('#df-58e3e230-28fa-4730-8d07-ca421230d324');\n",
              "        const dataTable =\n",
              "          await google.colab.kernel.invokeFunction('convertToInteractive',\n",
              "                                                    [key], {});\n",
              "        if (!dataTable) return;\n",
              "\n",
              "        const docLinkHtml = 'Like what you see? Visit the ' +\n",
              "          '<a target=\"_blank\" href=https://colab.research.google.com/notebooks/data_table.ipynb>data table notebook</a>'\n",
              "          + ' to learn more about interactive tables.';\n",
              "        element.innerHTML = '';\n",
              "        dataTable['output_type'] = 'display_data';\n",
              "        await google.colab.output.renderOutput(dataTable, element);\n",
              "        const docLink = document.createElement('div');\n",
              "        docLink.innerHTML = docLinkHtml;\n",
              "        element.appendChild(docLink);\n",
              "      }\n",
              "    </script>\n",
              "  </div>\n",
              "\n",
              "\n",
              "<div id=\"df-b5207792-4f7f-48a2-973d-8a298a8e50cf\">\n",
              "  <button class=\"colab-df-quickchart\" onclick=\"quickchart('df-b5207792-4f7f-48a2-973d-8a298a8e50cf')\"\n",
              "            title=\"Suggest charts\"\n",
              "            style=\"display:none;\">\n",
              "\n",
              "<svg xmlns=\"http://www.w3.org/2000/svg\" height=\"24px\"viewBox=\"0 0 24 24\"\n",
              "     width=\"24px\">\n",
              "    <g>\n",
              "        <path d=\"M19 3H5c-1.1 0-2 .9-2 2v14c0 1.1.9 2 2 2h14c1.1 0 2-.9 2-2V5c0-1.1-.9-2-2-2zM9 17H7v-7h2v7zm4 0h-2V7h2v10zm4 0h-2v-4h2v4z\"/>\n",
              "    </g>\n",
              "</svg>\n",
              "  </button>\n",
              "\n",
              "<style>\n",
              "  .colab-df-quickchart {\n",
              "      --bg-color: #E8F0FE;\n",
              "      --fill-color: #1967D2;\n",
              "      --hover-bg-color: #E2EBFA;\n",
              "      --hover-fill-color: #174EA6;\n",
              "      --disabled-fill-color: #AAA;\n",
              "      --disabled-bg-color: #DDD;\n",
              "  }\n",
              "\n",
              "  [theme=dark] .colab-df-quickchart {\n",
              "      --bg-color: #3B4455;\n",
              "      --fill-color: #D2E3FC;\n",
              "      --hover-bg-color: #434B5C;\n",
              "      --hover-fill-color: #FFFFFF;\n",
              "      --disabled-bg-color: #3B4455;\n",
              "      --disabled-fill-color: #666;\n",
              "  }\n",
              "\n",
              "  .colab-df-quickchart {\n",
              "    background-color: var(--bg-color);\n",
              "    border: none;\n",
              "    border-radius: 50%;\n",
              "    cursor: pointer;\n",
              "    display: none;\n",
              "    fill: var(--fill-color);\n",
              "    height: 32px;\n",
              "    padding: 0;\n",
              "    width: 32px;\n",
              "  }\n",
              "\n",
              "  .colab-df-quickchart:hover {\n",
              "    background-color: var(--hover-bg-color);\n",
              "    box-shadow: 0 1px 2px rgba(60, 64, 67, 0.3), 0 1px 3px 1px rgba(60, 64, 67, 0.15);\n",
              "    fill: var(--button-hover-fill-color);\n",
              "  }\n",
              "\n",
              "  .colab-df-quickchart-complete:disabled,\n",
              "  .colab-df-quickchart-complete:disabled:hover {\n",
              "    background-color: var(--disabled-bg-color);\n",
              "    fill: var(--disabled-fill-color);\n",
              "    box-shadow: none;\n",
              "  }\n",
              "\n",
              "  .colab-df-spinner {\n",
              "    border: 2px solid var(--fill-color);\n",
              "    border-color: transparent;\n",
              "    border-bottom-color: var(--fill-color);\n",
              "    animation:\n",
              "      spin 1s steps(1) infinite;\n",
              "  }\n",
              "\n",
              "  @keyframes spin {\n",
              "    0% {\n",
              "      border-color: transparent;\n",
              "      border-bottom-color: var(--fill-color);\n",
              "      border-left-color: var(--fill-color);\n",
              "    }\n",
              "    20% {\n",
              "      border-color: transparent;\n",
              "      border-left-color: var(--fill-color);\n",
              "      border-top-color: var(--fill-color);\n",
              "    }\n",
              "    30% {\n",
              "      border-color: transparent;\n",
              "      border-left-color: var(--fill-color);\n",
              "      border-top-color: var(--fill-color);\n",
              "      border-right-color: var(--fill-color);\n",
              "    }\n",
              "    40% {\n",
              "      border-color: transparent;\n",
              "      border-right-color: var(--fill-color);\n",
              "      border-top-color: var(--fill-color);\n",
              "    }\n",
              "    60% {\n",
              "      border-color: transparent;\n",
              "      border-right-color: var(--fill-color);\n",
              "    }\n",
              "    80% {\n",
              "      border-color: transparent;\n",
              "      border-right-color: var(--fill-color);\n",
              "      border-bottom-color: var(--fill-color);\n",
              "    }\n",
              "    90% {\n",
              "      border-color: transparent;\n",
              "      border-bottom-color: var(--fill-color);\n",
              "    }\n",
              "  }\n",
              "</style>\n",
              "\n",
              "  <script>\n",
              "    async function quickchart(key) {\n",
              "      const quickchartButtonEl =\n",
              "        document.querySelector('#' + key + ' button');\n",
              "      quickchartButtonEl.disabled = true;  // To prevent multiple clicks.\n",
              "      quickchartButtonEl.classList.add('colab-df-spinner');\n",
              "      try {\n",
              "        const charts = await google.colab.kernel.invokeFunction(\n",
              "            'suggestCharts', [key], {});\n",
              "      } catch (error) {\n",
              "        console.error('Error during call to suggestCharts:', error);\n",
              "      }\n",
              "      quickchartButtonEl.classList.remove('colab-df-spinner');\n",
              "      quickchartButtonEl.classList.add('colab-df-quickchart-complete');\n",
              "    }\n",
              "    (() => {\n",
              "      let quickchartButtonEl =\n",
              "        document.querySelector('#df-b5207792-4f7f-48a2-973d-8a298a8e50cf button');\n",
              "      quickchartButtonEl.style.display =\n",
              "        google.colab.kernel.accessAllowed ? 'block' : 'none';\n",
              "    })();\n",
              "  </script>\n",
              "</div>\n",
              "\n",
              "    </div>\n",
              "  </div>\n"
            ],
            "text/plain": [
              "                                                text  label\n",
              "0  one reviewers mentioned watching oz episode ex...      1\n",
              "1  wonderful little filming technique fashion giv...      1\n",
              "2  thought wonderful way spend time hot summer si...      1\n",
              "3  basically family little boy thinks zombie clos...      0\n",
              "4  petter time visually stunning film mattei offe...      1"
            ]
          },
          "execution_count": 11,
          "metadata": {},
          "output_type": "execute_result"
        }
      ],
      "source": [
        "df.head()"
      ]
    },
    {
      "cell_type": "code",
      "execution_count": 12,
      "metadata": {
        "colab": {
          "base_uri": "https://localhost:8080/",
          "height": 430
        },
        "id": "gD5RKBq9OKBR",
        "outputId": "406fd8ee-7240-45bc-952c-e6d67cc08d6f"
      },
      "outputs": [
        {
          "data": {
            "image/png": "[encoded data removed]",
            "text/plain": [
              "<Figure size 640x480 with 1 Axes>"
            ]
          },
          "metadata": {},
          "output_type": "display_data"
        }
      ],
      "source": [
        "df.groupby('label').size().plot(kind='barh', color=sns.palettes.mpl_palette('Dark2'))\n",
        "plt.gca().spines[['top', 'right',]].set_visible(False)"
      ]
    },
    {
      "cell_type": "markdown",
      "metadata": {
        "id": "Xc1a3gKDywOz"
      },
      "source": [
        "### Creating Our GloVe Embedding RNN Model"
      ]
    },
    {
      "cell_type": "markdown",
      "metadata": {
        "id": "waCH3UZ9dy4J"
      },
      "source": [
        "First, we will load in our GloVe embedding using the following function."
      ]
    },
    {
      "cell_type": "code",
      "execution_count": 13,
      "metadata": {
        "colab": {
          "base_uri": "https://localhost:8080/"
        },
        "id": "bBkZNedAywOz",
        "outputId": "e0567504-ba0c-4cf0-ccb2-232c935ed963"
      },
      "outputs": [
        {
          "data": {
            "text/plain": [
              "(400000, 300)"
            ]
          },
          "execution_count": 13,
          "metadata": {},
          "output_type": "execute_result"
        }
      ],
      "source": [
        "def load_embeddings(filename):\n",
        "    labels = []\n",
        "    rows = []\n",
        "    with open(filename, encoding='utf-8') as infile:\n",
        "        for i, line in enumerate(infile):\n",
        "            items = line.rstrip().split(' ')\n",
        "            if len(items) == 2:\n",
        "                # This is a header row giving the shape of the matrix\n",
        "                continue\n",
        "            labels.append(items[0])\n",
        "            values = np.array([float(x) for x in items[1:]], 'f')\n",
        "            rows.append(values)\n",
        "\n",
        "    arr = np.vstack(rows)\n",
        "    return pd.DataFrame(arr, index=labels, dtype='f')\n",
        "\n",
        "if colab:\n",
        "  glove = load_embeddings('/content/data/glove.6B.300d.txt')\n",
        "else:\n",
        "  glove = load_embeddings('data/glove.6B.300d.txt')\n",
        "glove.shape"
      ]
    },
    {
      "cell_type": "markdown",
      "metadata": {
        "id": "myoOtaLReAHS"
      },
      "source": [
        "Next, we will tokenize our data from the cleaned IMDB dataset. We will also use a max sequence length of 128 with padding for reviews that do not have 128 tokens to ensure that all of our sequences are the same length for our model."
      ]
    },
    {
      "cell_type": "code",
      "execution_count": 14,
      "metadata": {
        "id": "CGNev8eRywOz"
      },
      "outputs": [],
      "source": [
        "tokenizer_glove = Tokenizer()\n",
        "tokenizer_glove.fit_on_texts(df['text'])\n",
        "vocab_size = len(tokenizer_glove.word_index) + 1\n",
        "\n",
        "max_sequence_length = 128\n",
        "sequences_glove = tokenizer_glove.texts_to_sequences(df['text'])\n",
        "padded_sequences_glove = pad_sequences(sequences_glove, maxlen=max_sequence_length, padding='post', truncating='post')"
      ]
    },
    {
      "cell_type": "markdown",
      "metadata": {
        "id": "s-MFQvPIeQYI"
      },
      "source": [
        "After, we will create our embedding matrix of the tokens present in our dataset as well as in the GloVe embedding."
      ]
    },
    {
      "cell_type": "code",
      "execution_count": 15,
      "metadata": {
        "id": "oRz3PK5tywO0"
      },
      "outputs": [],
      "source": [
        "def create_embedding_matrix(word_index, embeddings_index, embedding_dim, tokenizer, vocab_size):\n",
        "    embedding_matrix = np.zeros((vocab_size, embedding_dim))\n",
        "\n",
        "    for word, i in tokenizer.word_index.items():\n",
        "        embedding_vector = embeddings_index.get(word)\n",
        "\n",
        "        if embedding_vector is not None:\n",
        "            embedding_matrix[i] = embedding_vector\n",
        "\n",
        "    return embedding_matrix"
      ]
    },
    {
      "cell_type": "code",
      "execution_count": 16,
      "metadata": {
        "id": "HbQxGtcyywO0"
      },
      "outputs": [],
      "source": [
        "embedding_dim = 300  # GloVe has dimension of 300\n",
        "glove_matrix = create_embedding_matrix(tokenizer_glove.word_index, glove, embedding_dim, tokenizer_glove, vocab_size)"
      ]
    },
    {
      "cell_type": "markdown",
      "metadata": {
        "id": "Hfs2XGaPeXn8"
      },
      "source": [
        "We also label encode our label column."
      ]
    },
    {
      "cell_type": "code",
      "execution_count": 17,
      "metadata": {
        "id": "VEMQwOJOywO0"
      },
      "outputs": [],
      "source": [
        "labels = df['label'].tolist()\n",
        "label_encoder = LabelEncoder()\n",
        "labels = label_encoder.fit_transform(labels)"
      ]
    },
    {
      "cell_type": "markdown",
      "metadata": {
        "id": "yQu_iJ3PedQV"
      },
      "source": [
        "Splitting our data."
      ]
    },
    {
      "cell_type": "code",
      "execution_count": 18,
      "metadata": {
        "id": "cCUqwgPMywO0"
      },
      "outputs": [],
      "source": [
        "X_train_glove, X_test_glove, y_train_glove, y_test_glove = train_test_split(padded_sequences_glove, labels, test_size=0.2, random_state=64)"
      ]
    },
    {
      "cell_type": "markdown",
      "metadata": {
        "id": "FCBAZNbcef8M"
      },
      "source": [
        "Finally, we build our model. We chose to utilize the recurrent nature of Recurrent Neural Networks. RNNs are often times used with sequential data such as text in NLP tasks."
      ]
    },
    {
      "cell_type": "code",
      "execution_count": 19,
      "metadata": {
        "id": "4cjYUFBmywO1"
      },
      "outputs": [],
      "source": [
        "glove_model = Sequential()\n",
        "\n",
        "glove_model.add(Embedding(input_dim=vocab_size,\n",
        "                  output_dim=embedding_dim,\n",
        "                  weights=[glove_matrix],\n",
        "                  input_length=max_sequence_length,\n",
        "                  trainable=True))\n",
        "glove_model.add(LSTM(64, return_sequences=True))\n",
        "glove_model.add(Dropout(0.5))\n",
        "glove_model.add(LSTM(32))\n",
        "glove_model.add(Dropout(0.5))\n",
        "glove_model.add(Dense(2,activation='softmax'))"
      ]
    },
    {
      "cell_type": "code",
      "execution_count": 20,
      "metadata": {
        "colab": {
          "base_uri": "https://localhost:8080/"
        },
        "id": "kZVfSh2RywO1",
        "outputId": "267ac0d4-d21a-4d47-cb71-be4507b5cdb2"
      },
      "outputs": [
        {
          "name": "stdout",
          "output_type": "stream",
          "text": [
            "Model: \"sequential\"\n",
            "_________________________________________________________________\n",
            " Layer (type)                Output Shape              Param #   \n",
            "=================================================================\n",
            " embedding (Embedding)       (None, 128, 300)          25062900  \n",
            "                                                                 \n",
            " lstm (LSTM)                 (None, 128, 64)           93440     \n",
            "                                                                 \n",
            " dropout (Dropout)           (None, 128, 64)           0         \n",
            "                                                                 \n",
            " lstm_1 (LSTM)               (None, 32)                12416     \n",
            "                                                                 \n",
            " dropout_1 (Dropout)         (None, 32)                0         \n",
            "                                                                 \n",
            " dense (Dense)               (None, 2)                 66        \n",
            "                                                                 \n",
            "=================================================================\n",
            "Total params: 25,168,822\n",
            "Trainable params: 25,168,822\n",
            "Non-trainable params: 0\n",
            "_________________________________________________________________\n"
          ]
        }
      ],
      "source": [
        "glove_model.compile(optimizer = tf.keras.optimizers.Adam(learning_rate=5e-05), loss = tf.keras.losses.SparseCategoricalCrossentropy(),  metrics = ['accuracy'])\n",
        "glove_model.summary()"
      ]
    },
    {
      "cell_type": "markdown",
      "metadata": {
        "id": "oLq-6CIoeuEW"
      },
      "source": [
        "Let's visualize our model."
      ]
    },
    {
      "cell_type": "code",
      "execution_count": 21,
      "metadata": {
        "colab": {
          "base_uri": "https://localhost:8080/",
          "height": 631
        },
        "id": "UPuMDbLMywO1",
        "outputId": "bc6848cc-e150-4f95-c054-349d80d0e159"
      },
      "outputs": [
        {
          "data": {
            "image/png": "[encoded data removed]",
            "text/plain": [
              "<IPython.core.display.Image object>"
            ]
          },
          "execution_count": 21,
          "metadata": {},
          "output_type": "execute_result"
        }
      ],
      "source": [
        "tf.keras.utils.plot_model(glove_model, show_shapes=True, dpi=80)"
      ]
    },
    {
      "cell_type": "markdown",
      "metadata": {
        "id": "NY9KbyqMe3BC"
      },
      "source": [
        "Once the model does not improve after 2 epochs, we will restore the highest weights."
      ]
    },
    {
      "cell_type": "code",
      "execution_count": 22,
      "metadata": {
        "id": "5Yg6kSbtywO2"
      },
      "outputs": [],
      "source": [
        "callbacks = tf.keras.callbacks.EarlyStopping(monitor='val_accuracy', patience=2, restore_best_weights=True)"
      ]
    },
    {
      "cell_type": "markdown",
      "metadata": {
        "id": "ArnAF4a9e_vl"
      },
      "source": [
        "Training our GloVe model."
      ]
    },
    {
      "cell_type": "code",
      "execution_count": 23,
      "metadata": {
        "colab": {
          "base_uri": "https://localhost:8080/"
        },
        "id": "RShFMc80ywO2",
        "outputId": "cdaf02fc-02b6-4a9a-95a7-fab5713ac8ce"
      },
      "outputs": [
        {
          "name": "stdout",
          "output_type": "stream",
          "text": [
            "Epoch 1/200\n",
            "1250/1250 [==============================] - 203s 160ms/step - loss: 0.5571 - accuracy: 0.6656 - val_loss: 0.3290 - val_accuracy: 0.8631\n",
            "Epoch 2/200\n",
            "1250/1250 [==============================] - 198s 159ms/step - loss: 0.2597 - accuracy: 0.9002 - val_loss: 0.3180 - val_accuracy: 0.8694\n",
            "Epoch 3/200\n",
            "1250/1250 [==============================] - 199s 159ms/step - loss: 0.1649 - accuracy: 0.9431 - val_loss: 0.3406 - val_accuracy: 0.8637\n",
            "Epoch 4/200\n",
            "1250/1250 [==============================] - 198s 159ms/step - loss: 0.1062 - accuracy: 0.9672 - val_loss: 0.4398 - val_accuracy: 0.8592\n"
          ]
        }
      ],
      "source": [
        "glove_history = glove_model.fit(X_train_glove, y_train_glove, epochs=200, batch_size=BATCH_SIZE, validation_data=(X_test_glove, y_test_glove), callbacks=[callbacks])"
      ]
    },
    {
      "cell_type": "markdown",
      "metadata": {
        "id": "JIJZ_RGXfEL_"
      },
      "source": [
        "Plotting our models performance."
      ]
    },
    {
      "cell_type": "code",
      "execution_count": 25,
      "metadata": {
        "id": "wvag5QDufPN7"
      },
      "outputs": [],
      "source": [
        "def plot_training_validation_acc(history, name, smooth=False, smooth_factor=0.8):\n",
        "    def smooth_curve(points, factor=0.8):\n",
        "        smoothed_points = []\n",
        "        for point in points:\n",
        "            if smoothed_points:\n",
        "                previous = smoothed_points[-1]\n",
        "                smoothed_points.append(previous * factor + point * (1 - factor))\n",
        "            else:\n",
        "                smoothed_points.append(point)\n",
        "        return smoothed_points\n",
        "\n",
        "    acc = history.history['accuracy']\n",
        "    val_acc = history.history['val_accuracy']\n",
        "    loss = history.history['loss']\n",
        "    val_loss = history.history['val_loss']\n",
        "\n",
        "    if smooth:\n",
        "        acc = smooth_curve(acc)\n",
        "        val_acc = smooth_curve(val_acc)\n",
        "        loss = smooth_curve(loss)\n",
        "        val_loss = smooth_curve(val_loss)\n",
        "\n",
        "    epochs = range(len(acc))\n",
        "\n",
        "    plt.plot(epochs, acc, 'bo', label='Training acc')\n",
        "    plt.plot(epochs, val_acc, 'b', label='Validation acc')\n",
        "    plt.title('Training and validation accuracy')\n",
        "    plt.legend()\n",
        "\n",
        "    plt.savefig(f\"{name}_accuracy.png\")\n",
        "\n",
        "    plt.figure()\n",
        "\n",
        "    plt.plot(epochs, loss, 'bo', label='Training loss')\n",
        "    plt.plot(epochs, val_loss, 'b', label='Validation loss')\n",
        "    plt.title('Training and validation loss')\n",
        "    plt.legend()\n",
        "\n",
        "    plt.savefig(f\"{name}_loss.png\")\n",
        "\n",
        "    plt.show()"
      ]
    },
    {
      "cell_type": "code",
      "execution_count": 26,
      "metadata": {
        "colab": {
          "base_uri": "https://localhost:8080/",
          "height": 887
        },
        "id": "u4ZarbT_fQhS",
        "outputId": "303f2f1c-b6a3-4904-bf27-f29b0c591441"
      },
      "outputs": [
        {
          "data": {
            "image/png": "[encoded data removed]",
            "text/plain": [
              "<Figure size 640x480 with 1 Axes>"
            ]
          },
          "metadata": {},
          "output_type": "display_data"
        },
        {
          "data": {
            "image/png": "[encoded data removed]",
            "text/plain": [
              "<Figure size 640x480 with 1 Axes>"
            ]
          },
          "metadata": {},
          "output_type": "display_data"
        }
      ],
      "source": [
        "plot_training_validation_acc(glove_history, name = \"GloVe\", smooth = True)"
      ]
    },
    {
      "cell_type": "markdown",
      "metadata": {
        "id": "fcwqthclywO2"
      },
      "source": [
        "### Creating Our BERT Model"
      ]
    },
    {
      "cell_type": "markdown",
      "metadata": {
        "id": "x-syDAQufYss"
      },
      "source": [
        "Configuring and loading in our DistilBERT model. We are using the base and uncased version of DistilBERT. Again, like with our GloVe model, we chose to set the max sequence length to 128."
      ]
    },
    {
      "cell_type": "code",
      "execution_count": 27,
      "metadata": {
        "colab": {
          "base_uri": "https://localhost:8080/",
          "height": 384,
          "referenced_widgets": [
            "24e7cccf90e34b2aab935d88be3e1bd7",
            "542a11cd733e4668827c91f74b1bd1a6",
            "788dec4e6833498da5262f3ff70b6c71",
            "7c6f58d8bf514fe1923920117a532292",
            "dede43dd4d4f469580c1d980287df59b",
            "f2760ca021804631931b1031c024398a",
            "e1473b19112d4e14a2c185d8beed0296",
            "9194a62b6d934ab38f5708eb01be3cca",
            "fb6f7ae2f2704b8786c792f377542c00",
            "b9e114b264a54bd0a25813dc13a2237f",
            "9e2fed7ec8054ce2bdde01686f318360",
            "2edcf589c2244c6a9c14f69eb7dfdaaa",
            "ed65fb0564a64f35b4843645959c71a2",
            "c40b1a33699248a990aff596aa9b3737",
            "4b1d1ccc93d84447ab28d46508fec2e5",
            "75777917f02a4f529aff9a6de2b042c3",
            "474754c729fe45baba15e8e0a725aff1",
            "de30c61a2a764dbf810d6ccf235762d0",
            "7c84b3a8b17c47809627aeaf0ed82ab8",
            "2fd98a7999634b9eacd3bf893c8de200",
            "9fb9eea5fce24926a706108aed85d47d",
            "c11586ceef764cfbac0a0138c3eeee53",
            "2af7bd9ef16b4c9e88811f20acfea273",
            "d457fba654254f99a6907603667c0023",
            "bcaf82a816b349e69e119c8a288dc60a",
            "f2aa64dd989145babbec01c8ee92e882",
            "f4cdfc22e5414cc78a625800a28f2df3",
            "7c0012da429b4b77848e50d66ea4f5c5",
            "1af5c145b99f42e595d5c1c8dfc345b4",
            "c588d6f799ae43a19f6a7f97697619d4",
            "61fc5aff82bd4d1db0c33b749a6087f6",
            "8c69425224234dd2b3579e520b06dca1",
            "488b896cdf194a60a392b691584a25be",
            "3ddaea8152db4ac28bb807f527971ea0",
            "a7553f7950f44ccf8eea4eccf5d0e16b",
            "af75c797945b4598b810eb0b1fbbe0f8",
            "8941158e3a904379a6691f9b5f01e3d6",
            "0e73c019a54c44fb8ef4dd42a8d16243",
            "666fa590787141f88e976644f84b051f",
            "992ac01731204d31b7e36dc18ab5c137",
            "19f97150a4a942bd90522e46ca2b74c7",
            "53c15817bb03446eb7fb026a499393b1",
            "1c0d696be7394fd3bd01e3288db414c7",
            "85bc69ffb6544680864da9c9043d44a5",
            "79511377f5434b2c96c219984265334d",
            "de0bed6d4b5946569c3a3410ba26cc06",
            "7e52cba4cb4940918fea6b967756255f",
            "d92ea58b742249b9b2538e04b098e7cd",
            "896c85e5cea54194bcb6eb8a55e30a7e",
            "909bfd30e984498992dfe39051a4bf91",
            "d39465051693476e90b9193bcb554143",
            "001c36689072448e8c6215cefe9e0007",
            "3f25186b1c624a49a1c370292b339e57",
            "3c4b8b23627345e2b47c682e57b11c90",
            "b4363917174f441e9f89e72ab2d1b94b"
          ]
        },
        "id": "GJJm9WmZywO3",
        "outputId": "7f2841cd-8e27-43ac-f260-a25067d1a329"
      },
      "outputs": [
        {
          "name": "stderr",
          "output_type": "stream",
          "text": [
            "/usr/local/lib/python3.10/dist-packages/huggingface_hub/utils/_token.py:88: UserWarning: \n",
            "The secret `HF_TOKEN` does not exist in your Colab secrets.\n",
            "To authenticate with the Hugging Face Hub, create a token in your settings tab (https://huggingface.co/settings/tokens), set it as secret in your Google Colab and restart your session.\n",
            "You will be able to reuse this secret in all of your notebooks.\n",
            "Please note that authentication is recommended but still optional to access public models or datasets.\n",
            "  warnings.warn(\n"
          ]
        },
        {
          "data": {
            "application/vnd.jupyter.widget-view+json": {
              "model_id": "24e7cccf90e34b2aab935d88be3e1bd7",
              "version_major": 2,
              "version_minor": 0
            },
            "text/plain": [
              "tokenizer_config.json:   0%|          | 0.00/28.0 [00:00<?, ?B/s]"
            ]
          },
          "metadata": {},
          "output_type": "display_data"
        },
        {
          "data": {
            "application/vnd.jupyter.widget-view+json": {
              "model_id": "2edcf589c2244c6a9c14f69eb7dfdaaa",
              "version_major": 2,
              "version_minor": 0
            },
            "text/plain": [
              "config.json:   0%|          | 0.00/483 [00:00<?, ?B/s]"
            ]
          },
          "metadata": {},
          "output_type": "display_data"
        },
        {
          "data": {
            "application/vnd.jupyter.widget-view+json": {
              "model_id": "2af7bd9ef16b4c9e88811f20acfea273",
              "version_major": 2,
              "version_minor": 0
            },
            "text/plain": [
              "vocab.txt:   0%|          | 0.00/232k [00:00<?, ?B/s]"
            ]
          },
          "metadata": {},
          "output_type": "display_data"
        },
        {
          "data": {
            "application/vnd.jupyter.widget-view+json": {
              "model_id": "3ddaea8152db4ac28bb807f527971ea0",
              "version_major": 2,
              "version_minor": 0
            },
            "text/plain": [
              "tokenizer.json:   0%|          | 0.00/466k [00:00<?, ?B/s]"
            ]
          },
          "metadata": {},
          "output_type": "display_data"
        },
        {
          "data": {
            "application/vnd.jupyter.widget-view+json": {
              "model_id": "79511377f5434b2c96c219984265334d",
              "version_major": 2,
              "version_minor": 0
            },
            "text/plain": [
              "model.safetensors:   0%|          | 0.00/268M [00:00<?, ?B/s]"
            ]
          },
          "metadata": {},
          "output_type": "display_data"
        },
        {
          "name": "stderr",
          "output_type": "stream",
          "text": [
            "Some weights of the PyTorch model were not used when initializing the TF 2.0 model TFDistilBertModel: ['vocab_transform.bias', 'vocab_layer_norm.weight', 'vocab_layer_norm.bias', 'vocab_transform.weight', 'vocab_projector.bias']\n",
            "- This IS expected if you are initializing TFDistilBertModel from a PyTorch model trained on another task or with another architecture (e.g. initializing a TFBertForSequenceClassification model from a BertForPreTraining model).\n",
            "- This IS NOT expected if you are initializing TFDistilBertModel from a PyTorch model that you expect to be exactly identical (e.g. initializing a TFBertForSequenceClassification model from a BertForSequenceClassification model).\n",
            "All the weights of TFDistilBertModel were initialized from the PyTorch model.\n",
            "If your task is similar to the task the model of the checkpoint was trained on, you can already use TFDistilBertModel for predictions without further training.\n"
          ]
        }
      ],
      "source": [
        "checkpoint = \"distilbert-base-uncased\"\n",
        "config = DistilBertConfig(vocab_size=50265, max_length=128)\n",
        "tokenizer = AutoTokenizer.from_pretrained(checkpoint)\n",
        "distil_bert = TFDistilBertModel.from_pretrained(checkpoint,config)\n",
        "MAX_LEN = 128"
      ]
    },
    {
      "cell_type": "markdown",
      "metadata": {
        "id": "uE38N1NUfnz2"
      },
      "source": [
        "Now, let's tokenize our text by creating a tokenize text function. The function takes the input data and max length as data and returns the tokenized text column and the original token labels."
      ]
    },
    {
      "cell_type": "code",
      "execution_count": 28,
      "metadata": {
        "id": "hPdRUeI9ywO3"
      },
      "outputs": [],
      "source": [
        "def tokenize_text(input, max_len=512):\n",
        "    return (tokenizer(text=input['text'].tolist(), add_special_tokens=True,\n",
        "                    max_length= max_len, truncation=True, padding=True, return_tensors='tf',\n",
        "                    return_token_type_ids=False, return_attention_mask=True, verbose=True), input['label'])"
      ]
    },
    {
      "cell_type": "markdown",
      "metadata": {
        "id": "wO8kZvZWf-F3"
      },
      "source": [
        "We will also split our data again since the data needed for DistilBERT is different thant the data needed for our GloVe RNN."
      ]
    },
    {
      "cell_type": "code",
      "execution_count": 29,
      "metadata": {
        "id": "kwhK7mgMywO4"
      },
      "outputs": [],
      "source": [
        "train, test = train_test_split(df, stratify=df['label'], test_size=0.2, random_state=64)"
      ]
    },
    {
      "cell_type": "markdown",
      "metadata": {
        "id": "dLqtrS9VgFtY"
      },
      "source": [
        "Feeding our data through the tokenize text function."
      ]
    },
    {
      "cell_type": "code",
      "execution_count": 30,
      "metadata": {
        "id": "bS49cYAOywO4"
      },
      "outputs": [],
      "source": [
        "train_encoded, train_labels = tokenize_text(train, MAX_LEN)\n",
        "test_encoded, test_labels = tokenize_text(test, MAX_LEN)"
      ]
    },
    {
      "cell_type": "markdown",
      "metadata": {
        "id": "tZ4-uYJAgJnF"
      },
      "source": [
        "This parsing function breaks the 'text' column down into two columns. When we tokenize our data, the text column is converted in to an array of two columns - 'input_ids' and 'attention_masks'. Input IDs are the vectorized words from the text, and attention masks either block or allow a word with a list of binary values. This way, we are separating our text column into two columns."
      ]
    },
    {
      "cell_type": "code",
      "execution_count": 31,
      "metadata": {
        "id": "ZgA80ZC2ywO4"
      },
      "outputs": [],
      "source": [
        "def parsing(text, label):\n",
        "    input_ids = text['input_ids']\n",
        "    attention_mask = text['attention_mask']\n",
        "\n",
        "    return {'input_ids': input_ids, 'attention_mask' : attention_mask}, label"
      ]
    },
    {
      "cell_type": "markdown",
      "metadata": {
        "id": "aU9xdpangxqD"
      },
      "source": [
        "Create TensorFlow datasets from our encoded text and labels and parse our data."
      ]
    },
    {
      "cell_type": "code",
      "execution_count": 32,
      "metadata": {
        "id": "t1FzV4pBywO4"
      },
      "outputs": [],
      "source": [
        "train_loader = tf.data.Dataset.from_tensor_slices((train_encoded, train_labels))\n",
        "train_dataset = (train_loader.map(parsing, num_parallel_calls = AUTO).shuffle(BATCH_SIZE*10).batch(BATCH_SIZE).prefetch(AUTO))\n",
        "\n",
        "test_loader = tf.data.Dataset.from_tensor_slices((test_encoded, test_labels))\n",
        "test_dataset = (test_loader.map(parsing, num_parallel_calls = AUTO).batch(BATCH_SIZE).prefetch(AUTO))"
      ]
    },
    {
      "cell_type": "markdown",
      "metadata": {
        "id": "Xm9kZG64ywO4"
      },
      "source": [
        "To create our TensorFlow model, we won't use the Sequentual API since DistilBert is a Hugging Face model, and this would require creating a custom layer class."
      ]
    },
    {
      "cell_type": "code",
      "execution_count": 33,
      "metadata": {
        "colab": {
          "base_uri": "https://localhost:8080/"
        },
        "id": "lTPVNlLoywO4",
        "outputId": "1b217798-9d48-41c6-c471-9b64fea7bcda"
      },
      "outputs": [
        {
          "name": "stdout",
          "output_type": "stream",
          "text": [
            "Model: \"model\"\n",
            "__________________________________________________________________________________________________\n",
            " Layer (type)                   Output Shape         Param #     Connected to                     \n",
            "==================================================================================================\n",
            " input_ids (InputLayer)         [(None, 128)]        0           []                               \n",
            "                                                                                                  \n",
            " attention_mask (InputLayer)    [(None, 128)]        0           []                               \n",
            "                                                                                                  \n",
            " tf_distil_bert_model (TFDistil  TFBaseModelOutput(l  66362880   ['input_ids[0][0]',              \n",
            " BertModel)                     ast_hidden_state=(N               'attention_mask[0][0]']         \n",
            "                                one, 128, 768),                                                   \n",
            "                                 hidden_states=None                                               \n",
            "                                , attentions=None)                                                \n",
            "                                                                                                  \n",
            " global_max_pooling1d (GlobalMa  (None, 768)         0           ['tf_distil_bert_model[0][0]']   \n",
            " xPooling1D)                                                                                      \n",
            "                                                                                                  \n",
            " dense_1 (Dense)                (None, 256)          196864      ['global_max_pooling1d[0][0]']   \n",
            "                                                                                                  \n",
            " dropout_21 (Dropout)           (None, 256)          0           ['dense_1[0][0]']                \n",
            "                                                                                                  \n",
            " dense_2 (Dense)                (None, 64)           16448       ['dropout_21[0][0]']             \n",
            "                                                                                                  \n",
            " dropout_22 (Dropout)           (None, 64)           0           ['dense_2[0][0]']                \n",
            "                                                                                                  \n",
            " dense_3 (Dense)                (None, 2)            130         ['dropout_22[0][0]']             \n",
            "                                                                                                  \n",
            "==================================================================================================\n",
            "Total params: 66,576,322\n",
            "Trainable params: 66,576,322\n",
            "Non-trainable params: 0\n",
            "__________________________________________________________________________________________________\n"
          ]
        }
      ],
      "source": [
        "# create distil_bert embedding layer\n",
        "input_ids = tf.keras.layers.Input(shape=(MAX_LEN,), dtype=tf.int32, name=\"input_ids\")\n",
        "input_mask = tf.keras.layers.Input(shape=(MAX_LEN,), dtype=tf.int32, name=\"attention_mask\")\n",
        "embeddings = distil_bert(input_ids, attention_mask=input_mask)[0]\n",
        "\n",
        "# create tensorflow model layers\n",
        "X = GlobalMaxPool1D()(embeddings)\n",
        "X = Dense(256, activation='gelu')(X)\n",
        "X = Dropout(0.3)(X)\n",
        "X = Dense(64,activation = 'gelu')(X)\n",
        "X = Dropout(0.1)(X)\n",
        "out = Dense(2,activation = 'softmax')(X)\n",
        "\n",
        "# create model\n",
        "distilbert_model = tf.keras.Model(inputs=[input_ids, input_mask], outputs=out)\n",
        "\n",
        "# set DistilBert layer as trainable\n",
        "distilbert_model.layers[2].trainable = True\n",
        "\n",
        "distilbert_model.compile(optimizer = tf.keras.optimizers.Adam(learning_rate=5e-05), loss = tf.keras.losses.SparseCategoricalCrossentropy(),  metrics = ['accuracy'] )\n",
        "distilbert_model.summary()"
      ]
    },
    {
      "cell_type": "markdown",
      "metadata": {
        "id": "DGANYRtrhGFf"
      },
      "source": [
        "Again, let's visualize our model."
      ]
    },
    {
      "cell_type": "code",
      "execution_count": 34,
      "metadata": {
        "colab": {
          "base_uri": "https://localhost:8080/",
          "height": 673
        },
        "id": "Eggtsgm_ywO5",
        "outputId": "36b67182-75d0-4032-cc67-c6c997f76990"
      },
      "outputs": [
        {
          "data": {
            "image/png": "[encoded data removed]",
            "text/plain": [
              "<IPython.core.display.Image object>"
            ]
          },
          "execution_count": 34,
          "metadata": {},
          "output_type": "execute_result"
        }
      ],
      "source": [
        "tf.keras.utils.plot_model(distilbert_model, show_shapes=True, dpi=80)"
      ]
    },
    {
      "cell_type": "markdown",
      "metadata": {
        "id": "Lg-6fuFhhJY_"
      },
      "source": [
        "Since the training for a DistilBERT or BERT model takes so long, we will use fewer epochs. We will only use two epochs to avoid overfitting, and we are only using our early stopping callback to ensure we restore the best weights."
      ]
    },
    {
      "cell_type": "code",
      "execution_count": 35,
      "metadata": {
        "id": "e5RaUE47t4wh"
      },
      "outputs": [],
      "source": [
        "callbacks = tf.keras.callbacks.EarlyStopping(monitor='val_accuracy', patience=1, restore_best_weights=True)"
      ]
    },
    {
      "cell_type": "code",
      "execution_count": 36,
      "metadata": {
        "colab": {
          "base_uri": "https://localhost:8080/"
        },
        "id": "GyR4nS8lywO5",
        "outputId": "858950d4-da29-4315-9df3-4fb60de397c5"
      },
      "outputs": [
        {
          "name": "stdout",
          "output_type": "stream",
          "text": [
            "Epoch 1/2\n",
            "1250/1250 [==============================] - 3168s 3s/step - loss: 0.3572 - accuracy: 0.8391 - val_loss: 0.2937 - val_accuracy: 0.8715\n",
            "Epoch 2/2\n",
            "1250/1250 [==============================] - 3198s 3s/step - loss: 0.2067 - accuracy: 0.9180 - val_loss: 0.3269 - val_accuracy: 0.8782\n"
          ]
        }
      ],
      "source": [
        "distilbert_history = distilbert_model.fit(train_dataset, validation_data=test_dataset, epochs=2, callbacks=[callbacks])"
      ]
    },
    {
      "cell_type": "markdown",
      "metadata": {
        "id": "mHcfoBfqsDXt"
      },
      "source": [
        "Plotting our accuracy."
      ]
    },
    {
      "cell_type": "code",
      "execution_count": 38,
      "metadata": {
        "colab": {
          "base_uri": "https://localhost:8080/",
          "height": 887
        },
        "id": "PEnF_8weh9ky",
        "outputId": "198dfd01-a9ae-4561-da67-cbf613fbeec6"
      },
      "outputs": [
        {
          "data": {
            "image/png": "[encoded data removed]",
            "text/plain": [
              "<Figure size 640x480 with 1 Axes>"
            ]
          },
          "metadata": {},
          "output_type": "display_data"
        },
        {
          "data": {
            "image/png": "[encoded data removed]",
            "text/plain": [
              "<Figure size 640x480 with 1 Axes>"
            ]
          },
          "metadata": {},
          "output_type": "display_data"
        }
      ],
      "source": [
        "plot_training_validation_acc(distilbert_history, name = \"DistilBERT\", smooth = True)"
      ]
    },
    {
      "cell_type": "markdown",
      "metadata": {
        "id": "rm-ARqT3kHOX"
      },
      "source": [
        "### Running Our Models On Our Names Dataset to Find Bias Scores"
      ]
    },
    {
      "cell_type": "markdown",
      "metadata": {
        "id": "_xPUeXNbFGD-"
      },
      "source": [
        "Loading in the Names dataset as a pandas dataframe."
      ]
    },
    {
      "cell_type": "code",
      "execution_count": 39,
      "metadata": {
        "id": "lHTzlz6akNst"
      },
      "outputs": [],
      "source": [
        "if colab:\n",
        "    test_names = pd.read_csv('/content/data/names_80percent.csv')\n",
        "else:\n",
        "    test_names = pd.read_csv('data/names_80percent.csv')"
      ]
    },
    {
      "cell_type": "markdown",
      "metadata": {
        "id": "IWj128xlFO2f"
      },
      "source": [
        "Now, we create a function to calculate the sentiment scores from our two models."
      ]
    },
    {
      "cell_type": "code",
      "execution_count": 42,
      "metadata": {
        "id": "ch5VahLVams6"
      },
      "outputs": [],
      "source": [
        "def add_log_sentiment_scores_to_dataframe(model, dataset, dataframe, col_name):\n",
        "    # Ensure the dataframe has the correct structure\n",
        "    if col_name not in dataframe.columns:\n",
        "        dataframe[col_name] = np.nan\n",
        "\n",
        "    # Predict sentiment scores using the model. Assuming the output is in the form [prob_negative, prob_positive].\n",
        "    predictions = model.predict(dataset)\n",
        "\n",
        "    # Process each prediction\n",
        "    for i, (prob_negative, prob_positive) in enumerate(predictions):\n",
        "        # Calculate log probability ratio\n",
        "        # To avoid division by zero or log(0), we add a small epsilon value.\n",
        "        epsilon = 1e-9\n",
        "        log_sentiment_score = np.log((prob_positive + epsilon) / (prob_negative + epsilon))\n",
        "\n",
        "        # Add the log sentiment score to the dataframe\n",
        "        dataframe.at[i, col_name] = log_sentiment_score\n",
        "\n",
        "    return dataframe"
      ]
    },
    {
      "cell_type": "markdown",
      "metadata": {
        "id": "bt3ELM30KEuh"
      },
      "source": [
        "Before calculating the sentiment scores of our names, we must preprocess the data to match the preprocessing for both the GloVe and DistilBERT models. Preprocessing for GloVe:"
      ]
    },
    {
      "cell_type": "code",
      "execution_count": 53,
      "metadata": {
        "id": "a7d56B2rKEKY"
      },
      "outputs": [],
      "source": [
        "tokenizer_names = Tokenizer()\n",
        "tokenizer_names.fit_on_texts(test_names['name'])\n",
        "vocab_size = len(tokenizer_names.word_index) + 1\n",
        "\n",
        "max_sequence_length = 128\n",
        "sequences_names = tokenizer_names.texts_to_sequences(test_names['name'])\n",
        "padded_sequences_names = pad_sequences(sequences_names, maxlen=max_sequence_length, padding='post', truncating='post')"
      ]
    },
    {
      "cell_type": "markdown",
      "metadata": {
        "id": "vX27QgtbLTNZ"
      },
      "source": [
        "Next, DistilBERT:"
      ]
    },
    {
      "cell_type": "code",
      "execution_count": 54,
      "metadata": {
        "id": "SFa5_queLXvd"
      },
      "outputs": [],
      "source": [
        "distilbert_encoded_names = tokenizer(test_names['name'].tolist(), add_special_tokens=True,\n",
        "                    max_length= 128, truncation=True, padding=True, return_tensors='tf',\n",
        "                    return_token_type_ids=False, return_attention_mask=True, verbose=True)"
      ]
    },
    {
      "cell_type": "code",
      "execution_count": 55,
      "metadata": {
        "id": "BfFEXLLgMBJL"
      },
      "outputs": [],
      "source": [
        "distilbert_parsed_names = {\n",
        "    'input_ids': distilbert_encoded_names['input_ids'],\n",
        "    'attention_mask': distilbert_encoded_names['attention_mask']\n",
        "}"
      ]
    },
    {
      "cell_type": "code",
      "execution_count": 56,
      "metadata": {
        "id": "esqr2VVHML59"
      },
      "outputs": [],
      "source": [
        "names_dataset = tf.data.Dataset.from_tensor_slices(distilbert_parsed_names)"
      ]
    },
    {
      "cell_type": "markdown",
      "metadata": {
        "id": "5THyp5NnFVhR"
      },
      "source": [
        "Now, we create an empty pandas dataframe to store our sentiment values for each name."
      ]
    },
    {
      "cell_type": "code",
      "execution_count": 57,
      "metadata": {
        "id": "yPqHJ07Xz3_v"
      },
      "outputs": [],
      "source": [
        "sentiment_scores = pd.DataFrame(columns=['glove', 'distilbert'])"
      ]
    },
    {
      "cell_type": "markdown",
      "metadata": {
        "id": "GJNcn6D9NdvJ"
      },
      "source": [
        "Finally, to find our sentiment scores! What will the biases be towards names of different generations based on the model?"
      ]
    },
    {
      "cell_type": "code",
      "execution_count": 58,
      "metadata": {
        "colab": {
          "base_uri": "https://localhost:8080/"
        },
        "id": "ViCPt6suz4Kl",
        "outputId": "dcd61614-8da5-49ec-98d6-384032bd0207"
      },
      "outputs": [
        {
          "name": "stdout",
          "output_type": "stream",
          "text": [
            "180/180 [==============================] - 7s 34ms/step\n"
          ]
        }
      ],
      "source": [
        "sentiment_scores = add_log_sentiment_scores_to_dataframe(glove_model, padded_sequences_names, sentiment_scores, 'glove')"
      ]
    },
    {
      "cell_type": "code",
      "execution_count": 59,
      "metadata": {
        "colab": {
          "base_uri": "https://localhost:8080/"
        },
        "id": "T7VN6Bwc0Vac",
        "outputId": "9c4d9983-88b3-45cc-b991-178d400e3786"
      },
      "outputs": [
        {
          "name": "stdout",
          "output_type": "stream",
          "text": [
            "5753/5753 [==============================] - 83s 14ms/step\n"
          ]
        }
      ],
      "source": [
        "sentiment_scores = add_log_sentiment_scores_to_dataframe(distilbert_model, names_dataset, sentiment_scores, 'distilbert')"
      ]
    },
    {
      "cell_type": "code",
      "execution_count": 60,
      "metadata": {
        "id": "J4doPf9DF8NC"
      },
      "outputs": [],
      "source": [
        "sentiment_df = pd.concat([test_names, sentiment_scores], axis=1)"
      ]
    },
    {
      "cell_type": "code",
      "execution_count": 61,
      "metadata": {
        "colab": {
          "base_uri": "https://localhost:8080/",
          "height": 204
        },
        "id": "M8KGcBohNFaq",
        "outputId": "e83d34ff-297d-4983-abf2-c24890bff79f"
      },
      "outputs": [
        {
          "data": {
            "application/vnd.google.colaboratory.intrinsic+json": {
              "summary": "{\n  \"name\": \"sentiment_df\",\n  \"rows\": 5753,\n  \"fields\": [\n    {\n      \"column\": \"Unnamed: 0\",\n      \"properties\": {\n        \"dtype\": \"number\",\n        \"std\": 1660,\n        \"min\": 1,\n        \"max\": 5753,\n        \"num_unique_values\": 5753,\n        \"samples\": [\n          1655,\n          4764,\n          2779\n        ],\n        \"semantic_type\": \"\",\n        \"description\": \"\"\n      }\n    },\n    {\n      \"column\": \"gender\",\n      \"properties\": {\n        \"dtype\": \"category\",\n        \"num_unique_values\": 2,\n        \"samples\": [\n          \"M\",\n          \"F\"\n        ],\n        \"semantic_type\": \"\",\n        \"description\": \"\"\n      }\n    },\n    {\n      \"column\": \"name\",\n      \"properties\": {\n        \"dtype\": \"string\",\n        \"num_unique_values\": 5473,\n        \"samples\": [\n          \"Yisroel\",\n          \"Karl\"\n        ],\n        \"semantic_type\": \"\",\n        \"description\": \"\"\n      }\n    },\n    {\n      \"column\": \"glove\",\n      \"properties\": {\n        \"dtype\": \"date\",\n        \"min\": -2.938266738448246,\n        \"max\": 3.0987501175325782,\n        \"num_unique_values\": 5472,\n        \"samples\": [\n          1.4816067678632379,\n          1.188638801224995\n        ],\n        \"semantic_type\": \"\",\n        \"description\": \"\"\n      }\n    },\n    {\n      \"column\": \"distilbert\",\n      \"properties\": {\n        \"dtype\": \"date\",\n        \"min\": -5.647288963855172,\n        \"max\": 4.696967971429415,\n        \"num_unique_values\": 5473,\n        \"samples\": [\n          0.33543523527050595,\n          0.1193059074813307\n        ],\n        \"semantic_type\": \"\",\n        \"description\": \"\"\n      }\n    }\n  ]\n}",
              "type": "dataframe",
              "variable_name": "sentiment_df"
            },
            "text/html": [
              "\n",
              "  <div id=\"df-2bd1d823-6280-4aef-a132-871103c79ca5\" class=\"colab-df-container\">\n",
              "    <div>\n",
              "<style scoped>\n",
              "    .dataframe tbody tr th:only-of-type {\n",
              "        vertical-align: middle;\n",
              "    }\n",
              "\n",
              "    .dataframe tbody tr th {\n",
              "        vertical-align: top;\n",
              "    }\n",
              "\n",
              "    .dataframe thead th {\n",
              "        text-align: right;\n",
              "    }\n",
              "</style>\n",
              "<table border=\"1\" class=\"dataframe\">\n",
              "  <thead>\n",
              "    <tr style=\"text-align: right;\">\n",
              "      <th></th>\n",
              "      <th>Unnamed: 0</th>\n",
              "      <th>gender</th>\n",
              "      <th>name</th>\n",
              "      <th>glove</th>\n",
              "      <th>distilbert</th>\n",
              "    </tr>\n",
              "  </thead>\n",
              "  <tbody>\n",
              "    <tr>\n",
              "      <th>0</th>\n",
              "      <td>1</td>\n",
              "      <td>F</td>\n",
              "      <td>Aadhya</td>\n",
              "      <td>1.31175</td>\n",
              "      <td>1.334584</td>\n",
              "    </tr>\n",
              "    <tr>\n",
              "      <th>1</th>\n",
              "      <td>2</td>\n",
              "      <td>F</td>\n",
              "      <td>Aadya</td>\n",
              "      <td>1.278464</td>\n",
              "      <td>0.524386</td>\n",
              "    </tr>\n",
              "    <tr>\n",
              "      <th>2</th>\n",
              "      <td>3</td>\n",
              "      <td>F</td>\n",
              "      <td>Aahana</td>\n",
              "      <td>1.526925</td>\n",
              "      <td>1.063332</td>\n",
              "    </tr>\n",
              "    <tr>\n",
              "      <th>3</th>\n",
              "      <td>4</td>\n",
              "      <td>F</td>\n",
              "      <td>Aalayah</td>\n",
              "      <td>0.914015</td>\n",
              "      <td>0.871975</td>\n",
              "    </tr>\n",
              "    <tr>\n",
              "      <th>4</th>\n",
              "      <td>5</td>\n",
              "      <td>F</td>\n",
              "      <td>Aaleyah</td>\n",
              "      <td>1.229485</td>\n",
              "      <td>0.648049</td>\n",
              "    </tr>\n",
              "  </tbody>\n",
              "</table>\n",
              "</div>\n",
              "    <div class=\"colab-df-buttons\">\n",
              "\n",
              "  <div class=\"colab-df-container\">\n",
              "    <button class=\"colab-df-convert\" onclick=\"convertToInteractive('df-2bd1d823-6280-4aef-a132-871103c79ca5')\"\n",
              "            title=\"Convert this dataframe to an interactive table.\"\n",
              "            style=\"display:none;\">\n",
              "\n",
              "  <svg xmlns=\"http://www.w3.org/2000/svg\" height=\"24px\" viewBox=\"0 -960 960 960\">\n",
              "    <path d=\"M120-120v-720h720v720H120Zm60-500h600v-160H180v160Zm220 220h160v-160H400v160Zm0 220h160v-160H400v160ZM180-400h160v-160H180v160Zm440 0h160v-160H620v160ZM180-180h160v-160H180v160Zm440 0h160v-160H620v160Z\"/>\n",
              "  </svg>\n",
              "    </button>\n",
              "\n",
              "  <style>\n",
              "    .colab-df-container {\n",
              "      display:flex;\n",
              "      gap: 12px;\n",
              "    }\n",
              "\n",
              "    .colab-df-convert {\n",
              "      background-color: #E8F0FE;\n",
              "      border: none;\n",
              "      border-radius: 50%;\n",
              "      cursor: pointer;\n",
              "      display: none;\n",
              "      fill: #1967D2;\n",
              "      height: 32px;\n",
              "      padding: 0 0 0 0;\n",
              "      width: 32px;\n",
              "    }\n",
              "\n",
              "    .colab-df-convert:hover {\n",
              "      background-color: #E2EBFA;\n",
              "      box-shadow: 0px 1px 2px rgba(60, 64, 67, 0.3), 0px 1px 3px 1px rgba(60, 64, 67, 0.15);\n",
              "      fill: #174EA6;\n",
              "    }\n",
              "\n",
              "    .colab-df-buttons div {\n",
              "      margin-bottom: 4px;\n",
              "    }\n",
              "\n",
              "    [theme=dark] .colab-df-convert {\n",
              "      background-color: #3B4455;\n",
              "      fill: #D2E3FC;\n",
              "    }\n",
              "\n",
              "    [theme=dark] .colab-df-convert:hover {\n",
              "      background-color: #434B5C;\n",
              "      box-shadow: 0px 1px 3px 1px rgba(0, 0, 0, 0.15);\n",
              "      filter: drop-shadow(0px 1px 2px rgba(0, 0, 0, 0.3));\n",
              "      fill: #FFFFFF;\n",
              "    }\n",
              "  </style>\n",
              "\n",
              "    <script>\n",
              "      const buttonEl =\n",
              "        document.querySelector('#df-2bd1d823-6280-4aef-a132-871103c79ca5 button.colab-df-convert');\n",
              "      buttonEl.style.display =\n",
              "        google.colab.kernel.accessAllowed ? 'block' : 'none';\n",
              "\n",
              "      async function convertToInteractive(key) {\n",
              "        const element = document.querySelector('#df-2bd1d823-6280-4aef-a132-871103c79ca5');\n",
              "        const dataTable =\n",
              "          await google.colab.kernel.invokeFunction('convertToInteractive',\n",
              "                                                    [key], {});\n",
              "        if (!dataTable) return;\n",
              "\n",
              "        const docLinkHtml = 'Like what you see? Visit the ' +\n",
              "          '<a target=\"_blank\" href=https://colab.research.google.com/notebooks/data_table.ipynb>data table notebook</a>'\n",
              "          + ' to learn more about interactive tables.';\n",
              "        element.innerHTML = '';\n",
              "        dataTable['output_type'] = 'display_data';\n",
              "        await google.colab.output.renderOutput(dataTable, element);\n",
              "        const docLink = document.createElement('div');\n",
              "        docLink.innerHTML = docLinkHtml;\n",
              "        element.appendChild(docLink);\n",
              "      }\n",
              "    </script>\n",
              "  </div>\n",
              "\n",
              "\n",
              "<div id=\"df-139e6601-db29-4a0b-baad-b7073bf85cf9\">\n",
              "  <button class=\"colab-df-quickchart\" onclick=\"quickchart('df-139e6601-db29-4a0b-baad-b7073bf85cf9')\"\n",
              "            title=\"Suggest charts\"\n",
              "            style=\"display:none;\">\n",
              "\n",
              "<svg xmlns=\"http://www.w3.org/2000/svg\" height=\"24px\"viewBox=\"0 0 24 24\"\n",
              "     width=\"24px\">\n",
              "    <g>\n",
              "        <path d=\"M19 3H5c-1.1 0-2 .9-2 2v14c0 1.1.9 2 2 2h14c1.1 0 2-.9 2-2V5c0-1.1-.9-2-2-2zM9 17H7v-7h2v7zm4 0h-2V7h2v10zm4 0h-2v-4h2v4z\"/>\n",
              "    </g>\n",
              "</svg>\n",
              "  </button>\n",
              "\n",
              "<style>\n",
              "  .colab-df-quickchart {\n",
              "      --bg-color: #E8F0FE;\n",
              "      --fill-color: #1967D2;\n",
              "      --hover-bg-color: #E2EBFA;\n",
              "      --hover-fill-color: #174EA6;\n",
              "      --disabled-fill-color: #AAA;\n",
              "      --disabled-bg-color: #DDD;\n",
              "  }\n",
              "\n",
              "  [theme=dark] .colab-df-quickchart {\n",
              "      --bg-color: #3B4455;\n",
              "      --fill-color: #D2E3FC;\n",
              "      --hover-bg-color: #434B5C;\n",
              "      --hover-fill-color: #FFFFFF;\n",
              "      --disabled-bg-color: #3B4455;\n",
              "      --disabled-fill-color: #666;\n",
              "  }\n",
              "\n",
              "  .colab-df-quickchart {\n",
              "    background-color: var(--bg-color);\n",
              "    border: none;\n",
              "    border-radius: 50%;\n",
              "    cursor: pointer;\n",
              "    display: none;\n",
              "    fill: var(--fill-color);\n",
              "    height: 32px;\n",
              "    padding: 0;\n",
              "    width: 32px;\n",
              "  }\n",
              "\n",
              "  .colab-df-quickchart:hover {\n",
              "    background-color: var(--hover-bg-color);\n",
              "    box-shadow: 0 1px 2px rgba(60, 64, 67, 0.3), 0 1px 3px 1px rgba(60, 64, 67, 0.15);\n",
              "    fill: var(--button-hover-fill-color);\n",
              "  }\n",
              "\n",
              "  .colab-df-quickchart-complete:disabled,\n",
              "  .colab-df-quickchart-complete:disabled:hover {\n",
              "    background-color: var(--disabled-bg-color);\n",
              "    fill: var(--disabled-fill-color);\n",
              "    box-shadow: none;\n",
              "  }\n",
              "\n",
              "  .colab-df-spinner {\n",
              "    border: 2px solid var(--fill-color);\n",
              "    border-color: transparent;\n",
              "    border-bottom-color: var(--fill-color);\n",
              "    animation:\n",
              "      spin 1s steps(1) infinite;\n",
              "  }\n",
              "\n",
              "  @keyframes spin {\n",
              "    0% {\n",
              "      border-color: transparent;\n",
              "      border-bottom-color: var(--fill-color);\n",
              "      border-left-color: var(--fill-color);\n",
              "    }\n",
              "    20% {\n",
              "      border-color: transparent;\n",
              "      border-left-color: var(--fill-color);\n",
              "      border-top-color: var(--fill-color);\n",
              "    }\n",
              "    30% {\n",
              "      border-color: transparent;\n",
              "      border-left-color: var(--fill-color);\n",
              "      border-top-color: var(--fill-color);\n",
              "      border-right-color: var(--fill-color);\n",
              "    }\n",
              "    40% {\n",
              "      border-color: transparent;\n",
              "      border-right-color: var(--fill-color);\n",
              "      border-top-color: var(--fill-color);\n",
              "    }\n",
              "    60% {\n",
              "      border-color: transparent;\n",
              "      border-right-color: var(--fill-color);\n",
              "    }\n",
              "    80% {\n",
              "      border-color: transparent;\n",
              "      border-right-color: var(--fill-color);\n",
              "      border-bottom-color: var(--fill-color);\n",
              "    }\n",
              "    90% {\n",
              "      border-color: transparent;\n",
              "      border-bottom-color: var(--fill-color);\n",
              "    }\n",
              "  }\n",
              "</style>\n",
              "\n",
              "  <script>\n",
              "    async function quickchart(key) {\n",
              "      const quickchartButtonEl =\n",
              "        document.querySelector('#' + key + ' button');\n",
              "      quickchartButtonEl.disabled = true;  // To prevent multiple clicks.\n",
              "      quickchartButtonEl.classList.add('colab-df-spinner');\n",
              "      try {\n",
              "        const charts = await google.colab.kernel.invokeFunction(\n",
              "            'suggestCharts', [key], {});\n",
              "      } catch (error) {\n",
              "        console.error('Error during call to suggestCharts:', error);\n",
              "      }\n",
              "      quickchartButtonEl.classList.remove('colab-df-spinner');\n",
              "      quickchartButtonEl.classList.add('colab-df-quickchart-complete');\n",
              "    }\n",
              "    (() => {\n",
              "      let quickchartButtonEl =\n",
              "        document.querySelector('#df-139e6601-db29-4a0b-baad-b7073bf85cf9 button');\n",
              "      quickchartButtonEl.style.display =\n",
              "        google.colab.kernel.accessAllowed ? 'block' : 'none';\n",
              "    })();\n",
              "  </script>\n",
              "</div>\n",
              "\n",
              "    </div>\n",
              "  </div>\n"
            ],
            "text/plain": [
              "   Unnamed: 0 gender     name     glove distilbert\n",
              "0           1      F   Aadhya   1.31175   1.334584\n",
              "1           2      F    Aadya  1.278464   0.524386\n",
              "2           3      F   Aahana  1.526925   1.063332\n",
              "3           4      F  Aalayah  0.914015   0.871975\n",
              "4           5      F  Aaleyah  1.229485   0.648049"
            ]
          },
          "execution_count": 61,
          "metadata": {},
          "output_type": "execute_result"
        }
      ],
      "source": [
        "sentiment_df.head()"
      ]
    },
    {
      "cell_type": "code",
      "execution_count": 62,
      "metadata": {
        "id": "CJPG5mgiPGH1"
      },
      "outputs": [],
      "source": [
        "sentiment_df.to_csv('names_sentiment_glove_distilbert.csv', index=False)"
      ]
    },
    {
      "cell_type": "markdown",
      "metadata": {
        "id": "LGehpfv7ywO5"
      },
      "source": [
        "## Analysis"
      ]
    },
    {
      "cell_type": "markdown",
      "metadata": {
        "id": "v2RajD7RywO5"
      },
      "source": [
        "The following analysis will look at each of the research questions, using two different sentiment classifications, one from GloVe and one from Distilbert, and two datasets.  One dataset is the full dataset with all the names for all generations are included, while the second dataset excludes  names, except in the generation in which that name was most popular.\n",
        "\n",
        "Before the analysis, a few words about the limitations of this analysis: First not all names could be included in the sentiment analysis, so we set a cut point at around 85% of all names, but this varied slightly per generation. Overall, each generation and gender had at least 80% of the population's names included. Basically, these estimates are biased by some unknown amount.\n",
        "\n",
        "![title](https://github.com/cameronervin/NN-Projects/blob/main/lab2/graphs/Percent%20Names%20Included.png?raw=true)\n",
        "\n",
        "\n",
        "More importantly, the linear regression models severely lacked explanatory power, with the adjusted R-squared never rising above 1%, meaning these regression models never explain much more than 1% of the variation of the sentiments of the names.  This basically means that gender and generation do not explain much about how names are perceived, according to these various models.\n",
        "\n",
        "Also, in order to compare GloVe and Bert findings, the sentiment results were converted to z-scores.\n",
        "\n",
        "### Results for Research Question 1: \n",
        "#### To what extent does the Bert Sentiment analysis show a gender bias in comparison with GloVe?\n",
        "\n",
        "According to a Welch's Two Sample t-test on the full dataset, GloVe sentiment analysis showed no statistically significant difference by gender between female and male names (p = .242), and the exclusive dataset showed the same (p = 0.9661).\n",
        "\n",
        "However, according to a Welch's Two Sample t-test, the Bert sentiment analysis showed a statistically significant difference (p = 2.2e-16) in gender between female (&mu; = 0.0535) and male names (&mu; = -0.1437). The exclusive dataset showed similar results, In other words, female names had a very slighly positive average effect on sentiment, but male names had a slightly negative average effect on sentiment. Removing extreme outliers did slightly diminish the difference, but did not fundamentally change the magnitude, and neither did different regression weighting schemes.  Male names had a slightly negative bias compared to female names in the Bert Sentiment analysis.\n",
        "\n",
        "### Results for Research Question 2:\n",
        "#### To what extent does Bert Sentiment Analysis show a bias towards certain generations in comparison with GloVe?\n",
        "\n",
        "Since the sentiments for the names were the same, simple anovas or linear regressions with factors on the full dataset would not produce significant differences.  However, even when including the an interaction variable for proportion, whereby the sentiment of a name is multiplied by the proportion of that name in that generation did not show significant differences between generations for either Bert or GloVe results.\n",
        "\n",
        "However, the exclusive dataset, which only included names in the generation when that name was most popular led to different results:\n",
        "\n",
        "![title](https://github.com/cameronervin/NN-Projects/blob/main/lab2/graphs/Both%20Sentiments%20across%20generations.png?raw=true)\n",
        "\n",
        "For GloVe, there were no statistically significant results in the ANOVA, Tukey's Honestly Significant Difference Test of the ANOVA, or the linear regression by factors.\n",
        "\n",
        "According to the Tukey's Honest Difference test of the ANOVA, Boomers had a statistically significantly different mean from all the generations that followed:  Boomer to Generation X (diff = 0.2767, p = .04251), Boomer to Millenial (diff = 0.3076, p = .00617), Boomer to Zoomer (diff = 0.3342, p = .00044), Boomer to Alpha (diff = 0.3036, p = .00155), and in all cases the Boomer generation had lower means than the following generations.\n",
        "\n",
        "By running a linear regression analysis on the exclusive dataset with generation as a factor variable with NO intercept in the regression model (since these Bert sentiments are standardized, the overall mean is zero, and this results in generations with statistically significant deviations from the grand mean). The Lost generation differed from the grand mean (&beta; = -.1312, p = .0245), as did the Boomers (&beta; = -.2884, p = .0000787).\n",
        "\n",
        "According to Bert sentiment analysis of the exclusive dataset, Boomers names had statistically significant lower appeals.\n",
        "\n",
        "\n",
        "### Results for Research Question 3:\n",
        "#### To what extent does gender moderate the differences accross generations?\n",
        "\n",
        "As before, the GloVe sentiment analysis found no statistically significant differences across names and generations and genders, even with the exclusive dataset.\n",
        "\n",
        "![title](https://github.com/cameronervin/NN-Projects/blob/main/lab2/graphs/Glove%20Sentiment%20z%20scores%20by%20Generation%20and%20Gender%20-%20names%20only%20in%20most%20popular%20generation%202.png?raw=true)\n",
        "\n",
        "\n",
        "But again, the Bert sentiment analysis found statistically significant differences across names and generations and genders, with the exclusive dataset.\n",
        "\n",
        "![title](https://github.com/cameronervin/NN-Projects/blob/main/lab2/graphs/Bert%20Sentiments%20z%20scores%20by%20Generation%20and%20Gender%20-%20names%20only%20in%20most%20popular%20generation%202.png?raw=true)\n",
        "\n",
        "The regression analysis (using a different methodology) gave broadly similar but slightly different results:\n",
        "\n",
        "  Generation Greatest was significantly different from the mean (&beta; = 0.2348, p = 0.0103). Generation Boomer was significantly different from the grand mean (&beta; = -0.233, p = .00693), Generation Zoomer was significantly different from the grand mean (&beta; = 0.0705, p = .016), and Generation Alpha was different from the grand mean (&beta; = 0.0627, p = .00692).  In line with the findings to RQ1, male names had a overall difference from female names (&beta; = -0.1688, p = 0.000116). But only male names in a Generation Greatest had a significant difference from the female names (&beta; = -0.3647, p = 0.0117), along with the overall decrease in sentiment for male names.  All this suggests that the names of males in the Greatest Generation are associated with a negative sentiment, while female names in the Greatest Generation have a positive sentiment, while both male and female names in the Boomer generation are associated with a negative sentiment."
      ]
    },
    {
      "cell_type": "markdown",
      "metadata": {
        "id": "JA4nBoakywO5"
      },
      "source": [
        "## Conclusion"
      ]
    },
    {
      "cell_type": "markdown",
      "metadata": {
        "id": "OOkpxleQywO5"
      },
      "source": [
        "The results from this dataset found contrary results to previous studies of gender bias in Machine Learning Algorithms. We suggest several possibilities:\n",
        "1) This could be an artifact of training the sentiment data on a Movie Database, since movie villans are more likely to be male, which then biases sentiments.\n",
        "2) Most previous studies looked at structural words (Queen vs. King), as opposed to names (Elizabeth vs. Edward), so this study of sentiment of names isn't capturing the structural aspects of gender and power, but only the personal aspects which happen to be more positive for women.  Individual women might have positive sentiments, while women and female coded titles and jobs might have negative sentiments.\n",
        "3) Since this was only in Bert sentiments, perhaps Bert is overcompensating against sexism, and now has a negative sentiment towards male names.  \n",
        "\n",
        "The generational results of Bert sentiment analysis of names perhaps provides a new window into the feelings between generations: Boomer names (male and female) generally have a negative sentiment, while Greatest Generation male names have a similar negative sentiment, yet Greatest Generation female names have a positive sentiment.  "
      ]
    },
    {
      "cell_type": "markdown",
      "metadata": {
        "id": "0GKgz3A6ywO5"
      },
      "source": [
        "##### References:\n",
        "- [Social Security Administration Bias Evaluation Dataset](https://www.ssa.gov/oact/babynames/limits.html)\n",
        "- [Generation Divide Wikipedia](https://en.wikipedia.org/wiki/Generation)\n",
        "- [Kaggle IMDB Model Training Dataset](https://www.kaggle.com/datasets/lakshmi25npathi/imdb-dataset-of-50k-movie-reviews)\n",
        "- [GloVe Web Page](https://nlp.stanford.edu/projects/glove/)\n",
        "- [Hugging Face BERT](https://huggingface.co/docs/transformers/model_doc/bert)\n",
        "- [Hugging Face DistilBERT](https://huggingface.co/docs/transformers/model_doc/distilbert#transformers.TFDistilBertForSequenceClassification)\n",
        "- [GloVe Wikipedia](https://en.wikipedia.org/wiki/GloVe)\n",
        "- [BERT Wikipedia](https://en.wikipedia.org/wiki/BERT_(language_model))\n",
        "- [Data Cleaning Notebook](https://www.kaggle.com/code/madz2000/sentiment-analysis-cleaning-eda-bert-88-acc)\n",
        "- [Example Notebook](https://www.kaggle.com/code/banddaniel/news-analysis-w-tensorflow-distilbert)\n",
        "- [Lecture Notebook](https://github.com/8000net/LectureNotesMaster/blob/master/01%20ConceptNet.ipynb)\n",
        "- ChatGPT4"
      ]
    }
  ],
  "metadata": {
    "accelerator": "GPU",
    "colab": {
      "gpuType": "A100",
      "machine_shape": "hm",
      "provenance": []
    },
    "kernelspec": {
      "display_name": "Python 3",
      "name": "python3"
    },
    "language_info": {
      "codemirror_mode": {
        "name": "ipython",
        "version": 3
      },
      "file_extension": ".py",
      "mimetype": "text/x-python",
      "name": "python",
      "nbconvert_exporter": "python",
      "pygments_lexer": "ipython3",
      "version": "3.8.18"
    },
    "widgets": {
      "application/vnd.jupyter.widget-state+json": {
        "001c36689072448e8c6215cefe9e0007": {
          "model_module": "@jupyter-widgets/base",
          "model_module_version": "1.2.0",
          "model_name": "LayoutModel",
          "state": {
            "_model_module": "@jupyter-widgets/base",
            "_model_module_version": "1.2.0",
            "_model_name": "LayoutModel",
            "_view_count": null,
            "_view_module": "@jupyter-widgets/base",
            "_view_module_version": "1.2.0",
            "_view_name": "LayoutView",
            "align_content": null,
            "align_items": null,
            "align_self": null,
            "border": null,
            "bottom": null,
            "display": null,
            "flex": null,
            "flex_flow": null,
            "grid_area": null,
            "grid_auto_columns": null,
            "grid_auto_flow": null,
            "grid_auto_rows": null,
            "grid_column": null,
            "grid_gap": null,
            "grid_row": null,
            "grid_template_areas": null,
            "grid_template_columns": null,
            "grid_template_rows": null,
            "height": null,
            "justify_content": null,
            "justify_items": null,
            "left": null,
            "margin": null,
            "max_height": null,
            "max_width": null,
            "min_height": null,
            "min_width": null,
            "object_fit": null,
            "object_position": null,
            "order": null,
            "overflow": null,
            "overflow_x": null,
            "overflow_y": null,
            "padding": null,
            "right": null,
            "top": null,
            "visibility": null,
            "width": null
          }
        },
        "0e73c019a54c44fb8ef4dd42a8d16243": {
          "model_module": "@jupyter-widgets/base",
          "model_module_version": "1.2.0",
          "model_name": "LayoutModel",
          "state": {
            "_model_module": "@jupyter-widgets/base",
            "_model_module_version": "1.2.0",
            "_model_name": "LayoutModel",
            "_view_count": null,
            "_view_module": "@jupyter-widgets/base",
            "_view_module_version": "1.2.0",
            "_view_name": "LayoutView",
            "align_content": null,
            "align_items": null,
            "align_self": null,
            "border": null,
            "bottom": null,
            "display": null,
            "flex": null,
            "flex_flow": null,
            "grid_area": null,
            "grid_auto_columns": null,
            "grid_auto_flow": null,
            "grid_auto_rows": null,
            "grid_column": null,
            "grid_gap": null,
            "grid_row": null,
            "grid_template_areas": null,
            "grid_template_columns": null,
            "grid_template_rows": null,
            "height": null,
            "justify_content": null,
            "justify_items": null,
            "left": null,
            "margin": null,
            "max_height": null,
            "max_width": null,
            "min_height": null,
            "min_width": null,
            "object_fit": null,
            "object_position": null,
            "order": null,
            "overflow": null,
            "overflow_x": null,
            "overflow_y": null,
            "padding": null,
            "right": null,
            "top": null,
            "visibility": null,
            "width": null
          }
        },
        "19f97150a4a942bd90522e46ca2b74c7": {
          "model_module": "@jupyter-widgets/base",
          "model_module_version": "1.2.0",
          "model_name": "LayoutModel",
          "state": {
            "_model_module": "@jupyter-widgets/base",
            "_model_module_version": "1.2.0",
            "_model_name": "LayoutModel",
            "_view_count": null,
            "_view_module": "@jupyter-widgets/base",
            "_view_module_version": "1.2.0",
            "_view_name": "LayoutView",
            "align_content": null,
            "align_items": null,
            "align_self": null,
            "border": null,
            "bottom": null,
            "display": null,
            "flex": null,
            "flex_flow": null,
            "grid_area": null,
            "grid_auto_columns": null,
            "grid_auto_flow": null,
            "grid_auto_rows": null,
            "grid_column": null,
            "grid_gap": null,
            "grid_row": null,
            "grid_template_areas": null,
            "grid_template_columns": null,
            "grid_template_rows": null,
            "height": null,
            "justify_content": null,
            "justify_items": null,
            "left": null,
            "margin": null,
            "max_height": null,
            "max_width": null,
            "min_height": null,
            "min_width": null,
            "object_fit": null,
            "object_position": null,
            "order": null,
            "overflow": null,
            "overflow_x": null,
            "overflow_y": null,
            "padding": null,
            "right": null,
            "top": null,
            "visibility": null,
            "width": null
          }
        },
        "1af5c145b99f42e595d5c1c8dfc345b4": {
          "model_module": "@jupyter-widgets/controls",
          "model_module_version": "1.5.0",
          "model_name": "DescriptionStyleModel",
          "state": {
            "_model_module": "@jupyter-widgets/controls",
            "_model_module_version": "1.5.0",
            "_model_name": "DescriptionStyleModel",
            "_view_count": null,
            "_view_module": "@jupyter-widgets/base",
            "_view_module_version": "1.2.0",
            "_view_name": "StyleView",
            "description_width": ""
          }
        },
        "1c0d696be7394fd3bd01e3288db414c7": {
          "model_module": "@jupyter-widgets/base",
          "model_module_version": "1.2.0",
          "model_name": "LayoutModel",
          "state": {
            "_model_module": "@jupyter-widgets/base",
            "_model_module_version": "1.2.0",
            "_model_name": "LayoutModel",
            "_view_count": null,
            "_view_module": "@jupyter-widgets/base",
            "_view_module_version": "1.2.0",
            "_view_name": "LayoutView",
            "align_content": null,
            "align_items": null,
            "align_self": null,
            "border": null,
            "bottom": null,
            "display": null,
            "flex": null,
            "flex_flow": null,
            "grid_area": null,
            "grid_auto_columns": null,
            "grid_auto_flow": null,
            "grid_auto_rows": null,
            "grid_column": null,
            "grid_gap": null,
            "grid_row": null,
            "grid_template_areas": null,
            "grid_template_columns": null,
            "grid_template_rows": null,
            "height": null,
            "justify_content": null,
            "justify_items": null,
            "left": null,
            "margin": null,
            "max_height": null,
            "max_width": null,
            "min_height": null,
            "min_width": null,
            "object_fit": null,
            "object_position": null,
            "order": null,
            "overflow": null,
            "overflow_x": null,
            "overflow_y": null,
            "padding": null,
            "right": null,
            "top": null,
            "visibility": null,
            "width": null
          }
        },
        "24e7cccf90e34b2aab935d88be3e1bd7": {
          "model_module": "@jupyter-widgets/controls",
          "model_module_version": "1.5.0",
          "model_name": "HBoxModel",
          "state": {
            "_dom_classes": [],
            "_model_module": "@jupyter-widgets/controls",
            "_model_module_version": "1.5.0",
            "_model_name": "HBoxModel",
            "_view_count": null,
            "_view_module": "@jupyter-widgets/controls",
            "_view_module_version": "1.5.0",
            "_view_name": "HBoxView",
            "box_style": "",
            "children": [
              "IPY_MODEL_542a11cd733e4668827c91f74b1bd1a6",
              "IPY_MODEL_788dec4e6833498da5262f3ff70b6c71",
              "IPY_MODEL_7c6f58d8bf514fe1923920117a532292"
            ],
            "layout": "IPY_MODEL_dede43dd4d4f469580c1d980287df59b"
          }
        },
        "2af7bd9ef16b4c9e88811f20acfea273": {
          "model_module": "@jupyter-widgets/controls",
          "model_module_version": "1.5.0",
          "model_name": "HBoxModel",
          "state": {
            "_dom_classes": [],
            "_model_module": "@jupyter-widgets/controls",
            "_model_module_version": "1.5.0",
            "_model_name": "HBoxModel",
            "_view_count": null,
            "_view_module": "@jupyter-widgets/controls",
            "_view_module_version": "1.5.0",
            "_view_name": "HBoxView",
            "box_style": "",
            "children": [
              "IPY_MODEL_d457fba654254f99a6907603667c0023",
              "IPY_MODEL_bcaf82a816b349e69e119c8a288dc60a",
              "IPY_MODEL_f2aa64dd989145babbec01c8ee92e882"
            ],
            "layout": "IPY_MODEL_f4cdfc22e5414cc78a625800a28f2df3"
          }
        },
        "2edcf589c2244c6a9c14f69eb7dfdaaa": {
          "model_module": "@jupyter-widgets/controls",
          "model_module_version": "1.5.0",
          "model_name": "HBoxModel",
          "state": {
            "_dom_classes": [],
            "_model_module": "@jupyter-widgets/controls",
            "_model_module_version": "1.5.0",
            "_model_name": "HBoxModel",
            "_view_count": null,
            "_view_module": "@jupyter-widgets/controls",
            "_view_module_version": "1.5.0",
            "_view_name": "HBoxView",
            "box_style": "",
            "children": [
              "IPY_MODEL_ed65fb0564a64f35b4843645959c71a2",
              "IPY_MODEL_c40b1a33699248a990aff596aa9b3737",
              "IPY_MODEL_4b1d1ccc93d84447ab28d46508fec2e5"
            ],
            "layout": "IPY_MODEL_75777917f02a4f529aff9a6de2b042c3"
          }
        },
        "2fd98a7999634b9eacd3bf893c8de200": {
          "model_module": "@jupyter-widgets/controls",
          "model_module_version": "1.5.0",
          "model_name": "ProgressStyleModel",
          "state": {
            "_model_module": "@jupyter-widgets/controls",
            "_model_module_version": "1.5.0",
            "_model_name": "ProgressStyleModel",
            "_view_count": null,
            "_view_module": "@jupyter-widgets/base",
            "_view_module_version": "1.2.0",
            "_view_name": "StyleView",
            "bar_color": null,
            "description_width": ""
          }
        },
        "3c4b8b23627345e2b47c682e57b11c90": {
          "model_module": "@jupyter-widgets/base",
          "model_module_version": "1.2.0",
          "model_name": "LayoutModel",
          "state": {
            "_model_module": "@jupyter-widgets/base",
            "_model_module_version": "1.2.0",
            "_model_name": "LayoutModel",
            "_view_count": null,
            "_view_module": "@jupyter-widgets/base",
            "_view_module_version": "1.2.0",
            "_view_name": "LayoutView",
            "align_content": null,
            "align_items": null,
            "align_self": null,
            "border": null,
            "bottom": null,
            "display": null,
            "flex": null,
            "flex_flow": null,
            "grid_area": null,
            "grid_auto_columns": null,
            "grid_auto_flow": null,
            "grid_auto_rows": null,
            "grid_column": null,
            "grid_gap": null,
            "grid_row": null,
            "grid_template_areas": null,
            "grid_template_columns": null,
            "grid_template_rows": null,
            "height": null,
            "justify_content": null,
            "justify_items": null,
            "left": null,
            "margin": null,
            "max_height": null,
            "max_width": null,
            "min_height": null,
            "min_width": null,
            "object_fit": null,
            "object_position": null,
            "order": null,
            "overflow": null,
            "overflow_x": null,
            "overflow_y": null,
            "padding": null,
            "right": null,
            "top": null,
            "visibility": null,
            "width": null
          }
        },
        "3ddaea8152db4ac28bb807f527971ea0": {
          "model_module": "@jupyter-widgets/controls",
          "model_module_version": "1.5.0",
          "model_name": "HBoxModel",
          "state": {
            "_dom_classes": [],
            "_model_module": "@jupyter-widgets/controls",
            "_model_module_version": "1.5.0",
            "_model_name": "HBoxModel",
            "_view_count": null,
            "_view_module": "@jupyter-widgets/controls",
            "_view_module_version": "1.5.0",
            "_view_name": "HBoxView",
            "box_style": "",
            "children": [
              "IPY_MODEL_a7553f7950f44ccf8eea4eccf5d0e16b",
              "IPY_MODEL_af75c797945b4598b810eb0b1fbbe0f8",
              "IPY_MODEL_8941158e3a904379a6691f9b5f01e3d6"
            ],
            "layout": "IPY_MODEL_0e73c019a54c44fb8ef4dd42a8d16243"
          }
        },
        "3f25186b1c624a49a1c370292b339e57": {
          "model_module": "@jupyter-widgets/controls",
          "model_module_version": "1.5.0",
          "model_name": "ProgressStyleModel",
          "state": {
            "_model_module": "@jupyter-widgets/controls",
            "_model_module_version": "1.5.0",
            "_model_name": "ProgressStyleModel",
            "_view_count": null,
            "_view_module": "@jupyter-widgets/base",
            "_view_module_version": "1.2.0",
            "_view_name": "StyleView",
            "bar_color": null,
            "description_width": ""
          }
        },
        "474754c729fe45baba15e8e0a725aff1": {
          "model_module": "@jupyter-widgets/base",
          "model_module_version": "1.2.0",
          "model_name": "LayoutModel",
          "state": {
            "_model_module": "@jupyter-widgets/base",
            "_model_module_version": "1.2.0",
            "_model_name": "LayoutModel",
            "_view_count": null,
            "_view_module": "@jupyter-widgets/base",
            "_view_module_version": "1.2.0",
            "_view_name": "LayoutView",
            "align_content": null,
            "align_items": null,
            "align_self": null,
            "border": null,
            "bottom": null,
            "display": null,
            "flex": null,
            "flex_flow": null,
            "grid_area": null,
            "grid_auto_columns": null,
            "grid_auto_flow": null,
            "grid_auto_rows": null,
            "grid_column": null,
            "grid_gap": null,
            "grid_row": null,
            "grid_template_areas": null,
            "grid_template_columns": null,
            "grid_template_rows": null,
            "height": null,
            "justify_content": null,
            "justify_items": null,
            "left": null,
            "margin": null,
            "max_height": null,
            "max_width": null,
            "min_height": null,
            "min_width": null,
            "object_fit": null,
            "object_position": null,
            "order": null,
            "overflow": null,
            "overflow_x": null,
            "overflow_y": null,
            "padding": null,
            "right": null,
            "top": null,
            "visibility": null,
            "width": null
          }
        },
        "488b896cdf194a60a392b691584a25be": {
          "model_module": "@jupyter-widgets/controls",
          "model_module_version": "1.5.0",
          "model_name": "DescriptionStyleModel",
          "state": {
            "_model_module": "@jupyter-widgets/controls",
            "_model_module_version": "1.5.0",
            "_model_name": "DescriptionStyleModel",
            "_view_count": null,
            "_view_module": "@jupyter-widgets/base",
            "_view_module_version": "1.2.0",
            "_view_name": "StyleView",
            "description_width": ""
          }
        },
        "4b1d1ccc93d84447ab28d46508fec2e5": {
          "model_module": "@jupyter-widgets/controls",
          "model_module_version": "1.5.0",
          "model_name": "HTMLModel",
          "state": {
            "_dom_classes": [],
            "_model_module": "@jupyter-widgets/controls",
            "_model_module_version": "1.5.0",
            "_model_name": "HTMLModel",
            "_view_count": null,
            "_view_module": "@jupyter-widgets/controls",
            "_view_module_version": "1.5.0",
            "_view_name": "HTMLView",
            "description": "",
            "description_tooltip": null,
            "layout": "IPY_MODEL_9fb9eea5fce24926a706108aed85d47d",
            "placeholder": "​",
            "style": "IPY_MODEL_c11586ceef764cfbac0a0138c3eeee53",
            "value": " 483/483 [00:00&lt;00:00, 44.5kB/s]"
          }
        },
        "53c15817bb03446eb7fb026a499393b1": {
          "model_module": "@jupyter-widgets/controls",
          "model_module_version": "1.5.0",
          "model_name": "ProgressStyleModel",
          "state": {
            "_model_module": "@jupyter-widgets/controls",
            "_model_module_version": "1.5.0",
            "_model_name": "ProgressStyleModel",
            "_view_count": null,
            "_view_module": "@jupyter-widgets/base",
            "_view_module_version": "1.2.0",
            "_view_name": "StyleView",
            "bar_color": null,
            "description_width": ""
          }
        },
        "542a11cd733e4668827c91f74b1bd1a6": {
          "model_module": "@jupyter-widgets/controls",
          "model_module_version": "1.5.0",
          "model_name": "HTMLModel",
          "state": {
            "_dom_classes": [],
            "_model_module": "@jupyter-widgets/controls",
            "_model_module_version": "1.5.0",
            "_model_name": "HTMLModel",
            "_view_count": null,
            "_view_module": "@jupyter-widgets/controls",
            "_view_module_version": "1.5.0",
            "_view_name": "HTMLView",
            "description": "",
            "description_tooltip": null,
            "layout": "IPY_MODEL_f2760ca021804631931b1031c024398a",
            "placeholder": "​",
            "style": "IPY_MODEL_e1473b19112d4e14a2c185d8beed0296",
            "value": "tokenizer_config.json: 100%"
          }
        },
        "61fc5aff82bd4d1db0c33b749a6087f6": {
          "model_module": "@jupyter-widgets/controls",
          "model_module_version": "1.5.0",
          "model_name": "ProgressStyleModel",
          "state": {
            "_model_module": "@jupyter-widgets/controls",
            "_model_module_version": "1.5.0",
            "_model_name": "ProgressStyleModel",
            "_view_count": null,
            "_view_module": "@jupyter-widgets/base",
            "_view_module_version": "1.2.0",
            "_view_name": "StyleView",
            "bar_color": null,
            "description_width": ""
          }
        },
        "666fa590787141f88e976644f84b051f": {
          "model_module": "@jupyter-widgets/base",
          "model_module_version": "1.2.0",
          "model_name": "LayoutModel",
          "state": {
            "_model_module": "@jupyter-widgets/base",
            "_model_module_version": "1.2.0",
            "_model_name": "LayoutModel",
            "_view_count": null,
            "_view_module": "@jupyter-widgets/base",
            "_view_module_version": "1.2.0",
            "_view_name": "LayoutView",
            "align_content": null,
            "align_items": null,
            "align_self": null,
            "border": null,
            "bottom": null,
            "display": null,
            "flex": null,
            "flex_flow": null,
            "grid_area": null,
            "grid_auto_columns": null,
            "grid_auto_flow": null,
            "grid_auto_rows": null,
            "grid_column": null,
            "grid_gap": null,
            "grid_row": null,
            "grid_template_areas": null,
            "grid_template_columns": null,
            "grid_template_rows": null,
            "height": null,
            "justify_content": null,
            "justify_items": null,
            "left": null,
            "margin": null,
            "max_height": null,
            "max_width": null,
            "min_height": null,
            "min_width": null,
            "object_fit": null,
            "object_position": null,
            "order": null,
            "overflow": null,
            "overflow_x": null,
            "overflow_y": null,
            "padding": null,
            "right": null,
            "top": null,
            "visibility": null,
            "width": null
          }
        },
        "75777917f02a4f529aff9a6de2b042c3": {
          "model_module": "@jupyter-widgets/base",
          "model_module_version": "1.2.0",
          "model_name": "LayoutModel",
          "state": {
            "_model_module": "@jupyter-widgets/base",
            "_model_module_version": "1.2.0",
            "_model_name": "LayoutModel",
            "_view_count": null,
            "_view_module": "@jupyter-widgets/base",
            "_view_module_version": "1.2.0",
            "_view_name": "LayoutView",
            "align_content": null,
            "align_items": null,
            "align_self": null,
            "border": null,
            "bottom": null,
            "display": null,
            "flex": null,
            "flex_flow": null,
            "grid_area": null,
            "grid_auto_columns": null,
            "grid_auto_flow": null,
            "grid_auto_rows": null,
            "grid_column": null,
            "grid_gap": null,
            "grid_row": null,
            "grid_template_areas": null,
            "grid_template_columns": null,
            "grid_template_rows": null,
            "height": null,
            "justify_content": null,
            "justify_items": null,
            "left": null,
            "margin": null,
            "max_height": null,
            "max_width": null,
            "min_height": null,
            "min_width": null,
            "object_fit": null,
            "object_position": null,
            "order": null,
            "overflow": null,
            "overflow_x": null,
            "overflow_y": null,
            "padding": null,
            "right": null,
            "top": null,
            "visibility": null,
            "width": null
          }
        },
        "788dec4e6833498da5262f3ff70b6c71": {
          "model_module": "@jupyter-widgets/controls",
          "model_module_version": "1.5.0",
          "model_name": "FloatProgressModel",
          "state": {
            "_dom_classes": [],
            "_model_module": "@jupyter-widgets/controls",
            "_model_module_version": "1.5.0",
            "_model_name": "FloatProgressModel",
            "_view_count": null,
            "_view_module": "@jupyter-widgets/controls",
            "_view_module_version": "1.5.0",
            "_view_name": "ProgressView",
            "bar_style": "success",
            "description": "",
            "description_tooltip": null,
            "layout": "IPY_MODEL_9194a62b6d934ab38f5708eb01be3cca",
            "max": 28,
            "min": 0,
            "orientation": "horizontal",
            "style": "IPY_MODEL_fb6f7ae2f2704b8786c792f377542c00",
            "value": 28
          }
        },
        "79511377f5434b2c96c219984265334d": {
          "model_module": "@jupyter-widgets/controls",
          "model_module_version": "1.5.0",
          "model_name": "HBoxModel",
          "state": {
            "_dom_classes": [],
            "_model_module": "@jupyter-widgets/controls",
            "_model_module_version": "1.5.0",
            "_model_name": "HBoxModel",
            "_view_count": null,
            "_view_module": "@jupyter-widgets/controls",
            "_view_module_version": "1.5.0",
            "_view_name": "HBoxView",
            "box_style": "",
            "children": [
              "IPY_MODEL_de0bed6d4b5946569c3a3410ba26cc06",
              "IPY_MODEL_7e52cba4cb4940918fea6b967756255f",
              "IPY_MODEL_d92ea58b742249b9b2538e04b098e7cd"
            ],
            "layout": "IPY_MODEL_896c85e5cea54194bcb6eb8a55e30a7e"
          }
        },
        "7c0012da429b4b77848e50d66ea4f5c5": {
          "model_module": "@jupyter-widgets/base",
          "model_module_version": "1.2.0",
          "model_name": "LayoutModel",
          "state": {
            "_model_module": "@jupyter-widgets/base",
            "_model_module_version": "1.2.0",
            "_model_name": "LayoutModel",
            "_view_count": null,
            "_view_module": "@jupyter-widgets/base",
            "_view_module_version": "1.2.0",
            "_view_name": "LayoutView",
            "align_content": null,
            "align_items": null,
            "align_self": null,
            "border": null,
            "bottom": null,
            "display": null,
            "flex": null,
            "flex_flow": null,
            "grid_area": null,
            "grid_auto_columns": null,
            "grid_auto_flow": null,
            "grid_auto_rows": null,
            "grid_column": null,
            "grid_gap": null,
            "grid_row": null,
            "grid_template_areas": null,
            "grid_template_columns": null,
            "grid_template_rows": null,
            "height": null,
            "justify_content": null,
            "justify_items": null,
            "left": null,
            "margin": null,
            "max_height": null,
            "max_width": null,
            "min_height": null,
            "min_width": null,
            "object_fit": null,
            "object_position": null,
            "order": null,
            "overflow": null,
            "overflow_x": null,
            "overflow_y": null,
            "padding": null,
            "right": null,
            "top": null,
            "visibility": null,
            "width": null
          }
        },
        "7c6f58d8bf514fe1923920117a532292": {
          "model_module": "@jupyter-widgets/controls",
          "model_module_version": "1.5.0",
          "model_name": "HTMLModel",
          "state": {
            "_dom_classes": [],
            "_model_module": "@jupyter-widgets/controls",
            "_model_module_version": "1.5.0",
            "_model_name": "HTMLModel",
            "_view_count": null,
            "_view_module": "@jupyter-widgets/controls",
            "_view_module_version": "1.5.0",
            "_view_name": "HTMLView",
            "description": "",
            "description_tooltip": null,
            "layout": "IPY_MODEL_b9e114b264a54bd0a25813dc13a2237f",
            "placeholder": "​",
            "style": "IPY_MODEL_9e2fed7ec8054ce2bdde01686f318360",
            "value": " 28.0/28.0 [00:00&lt;00:00, 2.34kB/s]"
          }
        },
        "7c84b3a8b17c47809627aeaf0ed82ab8": {
          "model_module": "@jupyter-widgets/base",
          "model_module_version": "1.2.0",
          "model_name": "LayoutModel",
          "state": {
            "_model_module": "@jupyter-widgets/base",
            "_model_module_version": "1.2.0",
            "_model_name": "LayoutModel",
            "_view_count": null,
            "_view_module": "@jupyter-widgets/base",
            "_view_module_version": "1.2.0",
            "_view_name": "LayoutView",
            "align_content": null,
            "align_items": null,
            "align_self": null,
            "border": null,
            "bottom": null,
            "display": null,
            "flex": null,
            "flex_flow": null,
            "grid_area": null,
            "grid_auto_columns": null,
            "grid_auto_flow": null,
            "grid_auto_rows": null,
            "grid_column": null,
            "grid_gap": null,
            "grid_row": null,
            "grid_template_areas": null,
            "grid_template_columns": null,
            "grid_template_rows": null,
            "height": null,
            "justify_content": null,
            "justify_items": null,
            "left": null,
            "margin": null,
            "max_height": null,
            "max_width": null,
            "min_height": null,
            "min_width": null,
            "object_fit": null,
            "object_position": null,
            "order": null,
            "overflow": null,
            "overflow_x": null,
            "overflow_y": null,
            "padding": null,
            "right": null,
            "top": null,
            "visibility": null,
            "width": null
          }
        },
        "7e52cba4cb4940918fea6b967756255f": {
          "model_module": "@jupyter-widgets/controls",
          "model_module_version": "1.5.0",
          "model_name": "FloatProgressModel",
          "state": {
            "_dom_classes": [],
            "_model_module": "@jupyter-widgets/controls",
            "_model_module_version": "1.5.0",
            "_model_name": "FloatProgressModel",
            "_view_count": null,
            "_view_module": "@jupyter-widgets/controls",
            "_view_module_version": "1.5.0",
            "_view_name": "ProgressView",
            "bar_style": "success",
            "description": "",
            "description_tooltip": null,
            "layout": "IPY_MODEL_001c36689072448e8c6215cefe9e0007",
            "max": 267954768,
            "min": 0,
            "orientation": "horizontal",
            "style": "IPY_MODEL_3f25186b1c624a49a1c370292b339e57",
            "value": 267954768
          }
        },
        "85bc69ffb6544680864da9c9043d44a5": {
          "model_module": "@jupyter-widgets/controls",
          "model_module_version": "1.5.0",
          "model_name": "DescriptionStyleModel",
          "state": {
            "_model_module": "@jupyter-widgets/controls",
            "_model_module_version": "1.5.0",
            "_model_name": "DescriptionStyleModel",
            "_view_count": null,
            "_view_module": "@jupyter-widgets/base",
            "_view_module_version": "1.2.0",
            "_view_name": "StyleView",
            "description_width": ""
          }
        },
        "8941158e3a904379a6691f9b5f01e3d6": {
          "model_module": "@jupyter-widgets/controls",
          "model_module_version": "1.5.0",
          "model_name": "HTMLModel",
          "state": {
            "_dom_classes": [],
            "_model_module": "@jupyter-widgets/controls",
            "_model_module_version": "1.5.0",
            "_model_name": "HTMLModel",
            "_view_count": null,
            "_view_module": "@jupyter-widgets/controls",
            "_view_module_version": "1.5.0",
            "_view_name": "HTMLView",
            "description": "",
            "description_tooltip": null,
            "layout": "IPY_MODEL_1c0d696be7394fd3bd01e3288db414c7",
            "placeholder": "​",
            "style": "IPY_MODEL_85bc69ffb6544680864da9c9043d44a5",
            "value": " 466k/466k [00:00&lt;00:00, 1.08MB/s]"
          }
        },
        "896c85e5cea54194bcb6eb8a55e30a7e": {
          "model_module": "@jupyter-widgets/base",
          "model_module_version": "1.2.0",
          "model_name": "LayoutModel",
          "state": {
            "_model_module": "@jupyter-widgets/base",
            "_model_module_version": "1.2.0",
            "_model_name": "LayoutModel",
            "_view_count": null,
            "_view_module": "@jupyter-widgets/base",
            "_view_module_version": "1.2.0",
            "_view_name": "LayoutView",
            "align_content": null,
            "align_items": null,
            "align_self": null,
            "border": null,
            "bottom": null,
            "display": null,
            "flex": null,
            "flex_flow": null,
            "grid_area": null,
            "grid_auto_columns": null,
            "grid_auto_flow": null,
            "grid_auto_rows": null,
            "grid_column": null,
            "grid_gap": null,
            "grid_row": null,
            "grid_template_areas": null,
            "grid_template_columns": null,
            "grid_template_rows": null,
            "height": null,
            "justify_content": null,
            "justify_items": null,
            "left": null,
            "margin": null,
            "max_height": null,
            "max_width": null,
            "min_height": null,
            "min_width": null,
            "object_fit": null,
            "object_position": null,
            "order": null,
            "overflow": null,
            "overflow_x": null,
            "overflow_y": null,
            "padding": null,
            "right": null,
            "top": null,
            "visibility": null,
            "width": null
          }
        },
        "8c69425224234dd2b3579e520b06dca1": {
          "model_module": "@jupyter-widgets/base",
          "model_module_version": "1.2.0",
          "model_name": "LayoutModel",
          "state": {
            "_model_module": "@jupyter-widgets/base",
            "_model_module_version": "1.2.0",
            "_model_name": "LayoutModel",
            "_view_count": null,
            "_view_module": "@jupyter-widgets/base",
            "_view_module_version": "1.2.0",
            "_view_name": "LayoutView",
            "align_content": null,
            "align_items": null,
            "align_self": null,
            "border": null,
            "bottom": null,
            "display": null,
            "flex": null,
            "flex_flow": null,
            "grid_area": null,
            "grid_auto_columns": null,
            "grid_auto_flow": null,
            "grid_auto_rows": null,
            "grid_column": null,
            "grid_gap": null,
            "grid_row": null,
            "grid_template_areas": null,
            "grid_template_columns": null,
            "grid_template_rows": null,
            "height": null,
            "justify_content": null,
            "justify_items": null,
            "left": null,
            "margin": null,
            "max_height": null,
            "max_width": null,
            "min_height": null,
            "min_width": null,
            "object_fit": null,
            "object_position": null,
            "order": null,
            "overflow": null,
            "overflow_x": null,
            "overflow_y": null,
            "padding": null,
            "right": null,
            "top": null,
            "visibility": null,
            "width": null
          }
        },
        "909bfd30e984498992dfe39051a4bf91": {
          "model_module": "@jupyter-widgets/base",
          "model_module_version": "1.2.0",
          "model_name": "LayoutModel",
          "state": {
            "_model_module": "@jupyter-widgets/base",
            "_model_module_version": "1.2.0",
            "_model_name": "LayoutModel",
            "_view_count": null,
            "_view_module": "@jupyter-widgets/base",
            "_view_module_version": "1.2.0",
            "_view_name": "LayoutView",
            "align_content": null,
            "align_items": null,
            "align_self": null,
            "border": null,
            "bottom": null,
            "display": null,
            "flex": null,
            "flex_flow": null,
            "grid_area": null,
            "grid_auto_columns": null,
            "grid_auto_flow": null,
            "grid_auto_rows": null,
            "grid_column": null,
            "grid_gap": null,
            "grid_row": null,
            "grid_template_areas": null,
            "grid_template_columns": null,
            "grid_template_rows": null,
            "height": null,
            "justify_content": null,
            "justify_items": null,
            "left": null,
            "margin": null,
            "max_height": null,
            "max_width": null,
            "min_height": null,
            "min_width": null,
            "object_fit": null,
            "object_position": null,
            "order": null,
            "overflow": null,
            "overflow_x": null,
            "overflow_y": null,
            "padding": null,
            "right": null,
            "top": null,
            "visibility": null,
            "width": null
          }
        },
        "9194a62b6d934ab38f5708eb01be3cca": {
          "model_module": "@jupyter-widgets/base",
          "model_module_version": "1.2.0",
          "model_name": "LayoutModel",
          "state": {
            "_model_module": "@jupyter-widgets/base",
            "_model_module_version": "1.2.0",
            "_model_name": "LayoutModel",
            "_view_count": null,
            "_view_module": "@jupyter-widgets/base",
            "_view_module_version": "1.2.0",
            "_view_name": "LayoutView",
            "align_content": null,
            "align_items": null,
            "align_self": null,
            "border": null,
            "bottom": null,
            "display": null,
            "flex": null,
            "flex_flow": null,
            "grid_area": null,
            "grid_auto_columns": null,
            "grid_auto_flow": null,
            "grid_auto_rows": null,
            "grid_column": null,
            "grid_gap": null,
            "grid_row": null,
            "grid_template_areas": null,
            "grid_template_columns": null,
            "grid_template_rows": null,
            "height": null,
            "justify_content": null,
            "justify_items": null,
            "left": null,
            "margin": null,
            "max_height": null,
            "max_width": null,
            "min_height": null,
            "min_width": null,
            "object_fit": null,
            "object_position": null,
            "order": null,
            "overflow": null,
            "overflow_x": null,
            "overflow_y": null,
            "padding": null,
            "right": null,
            "top": null,
            "visibility": null,
            "width": null
          }
        },
        "992ac01731204d31b7e36dc18ab5c137": {
          "model_module": "@jupyter-widgets/controls",
          "model_module_version": "1.5.0",
          "model_name": "DescriptionStyleModel",
          "state": {
            "_model_module": "@jupyter-widgets/controls",
            "_model_module_version": "1.5.0",
            "_model_name": "DescriptionStyleModel",
            "_view_count": null,
            "_view_module": "@jupyter-widgets/base",
            "_view_module_version": "1.2.0",
            "_view_name": "StyleView",
            "description_width": ""
          }
        },
        "9e2fed7ec8054ce2bdde01686f318360": {
          "model_module": "@jupyter-widgets/controls",
          "model_module_version": "1.5.0",
          "model_name": "DescriptionStyleModel",
          "state": {
            "_model_module": "@jupyter-widgets/controls",
            "_model_module_version": "1.5.0",
            "_model_name": "DescriptionStyleModel",
            "_view_count": null,
            "_view_module": "@jupyter-widgets/base",
            "_view_module_version": "1.2.0",
            "_view_name": "StyleView",
            "description_width": ""
          }
        },
        "9fb9eea5fce24926a706108aed85d47d": {
          "model_module": "@jupyter-widgets/base",
          "model_module_version": "1.2.0",
          "model_name": "LayoutModel",
          "state": {
            "_model_module": "@jupyter-widgets/base",
            "_model_module_version": "1.2.0",
            "_model_name": "LayoutModel",
            "_view_count": null,
            "_view_module": "@jupyter-widgets/base",
            "_view_module_version": "1.2.0",
            "_view_name": "LayoutView",
            "align_content": null,
            "align_items": null,
            "align_self": null,
            "border": null,
            "bottom": null,
            "display": null,
            "flex": null,
            "flex_flow": null,
            "grid_area": null,
            "grid_auto_columns": null,
            "grid_auto_flow": null,
            "grid_auto_rows": null,
            "grid_column": null,
            "grid_gap": null,
            "grid_row": null,
            "grid_template_areas": null,
            "grid_template_columns": null,
            "grid_template_rows": null,
            "height": null,
            "justify_content": null,
            "justify_items": null,
            "left": null,
            "margin": null,
            "max_height": null,
            "max_width": null,
            "min_height": null,
            "min_width": null,
            "object_fit": null,
            "object_position": null,
            "order": null,
            "overflow": null,
            "overflow_x": null,
            "overflow_y": null,
            "padding": null,
            "right": null,
            "top": null,
            "visibility": null,
            "width": null
          }
        },
        "a7553f7950f44ccf8eea4eccf5d0e16b": {
          "model_module": "@jupyter-widgets/controls",
          "model_module_version": "1.5.0",
          "model_name": "HTMLModel",
          "state": {
            "_dom_classes": [],
            "_model_module": "@jupyter-widgets/controls",
            "_model_module_version": "1.5.0",
            "_model_name": "HTMLModel",
            "_view_count": null,
            "_view_module": "@jupyter-widgets/controls",
            "_view_module_version": "1.5.0",
            "_view_name": "HTMLView",
            "description": "",
            "description_tooltip": null,
            "layout": "IPY_MODEL_666fa590787141f88e976644f84b051f",
            "placeholder": "​",
            "style": "IPY_MODEL_992ac01731204d31b7e36dc18ab5c137",
            "value": "tokenizer.json: 100%"
          }
        },
        "af75c797945b4598b810eb0b1fbbe0f8": {
          "model_module": "@jupyter-widgets/controls",
          "model_module_version": "1.5.0",
          "model_name": "FloatProgressModel",
          "state": {
            "_dom_classes": [],
            "_model_module": "@jupyter-widgets/controls",
            "_model_module_version": "1.5.0",
            "_model_name": "FloatProgressModel",
            "_view_count": null,
            "_view_module": "@jupyter-widgets/controls",
            "_view_module_version": "1.5.0",
            "_view_name": "ProgressView",
            "bar_style": "success",
            "description": "",
            "description_tooltip": null,
            "layout": "IPY_MODEL_19f97150a4a942bd90522e46ca2b74c7",
            "max": 466062,
            "min": 0,
            "orientation": "horizontal",
            "style": "IPY_MODEL_53c15817bb03446eb7fb026a499393b1",
            "value": 466062
          }
        },
        "b4363917174f441e9f89e72ab2d1b94b": {
          "model_module": "@jupyter-widgets/controls",
          "model_module_version": "1.5.0",
          "model_name": "DescriptionStyleModel",
          "state": {
            "_model_module": "@jupyter-widgets/controls",
            "_model_module_version": "1.5.0",
            "_model_name": "DescriptionStyleModel",
            "_view_count": null,
            "_view_module": "@jupyter-widgets/base",
            "_view_module_version": "1.2.0",
            "_view_name": "StyleView",
            "description_width": ""
          }
        },
        "b9e114b264a54bd0a25813dc13a2237f": {
          "model_module": "@jupyter-widgets/base",
          "model_module_version": "1.2.0",
          "model_name": "LayoutModel",
          "state": {
            "_model_module": "@jupyter-widgets/base",
            "_model_module_version": "1.2.0",
            "_model_name": "LayoutModel",
            "_view_count": null,
            "_view_module": "@jupyter-widgets/base",
            "_view_module_version": "1.2.0",
            "_view_name": "LayoutView",
            "align_content": null,
            "align_items": null,
            "align_self": null,
            "border": null,
            "bottom": null,
            "display": null,
            "flex": null,
            "flex_flow": null,
            "grid_area": null,
            "grid_auto_columns": null,
            "grid_auto_flow": null,
            "grid_auto_rows": null,
            "grid_column": null,
            "grid_gap": null,
            "grid_row": null,
            "grid_template_areas": null,
            "grid_template_columns": null,
            "grid_template_rows": null,
            "height": null,
            "justify_content": null,
            "justify_items": null,
            "left": null,
            "margin": null,
            "max_height": null,
            "max_width": null,
            "min_height": null,
            "min_width": null,
            "object_fit": null,
            "object_position": null,
            "order": null,
            "overflow": null,
            "overflow_x": null,
            "overflow_y": null,
            "padding": null,
            "right": null,
            "top": null,
            "visibility": null,
            "width": null
          }
        },
        "bcaf82a816b349e69e119c8a288dc60a": {
          "model_module": "@jupyter-widgets/controls",
          "model_module_version": "1.5.0",
          "model_name": "FloatProgressModel",
          "state": {
            "_dom_classes": [],
            "_model_module": "@jupyter-widgets/controls",
            "_model_module_version": "1.5.0",
            "_model_name": "FloatProgressModel",
            "_view_count": null,
            "_view_module": "@jupyter-widgets/controls",
            "_view_module_version": "1.5.0",
            "_view_name": "ProgressView",
            "bar_style": "success",
            "description": "",
            "description_tooltip": null,
            "layout": "IPY_MODEL_c588d6f799ae43a19f6a7f97697619d4",
            "max": 231508,
            "min": 0,
            "orientation": "horizontal",
            "style": "IPY_MODEL_61fc5aff82bd4d1db0c33b749a6087f6",
            "value": 231508
          }
        },
        "c11586ceef764cfbac0a0138c3eeee53": {
          "model_module": "@jupyter-widgets/controls",
          "model_module_version": "1.5.0",
          "model_name": "DescriptionStyleModel",
          "state": {
            "_model_module": "@jupyter-widgets/controls",
            "_model_module_version": "1.5.0",
            "_model_name": "DescriptionStyleModel",
            "_view_count": null,
            "_view_module": "@jupyter-widgets/base",
            "_view_module_version": "1.2.0",
            "_view_name": "StyleView",
            "description_width": ""
          }
        },
        "c40b1a33699248a990aff596aa9b3737": {
          "model_module": "@jupyter-widgets/controls",
          "model_module_version": "1.5.0",
          "model_name": "FloatProgressModel",
          "state": {
            "_dom_classes": [],
            "_model_module": "@jupyter-widgets/controls",
            "_model_module_version": "1.5.0",
            "_model_name": "FloatProgressModel",
            "_view_count": null,
            "_view_module": "@jupyter-widgets/controls",
            "_view_module_version": "1.5.0",
            "_view_name": "ProgressView",
            "bar_style": "success",
            "description": "",
            "description_tooltip": null,
            "layout": "IPY_MODEL_7c84b3a8b17c47809627aeaf0ed82ab8",
            "max": 483,
            "min": 0,
            "orientation": "horizontal",
            "style": "IPY_MODEL_2fd98a7999634b9eacd3bf893c8de200",
            "value": 483
          }
        },
        "c588d6f799ae43a19f6a7f97697619d4": {
          "model_module": "@jupyter-widgets/base",
          "model_module_version": "1.2.0",
          "model_name": "LayoutModel",
          "state": {
            "_model_module": "@jupyter-widgets/base",
            "_model_module_version": "1.2.0",
            "_model_name": "LayoutModel",
            "_view_count": null,
            "_view_module": "@jupyter-widgets/base",
            "_view_module_version": "1.2.0",
            "_view_name": "LayoutView",
            "align_content": null,
            "align_items": null,
            "align_self": null,
            "border": null,
            "bottom": null,
            "display": null,
            "flex": null,
            "flex_flow": null,
            "grid_area": null,
            "grid_auto_columns": null,
            "grid_auto_flow": null,
            "grid_auto_rows": null,
            "grid_column": null,
            "grid_gap": null,
            "grid_row": null,
            "grid_template_areas": null,
            "grid_template_columns": null,
            "grid_template_rows": null,
            "height": null,
            "justify_content": null,
            "justify_items": null,
            "left": null,
            "margin": null,
            "max_height": null,
            "max_width": null,
            "min_height": null,
            "min_width": null,
            "object_fit": null,
            "object_position": null,
            "order": null,
            "overflow": null,
            "overflow_x": null,
            "overflow_y": null,
            "padding": null,
            "right": null,
            "top": null,
            "visibility": null,
            "width": null
          }
        },
        "d39465051693476e90b9193bcb554143": {
          "model_module": "@jupyter-widgets/controls",
          "model_module_version": "1.5.0",
          "model_name": "DescriptionStyleModel",
          "state": {
            "_model_module": "@jupyter-widgets/controls",
            "_model_module_version": "1.5.0",
            "_model_name": "DescriptionStyleModel",
            "_view_count": null,
            "_view_module": "@jupyter-widgets/base",
            "_view_module_version": "1.2.0",
            "_view_name": "StyleView",
            "description_width": ""
          }
        },
        "d457fba654254f99a6907603667c0023": {
          "model_module": "@jupyter-widgets/controls",
          "model_module_version": "1.5.0",
          "model_name": "HTMLModel",
          "state": {
            "_dom_classes": [],
            "_model_module": "@jupyter-widgets/controls",
            "_model_module_version": "1.5.0",
            "_model_name": "HTMLModel",
            "_view_count": null,
            "_view_module": "@jupyter-widgets/controls",
            "_view_module_version": "1.5.0",
            "_view_name": "HTMLView",
            "description": "",
            "description_tooltip": null,
            "layout": "IPY_MODEL_7c0012da429b4b77848e50d66ea4f5c5",
            "placeholder": "​",
            "style": "IPY_MODEL_1af5c145b99f42e595d5c1c8dfc345b4",
            "value": "vocab.txt: 100%"
          }
        },
        "d92ea58b742249b9b2538e04b098e7cd": {
          "model_module": "@jupyter-widgets/controls",
          "model_module_version": "1.5.0",
          "model_name": "HTMLModel",
          "state": {
            "_dom_classes": [],
            "_model_module": "@jupyter-widgets/controls",
            "_model_module_version": "1.5.0",
            "_model_name": "HTMLModel",
            "_view_count": null,
            "_view_module": "@jupyter-widgets/controls",
            "_view_module_version": "1.5.0",
            "_view_name": "HTMLView",
            "description": "",
            "description_tooltip": null,
            "layout": "IPY_MODEL_3c4b8b23627345e2b47c682e57b11c90",
            "placeholder": "​",
            "style": "IPY_MODEL_b4363917174f441e9f89e72ab2d1b94b",
            "value": " 268M/268M [00:00&lt;00:00, 450MB/s]"
          }
        },
        "de0bed6d4b5946569c3a3410ba26cc06": {
          "model_module": "@jupyter-widgets/controls",
          "model_module_version": "1.5.0",
          "model_name": "HTMLModel",
          "state": {
            "_dom_classes": [],
            "_model_module": "@jupyter-widgets/controls",
            "_model_module_version": "1.5.0",
            "_model_name": "HTMLModel",
            "_view_count": null,
            "_view_module": "@jupyter-widgets/controls",
            "_view_module_version": "1.5.0",
            "_view_name": "HTMLView",
            "description": "",
            "description_tooltip": null,
            "layout": "IPY_MODEL_909bfd30e984498992dfe39051a4bf91",
            "placeholder": "​",
            "style": "IPY_MODEL_d39465051693476e90b9193bcb554143",
            "value": "model.safetensors: 100%"
          }
        },
        "de30c61a2a764dbf810d6ccf235762d0": {
          "model_module": "@jupyter-widgets/controls",
          "model_module_version": "1.5.0",
          "model_name": "DescriptionStyleModel",
          "state": {
            "_model_module": "@jupyter-widgets/controls",
            "_model_module_version": "1.5.0",
            "_model_name": "DescriptionStyleModel",
            "_view_count": null,
            "_view_module": "@jupyter-widgets/base",
            "_view_module_version": "1.2.0",
            "_view_name": "StyleView",
            "description_width": ""
          }
        },
        "dede43dd4d4f469580c1d980287df59b": {
          "model_module": "@jupyter-widgets/base",
          "model_module_version": "1.2.0",
          "model_name": "LayoutModel",
          "state": {
            "_model_module": "@jupyter-widgets/base",
            "_model_module_version": "1.2.0",
            "_model_name": "LayoutModel",
            "_view_count": null,
            "_view_module": "@jupyter-widgets/base",
            "_view_module_version": "1.2.0",
            "_view_name": "LayoutView",
            "align_content": null,
            "align_items": null,
            "align_self": null,
            "border": null,
            "bottom": null,
            "display": null,
            "flex": null,
            "flex_flow": null,
            "grid_area": null,
            "grid_auto_columns": null,
            "grid_auto_flow": null,
            "grid_auto_rows": null,
            "grid_column": null,
            "grid_gap": null,
            "grid_row": null,
            "grid_template_areas": null,
            "grid_template_columns": null,
            "grid_template_rows": null,
            "height": null,
            "justify_content": null,
            "justify_items": null,
            "left": null,
            "margin": null,
            "max_height": null,
            "max_width": null,
            "min_height": null,
            "min_width": null,
            "object_fit": null,
            "object_position": null,
            "order": null,
            "overflow": null,
            "overflow_x": null,
            "overflow_y": null,
            "padding": null,
            "right": null,
            "top": null,
            "visibility": null,
            "width": null
          }
        },
        "e1473b19112d4e14a2c185d8beed0296": {
          "model_module": "@jupyter-widgets/controls",
          "model_module_version": "1.5.0",
          "model_name": "DescriptionStyleModel",
          "state": {
            "_model_module": "@jupyter-widgets/controls",
            "_model_module_version": "1.5.0",
            "_model_name": "DescriptionStyleModel",
            "_view_count": null,
            "_view_module": "@jupyter-widgets/base",
            "_view_module_version": "1.2.0",
            "_view_name": "StyleView",
            "description_width": ""
          }
        },
        "ed65fb0564a64f35b4843645959c71a2": {
          "model_module": "@jupyter-widgets/controls",
          "model_module_version": "1.5.0",
          "model_name": "HTMLModel",
          "state": {
            "_dom_classes": [],
            "_model_module": "@jupyter-widgets/controls",
            "_model_module_version": "1.5.0",
            "_model_name": "HTMLModel",
            "_view_count": null,
            "_view_module": "@jupyter-widgets/controls",
            "_view_module_version": "1.5.0",
            "_view_name": "HTMLView",
            "description": "",
            "description_tooltip": null,
            "layout": "IPY_MODEL_474754c729fe45baba15e8e0a725aff1",
            "placeholder": "​",
            "style": "IPY_MODEL_de30c61a2a764dbf810d6ccf235762d0",
            "value": "config.json: 100%"
          }
        },
        "f2760ca021804631931b1031c024398a": {
          "model_module": "@jupyter-widgets/base",
          "model_module_version": "1.2.0",
          "model_name": "LayoutModel",
          "state": {
            "_model_module": "@jupyter-widgets/base",
            "_model_module_version": "1.2.0",
            "_model_name": "LayoutModel",
            "_view_count": null,
            "_view_module": "@jupyter-widgets/base",
            "_view_module_version": "1.2.0",
            "_view_name": "LayoutView",
            "align_content": null,
            "align_items": null,
            "align_self": null,
            "border": null,
            "bottom": null,
            "display": null,
            "flex": null,
            "flex_flow": null,
            "grid_area": null,
            "grid_auto_columns": null,
            "grid_auto_flow": null,
            "grid_auto_rows": null,
            "grid_column": null,
            "grid_gap": null,
            "grid_row": null,
            "grid_template_areas": null,
            "grid_template_columns": null,
            "grid_template_rows": null,
            "height": null,
            "justify_content": null,
            "justify_items": null,
            "left": null,
            "margin": null,
            "max_height": null,
            "max_width": null,
            "min_height": null,
            "min_width": null,
            "object_fit": null,
            "object_position": null,
            "order": null,
            "overflow": null,
            "overflow_x": null,
            "overflow_y": null,
            "padding": null,
            "right": null,
            "top": null,
            "visibility": null,
            "width": null
          }
        },
        "f2aa64dd989145babbec01c8ee92e882": {
          "model_module": "@jupyter-widgets/controls",
          "model_module_version": "1.5.0",
          "model_name": "HTMLModel",
          "state": {
            "_dom_classes": [],
            "_model_module": "@jupyter-widgets/controls",
            "_model_module_version": "1.5.0",
            "_model_name": "HTMLModel",
            "_view_count": null,
            "_view_module": "@jupyter-widgets/controls",
            "_view_module_version": "1.5.0",
            "_view_name": "HTMLView",
            "description": "",
            "description_tooltip": null,
            "layout": "IPY_MODEL_8c69425224234dd2b3579e520b06dca1",
            "placeholder": "​",
            "style": "IPY_MODEL_488b896cdf194a60a392b691584a25be",
            "value": " 232k/232k [00:00&lt;00:00, 960kB/s]"
          }
        },
        "f4cdfc22e5414cc78a625800a28f2df3": {
          "model_module": "@jupyter-widgets/base",
          "model_module_version": "1.2.0",
          "model_name": "LayoutModel",
          "state": {
            "_model_module": "@jupyter-widgets/base",
            "_model_module_version": "1.2.0",
            "_model_name": "LayoutModel",
            "_view_count": null,
            "_view_module": "@jupyter-widgets/base",
            "_view_module_version": "1.2.0",
            "_view_name": "LayoutView",
            "align_content": null,
            "align_items": null,
            "align_self": null,
            "border": null,
            "bottom": null,
            "display": null,
            "flex": null,
            "flex_flow": null,
            "grid_area": null,
            "grid_auto_columns": null,
            "grid_auto_flow": null,
            "grid_auto_rows": null,
            "grid_column": null,
            "grid_gap": null,
            "grid_row": null,
            "grid_template_areas": null,
            "grid_template_columns": null,
            "grid_template_rows": null,
            "height": null,
            "justify_content": null,
            "justify_items": null,
            "left": null,
            "margin": null,
            "max_height": null,
            "max_width": null,
            "min_height": null,
            "min_width": null,
            "object_fit": null,
            "object_position": null,
            "order": null,
            "overflow": null,
            "overflow_x": null,
            "overflow_y": null,
            "padding": null,
            "right": null,
            "top": null,
            "visibility": null,
            "width": null
          }
        },
        "fb6f7ae2f2704b8786c792f377542c00": {
          "model_module": "@jupyter-widgets/controls",
          "model_module_version": "1.5.0",
          "model_name": "ProgressStyleModel",
          "state": {
            "_model_module": "@jupyter-widgets/controls",
            "_model_module_version": "1.5.0",
            "_model_name": "ProgressStyleModel",
            "_view_count": null,
            "_view_module": "@jupyter-widgets/base",
            "_view_module_version": "1.2.0",
            "_view_name": "StyleView",
            "bar_color": null,
            "description_width": ""
          }
        }
      }
    }
  },
  "nbformat": 4,
  "nbformat_minor": 0
}
